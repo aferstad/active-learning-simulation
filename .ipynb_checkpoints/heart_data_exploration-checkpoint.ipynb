{
 "cells": [
  {
   "cell_type": "code",
   "execution_count": 15,
   "metadata": {
    "ExecuteTime": {
     "end_time": "2020-03-14T11:08:37.287606Z",
     "start_time": "2020-03-14T11:08:37.284398Z"
    }
   },
   "outputs": [],
   "source": [
    "import pandas as pd"
   ]
  },
  {
   "cell_type": "code",
   "execution_count": 16,
   "metadata": {
    "ExecuteTime": {
     "end_time": "2020-03-14T11:08:37.709193Z",
     "start_time": "2020-03-14T11:08:37.701217Z"
    }
   },
   "outputs": [],
   "source": [
    "df = pd.read_csv('heart-disease/processed.cleveland.data', header = None)\n",
    "df.columns = ['age',\n",
    "    'sex',\n",
    "    'cp',\n",
    "    'trestbps',\n",
    "    'chol',\n",
    "    'fbs',\n",
    "    'restecg',\n",
    "    'thalach',\n",
    "    'exang',\n",
    "    'oldpeak',\n",
    "    'slope',\n",
    "    'ca',\n",
    "    'thal',\n",
    "    'disease_presence']"
   ]
  },
  {
   "cell_type": "code",
   "execution_count": 18,
   "metadata": {
    "ExecuteTime": {
     "end_time": "2020-03-14T11:09:07.195454Z",
     "start_time": "2020-03-14T11:09:07.178233Z"
    }
   },
   "outputs": [],
   "source": [
    " # move label column to first position:\n",
    "disease_presence = df.disease_presence\n",
    "df = df.drop(columns=['disease_presence'])\n",
    "df.insert(0, 'disease_presence', disease_presence)\n",
    "\n",
    "# rest index to make sure index is unique:\n",
    "df = df.reset_index().drop(columns=['index'])\n",
    "\n",
    "df_with_dummies = pd.get_dummies(df, columns=['cp','restecg','slope', 'ca', 'thal'], drop_first=True)"
   ]
  },
  {
   "cell_type": "code",
   "execution_count": 20,
   "metadata": {
    "ExecuteTime": {
     "end_time": "2020-03-14T11:09:30.662077Z",
     "start_time": "2020-03-14T11:09:30.657621Z"
    }
   },
   "outputs": [
    {
     "data": {
      "text/plain": [
       "Index(['disease_presence', 'age', 'sex', 'trestbps', 'chol', 'fbs', 'thalach',\n",
       "       'exang', 'oldpeak', 'cp_2.0', 'cp_3.0', 'cp_4.0', 'restecg_1.0',\n",
       "       'restecg_2.0', 'slope_2.0', 'slope_3.0', 'ca_1.0', 'ca_2.0', 'ca_3.0',\n",
       "       'ca_?', 'thal_6.0', 'thal_7.0', 'thal_?'],\n",
       "      dtype='object')"
      ]
     },
     "execution_count": 20,
     "metadata": {},
     "output_type": "execute_result"
    }
   ],
   "source": [
    "df_with_dummies.columns"
   ]
  },
  {
   "cell_type": "code",
   "execution_count": 21,
   "metadata": {
    "ExecuteTime": {
     "end_time": "2020-03-14T11:10:17.370545Z",
     "start_time": "2020-03-14T11:10:17.365789Z"
    }
   },
   "outputs": [
    {
     "data": {
      "text/plain": [
       "4"
      ]
     },
     "execution_count": 21,
     "metadata": {},
     "output_type": "execute_result"
    }
   ],
   "source": [
    "sum(df_with_dummies['ca_?'])"
   ]
  },
  {
   "cell_type": "code",
   "execution_count": 22,
   "metadata": {
    "ExecuteTime": {
     "end_time": "2020-03-14T11:10:55.635547Z",
     "start_time": "2020-03-14T11:10:55.629028Z"
    }
   },
   "outputs": [
    {
     "data": {
      "text/plain": [
       "0    164\n",
       "1     55\n",
       "2     36\n",
       "3     35\n",
       "4     13\n",
       "Name: disease_presence, dtype: int64"
      ]
     },
     "execution_count": 22,
     "metadata": {},
     "output_type": "execute_result"
    }
   ],
   "source": [
    "df_with_dummies.disease_presence.value_counts()"
   ]
  },
  {
   "cell_type": "code",
   "execution_count": null,
   "metadata": {},
   "outputs": [],
   "source": []
  },
  {
   "cell_type": "code",
   "execution_count": 11,
   "metadata": {
    "ExecuteTime": {
     "end_time": "2020-03-14T11:03:06.642847Z",
     "start_time": "2020-03-14T11:03:06.637972Z"
    }
   },
   "outputs": [
    {
     "data": {
      "text/plain": [
       "\"\\n    age: age in years\\n    sex: sex (1 = male; 0 = female)\\n    cp: chest pain type\\n        -- Value 1: typical angina\\n        -- Value 2: atypical angina\\n        -- Value 3: non-anginal pain\\n        -- Value 4: asymptomatic\\n    trestbps: resting blood pressure (in mm Hg on admission to the \\n        hospital)\\n    chol: serum cholestoral in mg/dl\\n    fbs: (fasting blood sugar > 120 mg/dl)  (1 = true; 0 = false)\\n    restecg: resting electrocardiographic results\\n        -- Value 0: normal\\n        -- Value 1: having ST-T wave abnormality (T wave inversions and/or ST \\n                    elevation or depression of > 0.05 mV)\\n        -- Value 2: showing probable or definite left ventricular hypertrophy\\n                    by Estes' criteria\\n    thalach: maximum heart rate achieved\\n    exang: exercise induced angina (1 = yes; 0 = no)\\n    oldpeak = ST depression induced by exercise relative to rest\\n    slope: the slope of the peak exercise ST segment\\n        -- Value 1: upsloping\\n        -- Value 2: flat\\n        -- Value 3: downsloping\\n    ca: number of major vessels (0-3) colored by flourosopy\\n    thal: 3 = normal; 6 = fixed defect; 7 = reversable defect\\n    disease_presence:  integer valued from 0 (no presence) to 4\\n\""
      ]
     },
     "execution_count": 11,
     "metadata": {},
     "output_type": "execute_result"
    }
   ],
   "source": [
    "\"\"\"\n",
    "    age: age in years\n",
    "    sex: sex (1 = male; 0 = female)\n",
    "    cp: chest pain type\n",
    "        -- Value 1: typical angina\n",
    "        -- Value 2: atypical angina\n",
    "        -- Value 3: non-anginal pain\n",
    "        -- Value 4: asymptomatic\n",
    "    trestbps: resting blood pressure (in mm Hg on admission to the \n",
    "        hospital)\n",
    "    chol: serum cholestoral in mg/dl\n",
    "    fbs: (fasting blood sugar > 120 mg/dl)  (1 = true; 0 = false)\n",
    "    restecg: resting electrocardiographic results\n",
    "        -- Value 0: normal\n",
    "        -- Value 1: having ST-T wave abnormality (T wave inversions and/or ST \n",
    "                    elevation or depression of > 0.05 mV)\n",
    "        -- Value 2: showing probable or definite left ventricular hypertrophy\n",
    "                    by Estes' criteria\n",
    "    thalach: maximum heart rate achieved\n",
    "    exang: exercise induced angina (1 = yes; 0 = no)\n",
    "    oldpeak = ST depression induced by exercise relative to rest\n",
    "    slope: the slope of the peak exercise ST segment\n",
    "        -- Value 1: upsloping\n",
    "        -- Value 2: flat\n",
    "        -- Value 3: downsloping\n",
    "    ca: number of major vessels (0-3) colored by flourosopy\n",
    "    thal: 3 = normal; 6 = fixed defect; 7 = reversable defect\n",
    "    disease_presence:  integer valued from 0 (no presence) to 4\n",
    "\"\"\""
   ]
  },
  {
   "cell_type": "code",
   "execution_count": null,
   "metadata": {},
   "outputs": [],
   "source": []
  },
  {
   "cell_type": "code",
   "execution_count": 6,
   "metadata": {
    "ExecuteTime": {
     "end_time": "2020-03-14T10:53:46.948522Z",
     "start_time": "2020-03-14T10:53:46.944814Z"
    }
   },
   "outputs": [],
   "source": []
  },
  {
   "cell_type": "code",
   "execution_count": null,
   "metadata": {},
   "outputs": [],
   "source": []
  }
 ],
 "metadata": {
  "hide_input": false,
  "kernelspec": {
   "display_name": "Python 3",
   "language": "python",
   "name": "python3"
  },
  "language_info": {
   "codemirror_mode": {
    "name": "ipython",
    "version": 3
   },
   "file_extension": ".py",
   "mimetype": "text/x-python",
   "name": "python",
   "nbconvert_exporter": "python",
   "pygments_lexer": "ipython3",
   "version": "3.8.0"
  },
  "varInspector": {
   "cols": {
    "lenName": 16,
    "lenType": 16,
    "lenVar": 40
   },
   "kernels_config": {
    "python": {
     "delete_cmd_postfix": "",
     "delete_cmd_prefix": "del ",
     "library": "var_list.py",
     "varRefreshCmd": "print(var_dic_list())"
    },
    "r": {
     "delete_cmd_postfix": ") ",
     "delete_cmd_prefix": "rm(",
     "library": "var_list.r",
     "varRefreshCmd": "cat(var_dic_list()) "
    }
   },
   "types_to_exclude": [
    "module",
    "function",
    "builtin_function_or_method",
    "instance",
    "_Feature"
   ],
   "window_display": false
  }
 },
 "nbformat": 4,
 "nbformat_minor": 4
}
