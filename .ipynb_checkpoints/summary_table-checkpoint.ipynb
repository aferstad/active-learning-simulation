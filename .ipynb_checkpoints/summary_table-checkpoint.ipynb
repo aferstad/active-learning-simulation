{
 "cells": [
  {
   "cell_type": "code",
   "execution_count": 49,
   "metadata": {
    "ExecuteTime": {
     "end_time": "2020-05-04T10:19:11.892213Z",
     "start_time": "2020-05-04T10:19:11.889226Z"
    }
   },
   "outputs": [],
   "source": [
    "import alsDataManager\n",
    "import final_plotter\n",
    "import pandas as pd"
   ]
  },
  {
   "cell_type": "code",
   "execution_count": 44,
   "metadata": {
    "ExecuteTime": {
     "end_time": "2020-05-04T10:15:38.251836Z",
     "start_time": "2020-05-04T10:15:38.239233Z"
    }
   },
   "outputs": [],
   "source": [
    "no_ts = 'final_experiments/ads_lr/ads_lr_no_ts_final.txt.txt'\n",
    "name = no_ts.split('/')[1]\n",
    "no_ts = alsDataManager.open_dict_from_json(no_ts)\n",
    "\n",
    "ts = 'final_experiments/ads_lr/ads_lr_ts_final.txt.txt'\n",
    "ts = alsDataManager.open_dict_from_json(ts)\n",
    "\n",
    "no_ts = no_ts['results']\n",
    "ts = ts['results']\n",
    "exclusion_thresholds = ['threshold_5', 'threshold_50', 'threshold_500']\n",
    "n_deleted = 300\n",
    "k_low = 'threshold_100'\n",
    "k_high = 'threshold_1000'\n",
    "\n",
    "df, methods_ts = final_plotter.__merge_ts_no_ts(ts=ts, no_ts=no_ts)\n",
    "\n",
    "\n",
    "color_dict, label_dict = final_plotter.__define_color_dict(exclusion_thresholds, methods_ts)"
   ]
  },
  {
   "cell_type": "code",
   "execution_count": 60,
   "metadata": {
    "ExecuteTime": {
     "end_time": "2020-05-04T10:31:45.235504Z",
     "start_time": "2020-05-04T10:31:45.226778Z"
    }
   },
   "outputs": [],
   "source": [
    "summary_dict = {}\n",
    "\n",
    "ks = []\n",
    "for i, method in enumerate(df['accuracy']):\n",
    "    label = '_'.join(method.split('_')[2:])\n",
    "    if label in exclusion_thresholds or label.split('_')[0] != 'threshold':\n",
    "        continue\n",
    "    ks.append(int(label.split('_')[-1]))\n",
    "\n",
    "for metric in df:\n",
    "    summary_dict[metric] = {}\n",
    "    max_k = 0\n",
    "    for i, method in enumerate(df[metric]):\n",
    "        label = '_'.join(method.split('_')[2:])\n",
    "        if label in exclusion_thresholds or label == 'random':\n",
    "            continue\n",
    "        \n",
    "        method_metric = df[metric][method][n_deleted]\n",
    "        random_metric = df[metric]['learning_method_random'][n_deleted]\n",
    "        \n",
    "        pct_difference = (method_metric - random_metric) / random_metric\n",
    "        \n",
    "        if label.split('_')[0] == 'threshold':\n",
    "            if int(label.split('_')[1]) == max(ks):\n",
    "                key = 'k_high'\n",
    "            else:\n",
    "                key = 'k_low'\n",
    "        else:\n",
    "            key = label\n",
    "            \n",
    "        summary_dict[metric][key] = pct_difference\n",
    "        "
   ]
  },
  {
   "cell_type": "code",
   "execution_count": 57,
   "metadata": {
    "ExecuteTime": {
     "end_time": "2020-05-04T10:29:58.758303Z",
     "start_time": "2020-05-04T10:29:58.751901Z"
    }
   },
   "outputs": [
    {
     "data": {
      "text/plain": [
       "[100, 1000]"
      ]
     },
     "execution_count": 57,
     "metadata": {},
     "output_type": "execute_result"
    }
   ],
   "source": []
  },
  {
   "cell_type": "code",
   "execution_count": 61,
   "metadata": {
    "ExecuteTime": {
     "end_time": "2020-05-04T10:31:47.562932Z",
     "start_time": "2020-05-04T10:31:47.554604Z"
    }
   },
   "outputs": [
    {
     "data": {
      "text/html": [
       "<div>\n",
       "<style scoped>\n",
       "    .dataframe tbody tr th:only-of-type {\n",
       "        vertical-align: middle;\n",
       "    }\n",
       "\n",
       "    .dataframe tbody tr th {\n",
       "        vertical-align: top;\n",
       "    }\n",
       "\n",
       "    .dataframe thead th {\n",
       "        text-align: right;\n",
       "    }\n",
       "</style>\n",
       "<table border=\"1\" class=\"dataframe\">\n",
       "  <thead>\n",
       "    <tr style=\"text-align: right;\">\n",
       "      <th></th>\n",
       "      <th>accuracy</th>\n",
       "      <th>consistencies</th>\n",
       "    </tr>\n",
       "  </thead>\n",
       "  <tbody>\n",
       "    <tr>\n",
       "      <th>uncertainty</th>\n",
       "      <td>0.032448</td>\n",
       "      <td>-0.023814</td>\n",
       "    </tr>\n",
       "    <tr>\n",
       "      <th>similar</th>\n",
       "      <td>0.013454</td>\n",
       "      <td>0.007429</td>\n",
       "    </tr>\n",
       "    <tr>\n",
       "      <th>k_low</th>\n",
       "      <td>0.035613</td>\n",
       "      <td>-0.019031</td>\n",
       "    </tr>\n",
       "    <tr>\n",
       "      <th>k_high</th>\n",
       "      <td>0.030978</td>\n",
       "      <td>-0.012416</td>\n",
       "    </tr>\n",
       "  </tbody>\n",
       "</table>\n",
       "</div>"
      ],
      "text/plain": [
       "             accuracy  consistencies\n",
       "uncertainty  0.032448      -0.023814\n",
       "similar      0.013454       0.007429\n",
       "k_low        0.035613      -0.019031\n",
       "k_high       0.030978      -0.012416"
      ]
     },
     "execution_count": 61,
     "metadata": {},
     "output_type": "execute_result"
    }
   ],
   "source": [
    "pd.DataFrame(summary_dict)"
   ]
  },
  {
   "cell_type": "code",
   "execution_count": 62,
   "metadata": {
    "ExecuteTime": {
     "end_time": "2020-05-04T10:41:44.672562Z",
     "start_time": "2020-05-04T10:41:44.669098Z"
    }
   },
   "outputs": [],
   "source": [
    "d = alsDataManager.open_dict_from_json('summary_dict.txt')"
   ]
  },
  {
   "cell_type": "code",
   "execution_count": 71,
   "metadata": {
    "ExecuteTime": {
     "end_time": "2020-05-04T10:46:20.087649Z",
     "start_time": "2020-05-04T10:46:20.083619Z"
    }
   },
   "outputs": [],
   "source": [
    "da = {}\n",
    "dc = {}\n",
    "for key in d:\n",
    "    da[key] = {}\n",
    "    dc[key] = {}\n",
    "    \n",
    "    da[key] = d[key]['accuracy']\n",
    "    dc[key] = d[key]['consistencies']"
   ]
  },
  {
   "cell_type": "code",
   "execution_count": 73,
   "metadata": {
    "ExecuteTime": {
     "end_time": "2020-05-04T10:46:28.191046Z",
     "start_time": "2020-05-04T10:46:28.178080Z"
    }
   },
   "outputs": [
    {
     "data": {
      "text/html": [
       "<div>\n",
       "<style scoped>\n",
       "    .dataframe tbody tr th:only-of-type {\n",
       "        vertical-align: middle;\n",
       "    }\n",
       "\n",
       "    .dataframe tbody tr th {\n",
       "        vertical-align: top;\n",
       "    }\n",
       "\n",
       "    .dataframe thead th {\n",
       "        text-align: right;\n",
       "    }\n",
       "</style>\n",
       "<table border=\"1\" class=\"dataframe\">\n",
       "  <thead>\n",
       "    <tr style=\"text-align: right;\">\n",
       "      <th></th>\n",
       "      <th>ads_lr</th>\n",
       "      <th>ads_xgboost</th>\n",
       "      <th>voice_lr</th>\n",
       "      <th>voice_xgboost</th>\n",
       "      <th>heart_lr</th>\n",
       "      <th>heart_xgboost</th>\n",
       "    </tr>\n",
       "  </thead>\n",
       "  <tbody>\n",
       "    <tr>\n",
       "      <th>uncertainty</th>\n",
       "      <td>0.032448</td>\n",
       "      <td>0.021101</td>\n",
       "      <td>0.016348</td>\n",
       "      <td>0.040447</td>\n",
       "      <td>0.021711</td>\n",
       "      <td>0.007494</td>\n",
       "    </tr>\n",
       "    <tr>\n",
       "      <th>similar</th>\n",
       "      <td>0.013454</td>\n",
       "      <td>0.010321</td>\n",
       "      <td>-0.004320</td>\n",
       "      <td>-0.005024</td>\n",
       "      <td>0.006106</td>\n",
       "      <td>0.012025</td>\n",
       "    </tr>\n",
       "    <tr>\n",
       "      <th>k_low</th>\n",
       "      <td>0.035613</td>\n",
       "      <td>0.025803</td>\n",
       "      <td>0.013078</td>\n",
       "      <td>0.031403</td>\n",
       "      <td>0.024934</td>\n",
       "      <td>0.012199</td>\n",
       "    </tr>\n",
       "    <tr>\n",
       "      <th>k_high</th>\n",
       "      <td>0.030978</td>\n",
       "      <td>0.022993</td>\n",
       "      <td>0.003036</td>\n",
       "      <td>0.033539</td>\n",
       "      <td>0.016708</td>\n",
       "      <td>0.010108</td>\n",
       "    </tr>\n",
       "  </tbody>\n",
       "</table>\n",
       "</div>"
      ],
      "text/plain": [
       "               ads_lr  ads_xgboost  voice_lr  voice_xgboost  heart_lr  \\\n",
       "uncertainty  0.032448     0.021101  0.016348       0.040447  0.021711   \n",
       "similar      0.013454     0.010321 -0.004320      -0.005024  0.006106   \n",
       "k_low        0.035613     0.025803  0.013078       0.031403  0.024934   \n",
       "k_high       0.030978     0.022993  0.003036       0.033539  0.016708   \n",
       "\n",
       "             heart_xgboost  \n",
       "uncertainty       0.007494  \n",
       "similar           0.012025  \n",
       "k_low             0.012199  \n",
       "k_high            0.010108  "
      ]
     },
     "execution_count": 73,
     "metadata": {},
     "output_type": "execute_result"
    }
   ],
   "source": [
    "pd.DataFrame(da)"
   ]
  },
  {
   "cell_type": "code",
   "execution_count": 74,
   "metadata": {
    "ExecuteTime": {
     "end_time": "2020-05-04T10:46:42.997402Z",
     "start_time": "2020-05-04T10:46:42.986393Z"
    }
   },
   "outputs": [
    {
     "data": {
      "text/html": [
       "<div>\n",
       "<style scoped>\n",
       "    .dataframe tbody tr th:only-of-type {\n",
       "        vertical-align: middle;\n",
       "    }\n",
       "\n",
       "    .dataframe tbody tr th {\n",
       "        vertical-align: top;\n",
       "    }\n",
       "\n",
       "    .dataframe thead th {\n",
       "        text-align: right;\n",
       "    }\n",
       "</style>\n",
       "<table border=\"1\" class=\"dataframe\">\n",
       "  <thead>\n",
       "    <tr style=\"text-align: right;\">\n",
       "      <th></th>\n",
       "      <th>ads_lr</th>\n",
       "      <th>ads_xgboost</th>\n",
       "      <th>voice_lr</th>\n",
       "      <th>voice_xgboost</th>\n",
       "      <th>heart_lr</th>\n",
       "      <th>heart_xgboost</th>\n",
       "    </tr>\n",
       "  </thead>\n",
       "  <tbody>\n",
       "    <tr>\n",
       "      <th>uncertainty</th>\n",
       "      <td>-0.023814</td>\n",
       "      <td>-0.007247</td>\n",
       "      <td>-0.015879</td>\n",
       "      <td>-0.009409</td>\n",
       "      <td>0.010422</td>\n",
       "      <td>-0.024279</td>\n",
       "    </tr>\n",
       "    <tr>\n",
       "      <th>similar</th>\n",
       "      <td>0.007429</td>\n",
       "      <td>0.018628</td>\n",
       "      <td>0.018214</td>\n",
       "      <td>0.032116</td>\n",
       "      <td>0.011624</td>\n",
       "      <td>0.012465</td>\n",
       "    </tr>\n",
       "    <tr>\n",
       "      <th>k_low</th>\n",
       "      <td>-0.019031</td>\n",
       "      <td>-0.010575</td>\n",
       "      <td>0.001168</td>\n",
       "      <td>-0.014553</td>\n",
       "      <td>0.016354</td>\n",
       "      <td>-0.013850</td>\n",
       "    </tr>\n",
       "    <tr>\n",
       "      <th>k_high</th>\n",
       "      <td>-0.012416</td>\n",
       "      <td>-0.002899</td>\n",
       "      <td>0.014127</td>\n",
       "      <td>-0.003262</td>\n",
       "      <td>0.009620</td>\n",
       "      <td>-0.018331</td>\n",
       "    </tr>\n",
       "  </tbody>\n",
       "</table>\n",
       "</div>"
      ],
      "text/plain": [
       "               ads_lr  ads_xgboost  voice_lr  voice_xgboost  heart_lr  \\\n",
       "uncertainty -0.023814    -0.007247 -0.015879      -0.009409  0.010422   \n",
       "similar      0.007429     0.018628  0.018214       0.032116  0.011624   \n",
       "k_low       -0.019031    -0.010575  0.001168      -0.014553  0.016354   \n",
       "k_high      -0.012416    -0.002899  0.014127      -0.003262  0.009620   \n",
       "\n",
       "             heart_xgboost  \n",
       "uncertainty      -0.024279  \n",
       "similar           0.012465  \n",
       "k_low            -0.013850  \n",
       "k_high           -0.018331  "
      ]
     },
     "execution_count": 74,
     "metadata": {},
     "output_type": "execute_result"
    }
   ],
   "source": [
    "pd.DataFrame(dc)"
   ]
  },
  {
   "cell_type": "code",
   "execution_count": null,
   "metadata": {},
   "outputs": [],
   "source": []
  }
 ],
 "metadata": {
  "hide_input": false,
  "kernelspec": {
   "display_name": "Python 3",
   "language": "python",
   "name": "python3"
  },
  "language_info": {
   "codemirror_mode": {
    "name": "ipython",
    "version": 3
   },
   "file_extension": ".py",
   "mimetype": "text/x-python",
   "name": "python",
   "nbconvert_exporter": "python",
   "pygments_lexer": "ipython3",
   "version": "3.8.0"
  },
  "varInspector": {
   "cols": {
    "lenName": 16,
    "lenType": 16,
    "lenVar": 40
   },
   "kernels_config": {
    "python": {
     "delete_cmd_postfix": "",
     "delete_cmd_prefix": "del ",
     "library": "var_list.py",
     "varRefreshCmd": "print(var_dic_list())"
    },
    "r": {
     "delete_cmd_postfix": ") ",
     "delete_cmd_prefix": "rm(",
     "library": "var_list.r",
     "varRefreshCmd": "cat(var_dic_list()) "
    }
   },
   "types_to_exclude": [
    "module",
    "function",
    "builtin_function_or_method",
    "instance",
    "_Feature"
   ],
   "window_display": false
  }
 },
 "nbformat": 4,
 "nbformat_minor": 4
}
