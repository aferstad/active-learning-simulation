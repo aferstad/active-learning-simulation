{
 "cells": [
  {
   "cell_type": "code",
   "execution_count": 69,
   "metadata": {
    "ExecuteTime": {
     "end_time": "2020-01-09T13:33:25.424987Z",
     "start_time": "2020-01-09T13:33:25.420810Z"
    }
   },
   "outputs": [],
   "source": [
    "import numpy as np\n",
    "\n",
    "X = np.array([[5,3],\n",
    "    [10,15],\n",
    "    [15,12],\n",
    "    [24,10],\n",
    "    [30,30],\n",
    "    [85,70],\n",
    "    [71,80],\n",
    "    [60,78],\n",
    "    [70,55],\n",
    "    [80,91],])"
   ]
  },
  {
   "cell_type": "code",
   "execution_count": 164,
   "metadata": {
    "ExecuteTime": {
     "end_time": "2020-01-09T14:43:01.620951Z",
     "start_time": "2020-01-09T14:43:01.616318Z"
    }
   },
   "outputs": [],
   "source": [
    "from scipy import spatial # for nearest neighbour https://codegolf.stackexchange.com/questions/45611/fastest-array-by-array-nearest-neighbour-search\n",
    "import numpy as np\n",
    "import pandas as pd\n",
    "\n",
    "def nearest_neighbour(points_a, points_b):\n",
    "    '''\n",
    "    for each row in array A, \n",
    "    finds a row in array B such that \n",
    "    (A[i,1]-B[j,1])^2+(A[i,2]-B[j,2])^2\n",
    "    is minimal and then stores the correspondin\n",
    "    g row number j.\n",
    "    '''\n",
    "    tree = spatial.cKDTree(points_b)\n",
    "    return pd.Series(tree.query(points_a)[1])"
   ]
  },
  {
   "cell_type": "code",
   "execution_count": 178,
   "metadata": {
    "ExecuteTime": {
     "end_time": "2020-01-09T14:53:13.244254Z",
     "start_time": "2020-01-09T14:53:13.222338Z"
    }
   },
   "outputs": [
    {
     "data": {
      "text/html": [
       "<div>\n",
       "<style scoped>\n",
       "    .dataframe tbody tr th:only-of-type {\n",
       "        vertical-align: middle;\n",
       "    }\n",
       "\n",
       "    .dataframe tbody tr th {\n",
       "        vertical-align: top;\n",
       "    }\n",
       "\n",
       "    .dataframe thead th {\n",
       "        text-align: right;\n",
       "    }\n",
       "</style>\n",
       "<table border=\"1\" class=\"dataframe\">\n",
       "  <thead>\n",
       "    <tr style=\"text-align: right;\">\n",
       "      <th></th>\n",
       "      <th>GRE Score</th>\n",
       "      <th>TOEFL Score</th>\n",
       "      <th>University Rating</th>\n",
       "      <th>SOP</th>\n",
       "      <th>LOR</th>\n",
       "      <th>CGPA</th>\n",
       "      <th>Research</th>\n",
       "    </tr>\n",
       "  </thead>\n",
       "  <tbody>\n",
       "    <tr>\n",
       "      <th>470</th>\n",
       "      <td>320</td>\n",
       "      <td>110</td>\n",
       "      <td>5</td>\n",
       "      <td>4.0</td>\n",
       "      <td>4.0</td>\n",
       "      <td>9.27</td>\n",
       "      <td>1</td>\n",
       "    </tr>\n",
       "    <tr>\n",
       "      <th>445</th>\n",
       "      <td>328</td>\n",
       "      <td>116</td>\n",
       "      <td>5</td>\n",
       "      <td>4.5</td>\n",
       "      <td>5.0</td>\n",
       "      <td>9.08</td>\n",
       "      <td>1</td>\n",
       "    </tr>\n",
       "    <tr>\n",
       "      <th>492</th>\n",
       "      <td>298</td>\n",
       "      <td>101</td>\n",
       "      <td>4</td>\n",
       "      <td>2.5</td>\n",
       "      <td>4.5</td>\n",
       "      <td>7.69</td>\n",
       "      <td>1</td>\n",
       "    </tr>\n",
       "    <tr>\n",
       "      <th>216</th>\n",
       "      <td>322</td>\n",
       "      <td>112</td>\n",
       "      <td>4</td>\n",
       "      <td>4.5</td>\n",
       "      <td>4.5</td>\n",
       "      <td>9.26</td>\n",
       "      <td>1</td>\n",
       "    </tr>\n",
       "    <tr>\n",
       "      <th>395</th>\n",
       "      <td>324</td>\n",
       "      <td>110</td>\n",
       "      <td>3</td>\n",
       "      <td>3.5</td>\n",
       "      <td>3.5</td>\n",
       "      <td>9.04</td>\n",
       "      <td>1</td>\n",
       "    </tr>\n",
       "  </tbody>\n",
       "</table>\n",
       "</div>"
      ],
      "text/plain": [
       "     GRE Score  TOEFL Score  University Rating  SOP  LOR   CGPA  Research\n",
       "470        320          110                  5  4.0   4.0  9.27         1\n",
       "445        328          116                  5  4.5   5.0  9.08         1\n",
       "492        298          101                  4  2.5   4.5  7.69         1\n",
       "216        322          112                  4  4.5   4.5  9.26         1\n",
       "395        324          110                  3  3.5   3.5  9.04         1"
      ]
     },
     "execution_count": 178,
     "metadata": {},
     "output_type": "execute_result"
    }
   ],
   "source": [
    "AB = df.sample(n=10)\n",
    "deleted_data = AB[0:5]\n",
    "unlabeled_data = AB[5:10]\n",
    "deleted_data"
   ]
  },
  {
   "cell_type": "code",
   "execution_count": 179,
   "metadata": {
    "ExecuteTime": {
     "end_time": "2020-01-09T14:53:17.753146Z",
     "start_time": "2020-01-09T14:53:17.732460Z"
    }
   },
   "outputs": [
    {
     "data": {
      "text/html": [
       "<div>\n",
       "<style scoped>\n",
       "    .dataframe tbody tr th:only-of-type {\n",
       "        vertical-align: middle;\n",
       "    }\n",
       "\n",
       "    .dataframe tbody tr th {\n",
       "        vertical-align: top;\n",
       "    }\n",
       "\n",
       "    .dataframe thead th {\n",
       "        text-align: right;\n",
       "    }\n",
       "</style>\n",
       "<table border=\"1\" class=\"dataframe\">\n",
       "  <thead>\n",
       "    <tr style=\"text-align: right;\">\n",
       "      <th></th>\n",
       "      <th>GRE Score</th>\n",
       "      <th>TOEFL Score</th>\n",
       "      <th>University Rating</th>\n",
       "      <th>SOP</th>\n",
       "      <th>LOR</th>\n",
       "      <th>CGPA</th>\n",
       "      <th>Research</th>\n",
       "    </tr>\n",
       "  </thead>\n",
       "  <tbody>\n",
       "    <tr>\n",
       "      <th>292</th>\n",
       "      <td>302</td>\n",
       "      <td>99</td>\n",
       "      <td>2</td>\n",
       "      <td>1.0</td>\n",
       "      <td>2.0</td>\n",
       "      <td>7.97</td>\n",
       "      <td>0</td>\n",
       "    </tr>\n",
       "    <tr>\n",
       "      <th>92</th>\n",
       "      <td>298</td>\n",
       "      <td>98</td>\n",
       "      <td>2</td>\n",
       "      <td>4.0</td>\n",
       "      <td>3.0</td>\n",
       "      <td>8.03</td>\n",
       "      <td>0</td>\n",
       "    </tr>\n",
       "    <tr>\n",
       "      <th>242</th>\n",
       "      <td>324</td>\n",
       "      <td>115</td>\n",
       "      <td>3</td>\n",
       "      <td>3.5</td>\n",
       "      <td>3.0</td>\n",
       "      <td>8.76</td>\n",
       "      <td>1</td>\n",
       "    </tr>\n",
       "    <tr>\n",
       "      <th>399</th>\n",
       "      <td>333</td>\n",
       "      <td>117</td>\n",
       "      <td>4</td>\n",
       "      <td>5.0</td>\n",
       "      <td>4.0</td>\n",
       "      <td>9.66</td>\n",
       "      <td>1</td>\n",
       "    </tr>\n",
       "    <tr>\n",
       "      <th>61</th>\n",
       "      <td>307</td>\n",
       "      <td>101</td>\n",
       "      <td>3</td>\n",
       "      <td>4.0</td>\n",
       "      <td>3.0</td>\n",
       "      <td>8.20</td>\n",
       "      <td>0</td>\n",
       "    </tr>\n",
       "  </tbody>\n",
       "</table>\n",
       "</div>"
      ],
      "text/plain": [
       "     GRE Score  TOEFL Score  University Rating  SOP  LOR   CGPA  Research\n",
       "292        302           99                  2  1.0   2.0  7.97         0\n",
       "92         298           98                  2  4.0   3.0  8.03         0\n",
       "242        324          115                  3  3.5   3.0  8.76         1\n",
       "399        333          117                  4  5.0   4.0  9.66         1\n",
       "61         307          101                  3  4.0   3.0  8.20         0"
      ]
     },
     "execution_count": 179,
     "metadata": {},
     "output_type": "execute_result"
    }
   ],
   "source": [
    "unlabeled_data"
   ]
  },
  {
   "cell_type": "code",
   "execution_count": 180,
   "metadata": {
    "ExecuteTime": {
     "end_time": "2020-01-09T14:53:20.887451Z",
     "start_time": "2020-01-09T14:53:20.881063Z"
    }
   },
   "outputs": [
    {
     "data": {
      "text/plain": [
       "0    2\n",
       "1    2\n",
       "2    1\n",
       "3    2\n",
       "4    2\n",
       "dtype: int64"
      ]
     },
     "execution_count": 180,
     "metadata": {},
     "output_type": "execute_result"
    }
   ],
   "source": [
    "# For each deleted point, find get the index of the nearest unlabeled neighbour to that deleted point:\n",
    "closest_rows = nearest_neighbour(deleted_data, unlabeled_data)\n",
    "closest_rows"
   ]
  },
  {
   "cell_type": "code",
   "execution_count": 207,
   "metadata": {
    "ExecuteTime": {
     "end_time": "2020-01-09T15:03:44.143889Z",
     "start_time": "2020-01-09T15:03:44.128214Z"
    }
   },
   "outputs": [],
   "source": [
    "# For each deleted point, find get the index of the nearest unlabeled neighbour to that deleted point:\n",
    "# NOTE: the output indexes are 0,1,2.. not the original indexes of the rows of unlabeled_data \n",
    "closest_rows = nearest_neighbour(deleted_data, unlabeled_data) \n",
    "\n",
    "# Then count whether any unlabeled point is the closest to more than one deleted point\n",
    "popularity = closest_rows.value_counts().reset_index()\n",
    "popularity.columns = ['unlabeled_row_index', 'cnt']\n",
    "popularity.sort_values('cnt',inplace = True, ascending = False)\n",
    "\n",
    "# Select the unlabeled points that have the top close deleted neighbours\n",
    "most_popular = popularity[popularity.cnt == max(popularity.cnt)]\n",
    "\n",
    "unlabeled_data.iloc[2]\n",
    "\n",
    "unlabeled = []\n",
    "\n",
    "for index in closest_rows.index:\n",
    "    row = unlabeled_data.iloc[index]\n",
    "    #print(row)\n",
    "    unlabeled.append(row)\n",
    "    \n",
    "unlabeled = pd.DataFrame(unlabeled)"
   ]
  },
  {
   "cell_type": "code",
   "execution_count": 208,
   "metadata": {
    "ExecuteTime": {
     "end_time": "2020-01-09T15:03:47.965577Z",
     "start_time": "2020-01-09T15:03:47.943848Z"
    }
   },
   "outputs": [
    {
     "data": {
      "text/html": [
       "<div>\n",
       "<style scoped>\n",
       "    .dataframe tbody tr th:only-of-type {\n",
       "        vertical-align: middle;\n",
       "    }\n",
       "\n",
       "    .dataframe tbody tr th {\n",
       "        vertical-align: top;\n",
       "    }\n",
       "\n",
       "    .dataframe thead th {\n",
       "        text-align: right;\n",
       "    }\n",
       "</style>\n",
       "<table border=\"1\" class=\"dataframe\">\n",
       "  <thead>\n",
       "    <tr style=\"text-align: right;\">\n",
       "      <th></th>\n",
       "      <th>GRE Score</th>\n",
       "      <th>TOEFL Score</th>\n",
       "      <th>University Rating</th>\n",
       "      <th>SOP</th>\n",
       "      <th>LOR</th>\n",
       "      <th>CGPA</th>\n",
       "      <th>Research</th>\n",
       "    </tr>\n",
       "  </thead>\n",
       "  <tbody>\n",
       "    <tr>\n",
       "      <th>292</th>\n",
       "      <td>302.0</td>\n",
       "      <td>99.0</td>\n",
       "      <td>2.0</td>\n",
       "      <td>1.0</td>\n",
       "      <td>2.0</td>\n",
       "      <td>7.97</td>\n",
       "      <td>0.0</td>\n",
       "    </tr>\n",
       "    <tr>\n",
       "      <th>92</th>\n",
       "      <td>298.0</td>\n",
       "      <td>98.0</td>\n",
       "      <td>2.0</td>\n",
       "      <td>4.0</td>\n",
       "      <td>3.0</td>\n",
       "      <td>8.03</td>\n",
       "      <td>0.0</td>\n",
       "    </tr>\n",
       "    <tr>\n",
       "      <th>242</th>\n",
       "      <td>324.0</td>\n",
       "      <td>115.0</td>\n",
       "      <td>3.0</td>\n",
       "      <td>3.5</td>\n",
       "      <td>3.0</td>\n",
       "      <td>8.76</td>\n",
       "      <td>1.0</td>\n",
       "    </tr>\n",
       "    <tr>\n",
       "      <th>399</th>\n",
       "      <td>333.0</td>\n",
       "      <td>117.0</td>\n",
       "      <td>4.0</td>\n",
       "      <td>5.0</td>\n",
       "      <td>4.0</td>\n",
       "      <td>9.66</td>\n",
       "      <td>1.0</td>\n",
       "    </tr>\n",
       "    <tr>\n",
       "      <th>61</th>\n",
       "      <td>307.0</td>\n",
       "      <td>101.0</td>\n",
       "      <td>3.0</td>\n",
       "      <td>4.0</td>\n",
       "      <td>3.0</td>\n",
       "      <td>8.20</td>\n",
       "      <td>0.0</td>\n",
       "    </tr>\n",
       "  </tbody>\n",
       "</table>\n",
       "</div>"
      ],
      "text/plain": [
       "     GRE Score  TOEFL Score  University Rating  SOP  LOR   CGPA  Research\n",
       "292      302.0         99.0                2.0  1.0   2.0  7.97       0.0\n",
       "92       298.0         98.0                2.0  4.0   3.0  8.03       0.0\n",
       "242      324.0        115.0                3.0  3.5   3.0  8.76       1.0\n",
       "399      333.0        117.0                4.0  5.0   4.0  9.66       1.0\n",
       "61       307.0        101.0                3.0  4.0   3.0  8.20       0.0"
      ]
     },
     "execution_count": 208,
     "metadata": {},
     "output_type": "execute_result"
    }
   ],
   "source": [
    "unlabeled"
   ]
  },
  {
   "cell_type": "code",
   "execution_count": 70,
   "metadata": {
    "ExecuteTime": {
     "end_time": "2020-01-09T13:33:26.099720Z",
     "start_time": "2020-01-09T13:33:25.803589Z"
    }
   },
   "outputs": [
    {
     "data": {
      "image/png": "[encoded data removed]",
      "text/plain": [
       "<Figure size 720x504 with 1 Axes>"
      ]
     },
     "metadata": {
      "needs_background": "light"
     },
     "output_type": "display_data"
    }
   ],
   "source": [
    "import matplotlib.pyplot as plt\n",
    "\n",
    "labels = range(1, 11)\n",
    "plt.figure(figsize=(10, 7))\n",
    "plt.subplots_adjust(bottom=0.1)\n",
    "plt.scatter(X[:,0],X[:,1], label='True Position')\n",
    "\n",
    "for label, x, y in zip(labels, X[:, 0], X[:, 1]):\n",
    "    plt.annotate(\n",
    "        label,\n",
    "        xy=(x, y), xytext=(-3, 3),\n",
    "        textcoords='offset points', ha='right', va='bottom')\n",
    "plt.show()"
   ]
  },
  {
   "cell_type": "code",
   "execution_count": 71,
   "metadata": {
    "ExecuteTime": {
     "end_time": "2020-01-09T13:33:26.605871Z",
     "start_time": "2020-01-09T13:33:26.316081Z"
    }
   },
   "outputs": [
    {
     "data": {
      "image/png": "[encoded data removed]",
      "text/plain": [
       "<Figure size 720x504 with 1 Axes>"
      ]
     },
     "metadata": {
      "needs_background": "light"
     },
     "output_type": "display_data"
    }
   ],
   "source": [
    "from scipy.cluster.hierarchy import dendrogram, linkage\n",
    "from matplotlib import pyplot as plt\n",
    "\n",
    "linked = linkage(X, 'single')\n",
    "\n",
    "labelList = range(1, 11)\n",
    "\n",
    "plt.figure(figsize=(10, 7))\n",
    "dendrogram(linked,\n",
    "            orientation='top',\n",
    "            labels=labelList,\n",
    "            distance_sort='descending',\n",
    "            show_leaf_counts=True)\n",
    "plt.show()"
   ]
  },
  {
   "cell_type": "code",
   "execution_count": 72,
   "metadata": {
    "ExecuteTime": {
     "end_time": "2020-01-09T13:33:27.236354Z",
     "start_time": "2020-01-09T13:33:27.233228Z"
    }
   },
   "outputs": [],
   "source": [
    "from input.admission_import import get_admission_data"
   ]
  },
  {
   "cell_type": "code",
   "execution_count": 73,
   "metadata": {
    "ExecuteTime": {
     "end_time": "2020-01-09T13:33:27.844080Z",
     "start_time": "2020-01-09T13:33:27.841033Z"
    }
   },
   "outputs": [],
   "source": [
    "import pandas as pd"
   ]
  },
  {
   "cell_type": "code",
   "execution_count": 74,
   "metadata": {
    "ExecuteTime": {
     "end_time": "2020-01-09T13:33:28.346292Z",
     "start_time": "2020-01-09T13:33:28.335755Z"
    }
   },
   "outputs": [
    {
     "name": "stdout",
     "output_type": "stream",
     "text": [
      "admission data import succesful\n"
     ]
    }
   ],
   "source": [
    "df = get_admission_data()"
   ]
  },
  {
   "cell_type": "code",
   "execution_count": 75,
   "metadata": {
    "ExecuteTime": {
     "end_time": "2020-01-09T13:33:28.869491Z",
     "start_time": "2020-01-09T13:33:28.864163Z"
    }
   },
   "outputs": [],
   "source": [
    "unlabeled = df.drop(columns=['above_median_chance'])"
   ]
  },
  {
   "cell_type": "code",
   "execution_count": 76,
   "metadata": {
    "ExecuteTime": {
     "end_time": "2020-01-09T13:33:29.701643Z",
     "start_time": "2020-01-09T13:33:29.697063Z"
    }
   },
   "outputs": [
    {
     "data": {
      "text/plain": [
       "(500, 8)"
      ]
     },
     "execution_count": 76,
     "metadata": {},
     "output_type": "execute_result"
    }
   ],
   "source": [
    "df.shape"
   ]
  },
  {
   "cell_type": "code",
   "execution_count": 96,
   "metadata": {
    "ExecuteTime": {
     "end_time": "2020-01-09T13:50:15.740523Z",
     "start_time": "2020-01-09T13:50:15.496313Z"
    }
   },
   "outputs": [
    {
     "data": {
      "image/png": "[encoded data removed]",
      "text/plain": [
       "<Figure size 720x504 with 1 Axes>"
      ]
     },
     "metadata": {
      "needs_background": "light"
     },
     "output_type": "display_data"
    }
   ],
   "source": [
    "X = df.sample(n = 500)\n",
    "X = X.reset_index().drop(columns = ['index'])\n",
    "linked = linkage(X.drop(columns = ['above_median_chance']), 'complete')\n",
    "labelList = list(X.above_median_chance)\n",
    "plt.figure(figsize=(10, 7))\n",
    "d = dendrogram(Z = linked,\n",
    "               p = 2,\n",
    "           orientation='left',\n",
    "            labels=labelList,\n",
    "            distance_sort='descending',\n",
    "            show_leaf_counts=True,\n",
    "              truncate_mode = 'level')\n",
    "plt.show()"
   ]
  },
  {
   "cell_type": "code",
   "execution_count": 84,
   "metadata": {
    "ExecuteTime": {
     "end_time": "2020-01-09T13:40:49.551829Z",
     "start_time": "2020-01-09T13:40:49.545200Z"
    }
   },
   "outputs": [
    {
     "data": {
      "text/plain": [
       "array([[11.        , 12.        ,  2.37907545,  2.        ],\n",
       "       [ 7.        , 14.        ,  3.00880375,  2.        ],\n",
       "       [13.        , 18.        ,  3.43138456,  2.        ],\n",
       "       [ 1.        ,  6.        ,  3.85643618,  2.        ],\n",
       "       [ 0.        ,  8.        ,  4.3256907 ,  2.        ],\n",
       "       [ 2.        ,  3.        ,  4.39517918,  2.        ],\n",
       "       [10.        , 16.        ,  5.02111541,  2.        ],\n",
       "       [ 4.        , 19.        ,  5.04984158,  2.        ],\n",
       "       [ 5.        , 24.        ,  5.35227989,  3.        ],\n",
       "       [ 9.        , 20.        ,  5.46334147,  3.        ],\n",
       "       [22.        , 23.        ,  7.4025401 ,  4.        ],\n",
       "       [17.        , 30.        ,  9.34890903,  5.        ],\n",
       "       [25.        , 26.        ,  9.91064579,  4.        ],\n",
       "       [15.        , 29.        , 10.25914714,  4.        ],\n",
       "       [21.        , 27.        , 12.37695035,  4.        ],\n",
       "       [31.        , 34.        , 14.81271076,  9.        ],\n",
       "       [28.        , 32.        , 21.58354929,  7.        ],\n",
       "       [33.        , 35.        , 26.59766155, 13.        ],\n",
       "       [36.        , 37.        , 50.80965361, 20.        ]])"
      ]
     },
     "execution_count": 84,
     "metadata": {},
     "output_type": "execute_result"
    }
   ],
   "source": [
    "linked"
   ]
  },
  {
   "cell_type": "code",
   "execution_count": 83,
   "metadata": {
    "ExecuteTime": {
     "end_time": "2020-01-09T13:36:57.124011Z",
     "start_time": "2020-01-09T13:36:57.117585Z"
    }
   },
   "outputs": [
    {
     "data": {
      "text/plain": [
       "[[15.0, 15.0, 25.0, 25.0],\n",
       " [5.0, 5.0, 20.0, 20.0],\n",
       " [35.0, 35.0, 45.0, 45.0],\n",
       " [55.0, 55.0, 65.0, 65.0],\n",
       " [40.0, 40.0, 60.0, 60.0],\n",
       " [12.5, 12.5, 50.0, 50.0],\n",
       " [95.0, 95.0, 105.0, 105.0],\n",
       " [85.0, 85.0, 100.0, 100.0],\n",
       " [75.0, 75.0, 92.5, 92.5],\n",
       " [125.0, 125.0, 135.0, 135.0],\n",
       " [145.0, 145.0, 155.0, 155.0],\n",
       " [130.0, 130.0, 150.0, 150.0],\n",
       " [115.0, 115.0, 140.0, 140.0],\n",
       " [165.0, 165.0, 175.0, 175.0],\n",
       " [185.0, 185.0, 195.0, 195.0],\n",
       " [170.0, 170.0, 190.0, 190.0],\n",
       " [127.5, 127.5, 180.0, 180.0],\n",
       " [83.75, 83.75, 153.75, 153.75],\n",
       " [31.25, 31.25, 118.75, 118.75]]"
      ]
     },
     "execution_count": 83,
     "metadata": {},
     "output_type": "execute_result"
    }
   ],
   "source": [
    "d['icoord']"
   ]
  },
  {
   "cell_type": "code",
   "execution_count": 81,
   "metadata": {
    "ExecuteTime": {
     "end_time": "2020-01-09T13:34:16.392830Z",
     "start_time": "2020-01-09T13:34:16.387599Z"
    }
   },
   "outputs": [
    {
     "data": {
      "text/plain": [
       "[39,\n",
       " 22,\n",
       " 4,\n",
       " 41,\n",
       " 49,\n",
       " 1,\n",
       " 19,\n",
       " 34,\n",
       " 48,\n",
       " 42,\n",
       " 3,\n",
       " 33,\n",
       " 2,\n",
       " 5,\n",
       " 11,\n",
       " 46,\n",
       " 43,\n",
       " 44,\n",
       " 24,\n",
       " 10,\n",
       " 16,\n",
       " 30,\n",
       " 12,\n",
       " 35,\n",
       " 23,\n",
       " 32,\n",
       " 28,\n",
       " 37,\n",
       " 7,\n",
       " 8,\n",
       " 0,\n",
       " 9,\n",
       " 13,\n",
       " 20,\n",
       " 26,\n",
       " 29,\n",
       " 27,\n",
       " 18,\n",
       " 38,\n",
       " 17,\n",
       " 31,\n",
       " 45,\n",
       " 14,\n",
       " 47,\n",
       " 25,\n",
       " 36,\n",
       " 40,\n",
       " 21,\n",
       " 6,\n",
       " 15]"
      ]
     },
     "execution_count": 81,
     "metadata": {},
     "output_type": "execute_result"
    }
   ],
   "source": [
    "d['leaves']"
   ]
  },
  {
   "cell_type": "code",
   "execution_count": null,
   "metadata": {},
   "outputs": [],
   "source": [
    "# function to compute total within-cluster sum of squares\n",
    "fviz_nbclust(mammals_scaled, kmeans, method = \"wss\", k.max = 24) + theme_minimal() + ggtitle(\"the Elbow Method\")"
   ]
  },
  {
   "cell_type": "code",
   "execution_count": 52,
   "metadata": {
    "ExecuteTime": {
     "end_time": "2020-01-09T13:27:40.086107Z",
     "start_time": "2020-01-09T13:27:39.378673Z"
    }
   },
   "outputs": [],
   "source": [
    "import pandas as pd\n",
    "import numpy as np\n",
    "import matplotlib.pyplot as plt\n",
    "%matplotlib inline \n",
    "from sklearn.cluster import KMeans\n",
    "from sklearn import datasets\n",
    "iris = datasets.load_iris()\n",
    "#we are usingh\n",
    "df=pd.DataFrame(iris['data'])\n"
   ]
  },
  {
   "cell_type": "code",
   "execution_count": 100,
   "metadata": {
    "ExecuteTime": {
     "end_time": "2020-01-09T13:54:25.882409Z",
     "start_time": "2020-01-09T13:54:25.868558Z"
    }
   },
   "outputs": [
    {
     "name": "stdout",
     "output_type": "stream",
     "text": [
      "admission data import succesful\n"
     ]
    }
   ],
   "source": [
    "df = get_admission_data()\n",
    "df = df.sample(n=500).drop(columns = ['above_median_chance'])"
   ]
  },
  {
   "cell_type": "code",
   "execution_count": 101,
   "metadata": {
    "ExecuteTime": {
     "end_time": "2020-01-09T13:54:26.685222Z",
     "start_time": "2020-01-09T13:54:26.679135Z"
    }
   },
   "outputs": [],
   "source": [
    "from sklearn import preprocessing\n",
    "mm_scaler = preprocessing.MinMaxScaler()\n",
    "X_train_minmax = mm_scaler.fit_transform(df)\n",
    "#mm_scaler.transform(X_test)"
   ]
  },
  {
   "cell_type": "code",
   "execution_count": 120,
   "metadata": {
    "ExecuteTime": {
     "end_time": "2020-01-09T14:01:00.728005Z",
     "start_time": "2020-01-09T14:00:36.695935Z"
    }
   },
   "outputs": [],
   "source": [
    "distortions = []\n",
    "K = range(2,100)\n",
    "for k in K:\n",
    "    kmeanModel = KMeans(n_clusters=k)\n",
    "    kmeanModel.fit(X_train_minmax)\n",
    "    distortions.append(kmeanModel.inertia_)"
   ]
  },
  {
   "cell_type": "code",
   "execution_count": 108,
   "metadata": {
    "ExecuteTime": {
     "end_time": "2020-01-09T13:55:53.615733Z",
     "start_time": "2020-01-09T13:55:53.610832Z"
    }
   },
   "outputs": [
    {
     "data": {
      "text/plain": [
       "31.576953690106777"
      ]
     },
     "execution_count": 108,
     "metadata": {},
     "output_type": "execute_result"
    }
   ],
   "source": [
    "np.std(distortions)"
   ]
  },
  {
   "cell_type": "code",
   "execution_count": 121,
   "metadata": {
    "ExecuteTime": {
     "end_time": "2020-01-09T14:01:07.147024Z",
     "start_time": "2020-01-09T14:01:06.779796Z"
    }
   },
   "outputs": [
    {
     "data": {
      "image/png": "[encoded data removed]",
      "text/plain": [
       "<Figure size 1152x576 with 1 Axes>"
      ]
     },
     "metadata": {
      "needs_background": "light"
     },
     "output_type": "display_data"
    }
   ],
   "source": [
    "plt.figure(figsize=(16,8))\n",
    "#plt.plot(K, distortions, 'bx-')\n",
    "plt.errorbar(K, distortions, yerr = np.std(distortions))\n",
    "plt.xlabel('k')\n",
    "plt.axhline(y = np.min(distortions) + np.std(distortions))\n",
    "plt.ylabel('Distortion')\n",
    "plt.title('The Elbow Method showing the optimal k')\n",
    "plt.show()"
   ]
  },
  {
   "cell_type": "code",
   "execution_count": 130,
   "metadata": {
    "ExecuteTime": {
     "end_time": "2020-01-09T14:05:16.449440Z",
     "start_time": "2020-01-09T14:05:16.443061Z"
    }
   },
   "outputs": [
    {
     "data": {
      "text/plain": [
       "[131.70446426351685,\n",
       " 92.13100759841433,\n",
       " 72.20474932028402,\n",
       " 63.380577765496945,\n",
       " 57.02632332407182,\n",
       " 53.31282252274896,\n",
       " 50.18156744612798,\n",
       " 47.41756871183439,\n",
       " 45.81342900894898,\n",
       " 43.559706813580306,\n",
       " 42.39841379677205,\n",
       " 40.71018987484421,\n",
       " 39.22533081842457,\n",
       " 38.20723618940676,\n",
       " 36.750328253758056,\n",
       " 35.84857405215871,\n",
       " 34.801954724963,\n",
       " 34.04835920326231,\n",
       " 33.09129102530443,\n",
       " 32.46791795871831,\n",
       " 31.747765001729242,\n",
       " 30.403156105154327,\n",
       " 30.141513849562656,\n",
       " 29.434003038096144,\n",
       " 29.33939892230277,\n",
       " 28.71807919546937,\n",
       " 27.921105785434573,\n",
       " 27.482614564549678,\n",
       " 26.946671696960415,\n",
       " 26.313049528303182,\n",
       " 26.083063043508368,\n",
       " 25.452861431107287,\n",
       " 25.35190660154055,\n",
       " 24.60408940853364,\n",
       " 24.36214383643901,\n",
       " 24.026365124856067,\n",
       " 23.85474183481694,\n",
       " 23.739289805474804,\n",
       " 22.975941159877646,\n",
       " 22.753984700668124,\n",
       " 22.39412550927283,\n",
       " 21.75578628969095,\n",
       " 21.976340741065982,\n",
       " 21.30390325357714,\n",
       " 20.9516738591228,\n",
       " 20.885446207192253,\n",
       " 20.754657365654133,\n",
       " 20.44513763542209,\n",
       " 19.998374303665027,\n",
       " 19.95230152287204,\n",
       " 19.682139983382452,\n",
       " 19.459858933591637,\n",
       " 19.03082771154844,\n",
       " 18.73231193744079,\n",
       " 18.365907351293828,\n",
       " 18.46772813115673,\n",
       " 18.060164292934274,\n",
       " 17.906677103118703,\n",
       " 17.746190947527246,\n",
       " 17.57781822274798,\n",
       " 17.29219978567636,\n",
       " 17.05620592582047,\n",
       " 16.78932762980505,\n",
       " 16.47973652818657,\n",
       " 16.58321066561428,\n",
       " 16.036460955557022,\n",
       " 16.180534390573754,\n",
       " 15.806778472169604,\n",
       " 15.92749138884115,\n",
       " 15.702476089565279,\n",
       " 15.499514996327022,\n",
       " 15.390128780576356,\n",
       " 15.210274394765804,\n",
       " 14.991309329474383,\n",
       " 15.09515583840583,\n",
       " 14.674744952859136,\n",
       " 14.520604985569381,\n",
       " 14.160292905880718,\n",
       " 14.509759425040004,\n",
       " 14.209327598986448,\n",
       " 14.001885772990406,\n",
       " 13.858303892933243,\n",
       " 13.714467423588722,\n",
       " 13.6561860911929,\n",
       " 13.654417855739107,\n",
       " 13.198921636183515,\n",
       " 13.294449144066654,\n",
       " 13.179116384276089,\n",
       " 13.099758191501248,\n",
       " 12.966219219150815,\n",
       " 12.664766736622667,\n",
       " 12.556368717165345,\n",
       " 12.493922251347273,\n",
       " 12.386801353031071,\n",
       " 12.2264730371507,\n",
       " 11.98824260229548,\n",
       " 12.228646620274155,\n",
       " 11.789437797964958]"
      ]
     },
     "execution_count": 130,
     "metadata": {},
     "output_type": "execute_result"
    }
   ],
   "source": [
    "distortions"
   ]
  },
  {
   "cell_type": "code",
   "execution_count": 133,
   "metadata": {
    "ExecuteTime": {
     "end_time": "2020-01-09T14:07:03.089480Z",
     "start_time": "2020-01-09T14:07:03.084012Z"
    }
   },
   "outputs": [
    {
     "data": {
      "text/plain": [
       "27"
      ]
     },
     "execution_count": 133,
     "metadata": {},
     "output_type": "execute_result"
    }
   ],
   "source": [
    "K[np.min(np.where(distortions <= np.min(distortions) + np.std(distortions)))]"
   ]
  },
  {
   "cell_type": "code",
   "execution_count": null,
   "metadata": {},
   "outputs": [],
   "source": []
  }
 ],
 "metadata": {
  "hide_input": false,
  "kernelspec": {
   "display_name": "Python 3",
   "language": "python",
   "name": "python3"
  },
  "language_info": {
   "codemirror_mode": {
    "name": "ipython",
    "version": 3
   },
   "file_extension": ".py",
   "mimetype": "text/x-python",
   "name": "python",
   "nbconvert_exporter": "python",
   "pygments_lexer": "ipython3",
   "version": "3.6.5"
  },
  "varInspector": {
   "cols": {
    "lenName": 16,
    "lenType": 16,
    "lenVar": 40
   },
   "kernels_config": {
    "python": {
     "delete_cmd_postfix": "",
     "delete_cmd_prefix": "del ",
     "library": "var_list.py",
     "varRefreshCmd": "print(var_dic_list())"
    },
    "r": {
     "delete_cmd_postfix": ") ",
     "delete_cmd_prefix": "rm(",
     "library": "var_list.r",
     "varRefreshCmd": "cat(var_dic_list()) "
    }
   },
   "types_to_exclude": [
    "module",
    "function",
    "builtin_function_or_method",
    "instance",
    "_Feature"
   ],
   "window_display": false
  }
 },
 "nbformat": 4,
 "nbformat_minor": 2
}
