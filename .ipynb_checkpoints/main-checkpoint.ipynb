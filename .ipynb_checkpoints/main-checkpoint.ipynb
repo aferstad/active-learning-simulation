{
 "cells": [
  {
   "cell_type": "code",
   "execution_count": 97,
   "metadata": {
    "ExecuteTime": {
     "end_time": "2019-10-24T12:11:51.353720Z",
     "start_time": "2019-10-24T12:11:51.343495Z"
    }
   },
   "outputs": [],
   "source": [
    "import experiment\n",
    "import census_import\n",
    "\n",
    "import importlib\n",
    "importlib.reload(experiment)\n",
    "importlib.reload(census_import)\n",
    "\n",
    "from experiment import Experiment\n",
    "from census_import import get_census_data\n",
    "\n",
    "import pandas as pd\n",
    "import numpy as np\n",
    "\n",
    "from IPython.display import clear_output"
   ]
  },
  {
   "cell_type": "code",
   "execution_count": 71,
   "metadata": {
    "ExecuteTime": {
     "end_time": "2019-10-24T11:51:04.379284Z",
     "start_time": "2019-10-24T11:51:03.616340Z"
    }
   },
   "outputs": [
    {
     "name": "stderr",
     "output_type": "stream",
     "text": [
      "/Users/andreasopsahlferstad/privacy_active_learning/census_import.py:14: ParserWarning: Falling back to the 'python' engine because the 'c' engine does not support regex separators (separators > 1 char and different from '\\s+' are interpreted as regex); you can avoid this warning by specifying engine='python'.\n",
      "  na_values='?')\n",
      "/Users/andreasopsahlferstad/privacy_active_learning/census_import.py:19: ParserWarning: Falling back to the 'python' engine because the 'c' engine does not support regex separators (separators > 1 char and different from '\\s+' are interpreted as regex); you can avoid this warning by specifying engine='python'.\n",
      "  na_values='?')\n"
     ]
    }
   ],
   "source": [
    "census, census_with_dummies = get_census_data('input_data/adult.data', 'input_data/adult.test')"
   ]
  },
  {
   "cell_type": "code",
   "execution_count": 109,
   "metadata": {
    "ExecuteTime": {
     "end_time": "2019-10-24T12:29:52.258077Z",
     "start_time": "2019-10-24T12:29:52.250631Z"
    }
   },
   "outputs": [
    {
     "data": {
      "text/html": [
       "<div>\n",
       "<style scoped>\n",
       "    .dataframe tbody tr th:only-of-type {\n",
       "        vertical-align: middle;\n",
       "    }\n",
       "\n",
       "    .dataframe tbody tr th {\n",
       "        vertical-align: top;\n",
       "    }\n",
       "\n",
       "    .dataframe thead th {\n",
       "        text-align: right;\n",
       "    }\n",
       "</style>\n",
       "<table border=\"1\" class=\"dataframe\">\n",
       "  <thead>\n",
       "    <tr style=\"text-align: right;\">\n",
       "      <th></th>\n",
       "      <th>0</th>\n",
       "      <th>1</th>\n",
       "    </tr>\n",
       "  </thead>\n",
       "  <tbody>\n",
       "    <tr>\n",
       "      <th>0</th>\n",
       "      <td>5</td>\n",
       "      <td>6</td>\n",
       "    </tr>\n",
       "  </tbody>\n",
       "</table>\n",
       "</div>"
      ],
      "text/plain": [
       "   0  1\n",
       "0  5  6"
      ]
     },
     "execution_count": 109,
     "metadata": {},
     "output_type": "execute_result"
    }
   ],
   "source": [
    "pd.DataFrame([5, 6]).transpose()"
   ]
  },
  {
   "cell_type": "code",
   "execution_count": 114,
   "metadata": {
    "ExecuteTime": {
     "end_time": "2019-10-24T12:33:39.779667Z",
     "start_time": "2019-10-24T12:33:31.777011Z"
    }
   },
   "outputs": [
    {
     "name": "stdout",
     "output_type": "stream",
     "text": [
      "0\n",
      "1\n"
     ]
    }
   ],
   "source": [
    "experiments = []\n",
    "\n",
    "results = pd.DataFrame(columns=['initial_accuracy', 'final_accuracy'])\n",
    "\n",
    "for i in range(2):\n",
    "    print(i)\n",
    "    experiments.append(Experiment(census_with_dummies, seed=i))\n",
    "    experiments[i].run_experiment()\n",
    "\n",
    "    results.loc[i] = [experiments[i].model_initial_accuracy, experiments[i].model_final_accuracy]    \n",
    "    results.to_csv('results.csv')"
   ]
  },
  {
   "cell_type": "code",
   "execution_count": 115,
   "metadata": {
    "ExecuteTime": {
     "end_time": "2019-10-24T12:33:39.907291Z",
     "start_time": "2019-10-24T12:33:39.900673Z"
    }
   },
   "outputs": [
    {
     "data": {
      "text/html": [
       "<div>\n",
       "<style scoped>\n",
       "    .dataframe tbody tr th:only-of-type {\n",
       "        vertical-align: middle;\n",
       "    }\n",
       "\n",
       "    .dataframe tbody tr th {\n",
       "        vertical-align: top;\n",
       "    }\n",
       "\n",
       "    .dataframe thead th {\n",
       "        text-align: right;\n",
       "    }\n",
       "</style>\n",
       "<table border=\"1\" class=\"dataframe\">\n",
       "  <thead>\n",
       "    <tr style=\"text-align: right;\">\n",
       "      <th></th>\n",
       "      <th>initial_accuracy</th>\n",
       "      <th>final_accuracy</th>\n",
       "    </tr>\n",
       "  </thead>\n",
       "  <tbody>\n",
       "    <tr>\n",
       "      <th>0</th>\n",
       "      <td>0.800642</td>\n",
       "      <td>0.821390</td>\n",
       "    </tr>\n",
       "    <tr>\n",
       "      <th>1</th>\n",
       "      <td>0.772727</td>\n",
       "      <td>0.815315</td>\n",
       "    </tr>\n",
       "  </tbody>\n",
       "</table>\n",
       "</div>"
      ],
      "text/plain": [
       "   initial_accuracy  final_accuracy\n",
       "0          0.800642        0.821390\n",
       "1          0.772727        0.815315"
      ]
     },
     "execution_count": 115,
     "metadata": {},
     "output_type": "execute_result"
    }
   ],
   "source": [
    "results"
   ]
  },
  {
   "cell_type": "code",
   "execution_count": 69,
   "metadata": {
    "ExecuteTime": {
     "end_time": "2019-10-24T11:29:27.162426Z",
     "start_time": "2019-10-24T11:29:27.154414Z"
    }
   },
   "outputs": [
    {
     "data": {
      "text/plain": [
       "count    20.000000\n",
       "mean      0.027358\n",
       "std       0.011955\n",
       "min       0.007030\n",
       "25%       0.019707\n",
       "50%       0.026174\n",
       "75%       0.035319\n",
       "max       0.053099\n",
       "dtype: float64"
      ]
     },
     "execution_count": 69,
     "metadata": {},
     "output_type": "execute_result"
    }
   ],
   "source": [
    "accuracy_increases = pd.Series(final_accuracy) - pd.Series(initial_accuracy)\n",
    "accuracy_increases.describe()"
   ]
  },
  {
   "cell_type": "code",
   "execution_count": null,
   "metadata": {},
   "outputs": [],
   "source": []
  },
  {
   "cell_type": "code",
   "execution_count": 78,
   "metadata": {
    "ExecuteTime": {
     "end_time": "2019-10-24T11:54:05.735484Z",
     "start_time": "2019-10-24T11:54:05.689972Z"
    }
   },
   "outputs": [],
   "source": []
  },
  {
   "cell_type": "code",
   "execution_count": 96,
   "metadata": {
    "ExecuteTime": {
     "end_time": "2019-10-24T12:11:30.909255Z",
     "start_time": "2019-10-24T12:11:01.853717Z"
    }
   },
   "outputs": [
    {
     "name": "stdout",
     "output_type": "stream",
     "text": [
      "Percentage points added: 0\n",
      "Percentage points added: 6\n",
      "Percentage points added: 12\n",
      "Percentage points added: 18\n",
      "Percentage points added: 24\n",
      "Percentage points added: 29\n",
      "Percentage points added: 35\n",
      "Percentage points added: 41\n",
      "Percentage points added: 47\n",
      "Percentage points added: 53\n",
      "Percentage points added: 59\n",
      "Percentage points added: 65\n",
      "Percentage points added: 71\n",
      "Percentage points added: 77\n",
      "Percentage points added: 82\n",
      "Percentage points added: 88\n",
      "Percentage points added: 94\n"
     ]
    },
    {
     "data": {
      "text/plain": [
       "(0.7727272727272727, 0.8126535626535627)"
      ]
     },
     "execution_count": 96,
     "metadata": {},
     "output_type": "execute_result"
    }
   ],
   "source": [
    "exp = Experiment(census_with_dummies, seed=1, n_points_to_add_at_a_time = 100)\n",
    "exp.run_experiment(method='uncertainty')"
   ]
  },
  {
   "cell_type": "code",
   "execution_count": 100,
   "metadata": {
    "ExecuteTime": {
     "end_time": "2019-10-24T12:18:23.470799Z",
     "start_time": "2019-10-24T12:13:59.323267Z"
    }
   },
   "outputs": [
    {
     "name": "stdout",
     "output_type": "stream",
     "text": [
      "Percentage points added: 94\n"
     ]
    }
   ],
   "source": [
    "experiments = []\n",
    "initial_accuracy = []\n",
    "final_accuracy = []\n",
    "for i in range(10):\n",
    "    print('Current experiment:' + str(i+1))\n",
    "    experiments.append(Experiment(census_with_dummies, seed=i, n_points_to_add_at_a_time = 100))\n",
    "    experiments[i].run_experiment(method='uncertainty')\n",
    "    initial_accuracy.append(experiments[i].model_initial_accuracy)\n",
    "    final_accuracy.append(experiments[i].model_final_accuracy)"
   ]
  },
  {
   "cell_type": "code",
   "execution_count": 101,
   "metadata": {
    "ExecuteTime": {
     "end_time": "2019-10-24T12:19:38.156538Z",
     "start_time": "2019-10-24T12:19:38.148379Z"
    }
   },
   "outputs": [
    {
     "data": {
      "text/plain": [
       "count    10.000000\n",
       "mean      0.022393\n",
       "std       0.016845\n",
       "min      -0.010511\n",
       "25%       0.013855\n",
       "50%       0.028290\n",
       "75%       0.033050\n",
       "max       0.040677\n",
       "dtype: float64"
      ]
     },
     "execution_count": 101,
     "metadata": {},
     "output_type": "execute_result"
    }
   ],
   "source": [
    "accuracy_increases = pd.Series(final_accuracy) - pd.Series(initial_accuracy)\n",
    "accuracy_increases.describe()"
   ]
  },
  {
   "cell_type": "code",
   "execution_count": null,
   "metadata": {},
   "outputs": [],
   "source": []
  }
 ],
 "metadata": {
  "hide_input": false,
  "kernelspec": {
   "display_name": "Python 3",
   "language": "python",
   "name": "python3"
  },
  "language_info": {
   "codemirror_mode": {
    "name": "ipython",
    "version": 3
   },
   "file_extension": ".py",
   "mimetype": "text/x-python",
   "name": "python",
   "nbconvert_exporter": "python",
   "pygments_lexer": "ipython3",
   "version": "3.6.4"
  },
  "varInspector": {
   "cols": {
    "lenName": 16,
    "lenType": 16,
    "lenVar": 40
   },
   "kernels_config": {
    "python": {
     "delete_cmd_postfix": "",
     "delete_cmd_prefix": "del ",
     "library": "var_list.py",
     "varRefreshCmd": "print(var_dic_list())"
    },
    "r": {
     "delete_cmd_postfix": ") ",
     "delete_cmd_prefix": "rm(",
     "library": "var_list.r",
     "varRefreshCmd": "cat(var_dic_list()) "
    }
   },
   "types_to_exclude": [
    "module",
    "function",
    "builtin_function_or_method",
    "instance",
    "_Feature"
   ],
   "window_display": false
  }
 },
 "nbformat": 4,
 "nbformat_minor": 2
}
