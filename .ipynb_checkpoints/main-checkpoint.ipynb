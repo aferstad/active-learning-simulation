{
 "cells": [
  {
   "cell_type": "markdown",
   "metadata": {},
   "source": [
    "### Libraries"
   ]
  },
  {
   "cell_type": "code",
   "execution_count": 18,
   "metadata": {
    "ExecuteTime": {
     "end_time": "2019-10-23T13:31:57.468971Z",
     "start_time": "2019-10-23T13:31:57.437382Z"
    }
   },
   "outputs": [],
   "source": [
    "# LOAD LIBRARIES\n",
    "import numpy as np  # linear algebra\n",
    "import pandas as pd  # data processing, CSV file I/O (e.g. pd.read_csv)\n",
    "import random\n",
    "\n",
    "\n",
    "# Load libraries for Decision Tree\n",
    "import pandas as pd\n",
    "from sklearn.tree import DecisionTreeClassifier  # Import Decision Tree Classifier\n",
    "from sklearn.model_selection import train_test_split  # Import train_test_split function\n",
    "from sklearn import metrics  #Import scikit-learn metrics module for accuracy calculation\n",
    "from sklearn.preprocessing import scale\n",
    "\n",
    "# Load libraries for Decision Tree Model Plot\n",
    "from sklearn.tree import export_graphviz\n",
    "from sklearn.externals.six import StringIO\n",
    "from IPython.display import Image\n",
    "import pydotplus\n",
    "\n",
    "# Load libaries for various model performance metrics\n",
    "from sklearn.metrics import f1_score, roc_curve, roc_auc_score, confusion_matrix, average_precision_score, precision_recall_curve, accuracy_score\n",
    "from matplotlib import pyplot as plt\n",
    "from inspect import signature\n",
    "\n",
    "# Load libaries for logistic regression\n",
    "from matplotlib import pyplot as plt\n",
    "from sklearn.linear_model import LogisticRegression\n",
    "import seaborn as sns\n",
    "sns.set()\n",
    "#from sklearn.model_selection import train_test_split\n",
    "from sklearn.metrics import confusion_matrix\n",
    "import pandas as pd\n",
    "\n",
    "from scipy.spatial import distance\n",
    "\n",
    "import matplotlib.pyplot as plt \n",
    "from sklearn.cross_validation import cross_val_score\n",
    "from sklearn.neighbors import KNeighborsClassifier"
   ]
  },
  {
   "cell_type": "markdown",
   "metadata": {},
   "source": [
    "### Import and Cleaning data"
   ]
  },
  {
   "cell_type": "code",
   "execution_count": 2,
   "metadata": {
    "ExecuteTime": {
     "end_time": "2019-10-23T13:28:58.666503Z",
     "start_time": "2019-10-23T13:28:58.568456Z"
    }
   },
   "outputs": [],
   "source": [
    "def get_census_data(path_train, path_test):\n",
    "    # import:\n",
    "    columns = [\n",
    "        \"age\", \"workClass\", \"fnlwgt\", \"education\", \"education-num\",\n",
    "        \"marital-status\", \"occupation\", \"relationship\", \"race\", \"sex\",\n",
    "        \"capital-gain\", \"capital-loss\", \"hours-per-week\", \"native-country\",\n",
    "        \"income\"\n",
    "    ]\n",
    "    census_train = pd.read_csv(path_train,\n",
    "                               names=columns,\n",
    "                               sep=' *, *',\n",
    "                               na_values='?')\n",
    "    census_test = pd.read_csv(path_test,\n",
    "                              names=columns,\n",
    "                              sep=' *, *',\n",
    "                              skiprows=1,\n",
    "                              na_values='?')\n",
    "\n",
    "    census = pd.concat([census_train, census_test], axis=0)\n",
    "\n",
    "    # clean:\n",
    "    census['income'] = census['income'].map(lambda x: x.replace('.', ''))\n",
    "\n",
    "    census['income_over_50K'] = None\n",
    "    census.loc[census.income == '<=50K', 'income_over_50K'] = 0\n",
    "    census.loc[census.income == '>50K', 'income_over_50K'] = 1\n",
    "\n",
    "    income_over_50K = census.income_over_50K\n",
    "    census = census.drop(columns=['income_over_50K', 'income'])\n",
    "    census.insert(0, 'income_over_50K', income_over_50K)\n",
    "\n",
    "    census = census.drop(columns = ['fnlwgt']) # does not have anything to do with data\n",
    "\n",
    "    # Making native-country to country_USA feature instead:\n",
    "    census['country_USA'] = 0\n",
    "    census.loc[census['native-country'] == 'United-States', 'country_USA'] = 1\n",
    "    census = census.drop(columns=['native-country'])\n",
    "    \n",
    "    census = census.reset_index().drop(columns=['index'])\n",
    "    \n",
    "    census_with_dummies = pd.get_dummies(data= census,columns=census.select_dtypes(include=['object']).columns,drop_first=True)\n",
    "\n",
    "    return census, census_with_dummies\n",
    "\n",
    "def explore_data(data, label):\n",
    "    num_attributes = data.select_dtypes(include=['int'])\n",
    "    print('Numerical features: ' + str(num_attributes.columns))\n",
    "\n",
    "    num_attributes.hist(figsize=(10,10))\n",
    "\n",
    "    print(data.describe())\n",
    "\n",
    "    cat_attributes = data.select_dtypes(include=['object'])\n",
    "    print('Categorical features: ' + str(cat_attributes.columns))\n",
    "\n",
    "    for column in cat_attributes:\n",
    "        if column != 'income':\n",
    "            sns.countplot(y=column, hue=data[label], data = cat_attributes)\n",
    "            plt.show()"
   ]
  },
  {
   "cell_type": "markdown",
   "metadata": {},
   "source": [
    "### Setting global defaults"
   ]
  },
  {
   "cell_type": "code",
   "execution_count": 40,
   "metadata": {
    "ExecuteTime": {
     "end_time": "2019-10-23T14:05:20.195362Z",
     "start_time": "2019-10-23T14:05:20.191279Z"
    }
   },
   "outputs": [],
   "source": [
    "FRACTIONS = {\n",
    "    'labeled_keep': 0.005,\n",
    "    'labeled_delete': 0.00,\n",
    "    'unlabeled': 0.695,\n",
    "    'unknown': 0.3\n",
    "}\n",
    "\n",
    "SEEDS = [1, 2, 3, 4]\n",
    "\n",
    "PCT_TO_LABEL = 0.05"
   ]
  },
  {
   "cell_type": "markdown",
   "metadata": {},
   "source": [
    "### Defining Methods"
   ]
  },
  {
   "cell_type": "code",
   "execution_count": 41,
   "metadata": {
    "ExecuteTime": {
     "end_time": "2019-10-23T14:07:19.095376Z",
     "start_time": "2019-10-23T14:07:19.082596Z"
    }
   },
   "outputs": [],
   "source": [
    "def divide_data(unsplit_data, fractions = FRACTIONS, seeds = SEEDS):\n",
    "    '''\n",
    "    divides data into labeled_keep, labeled_delete, unlabeled and unknown\n",
    "    '''\n",
    "    split_data = {}\n",
    "    n_rows = unsplit_data.shape[0]\n",
    "    remaining = unsplit_data.copy()\n",
    "    seed_index = 0\n",
    "    \n",
    "    for key in fractions:\n",
    "        n_rows_key = int(np.floor(fractions[key] * n_rows))\n",
    "        split_data[key] = remaining.sample(n=n_rows_key, random_state = seeds[seed_index])\n",
    "        \n",
    "        seed_index += 1\n",
    "        remaining = remaining.drop(split_data[key].index)\n",
    "    \n",
    "    return split_data"
   ]
  },
  {
   "cell_type": "code",
   "execution_count": 43,
   "metadata": {
    "ExecuteTime": {
     "end_time": "2019-10-23T14:08:03.246521Z",
     "start_time": "2019-10-23T14:08:03.227921Z"
    }
   },
   "outputs": [],
   "source": [
    "def KNN_cv(X, y, k_range = range(1, 30, 2)):\n",
    "    '''\n",
    "    finds best K for KNN\n",
    "    '''\n",
    "    k_scores = []\n",
    "\n",
    "    # use iteration to caclulator different k in models, then return the average accuracy based on the cross validation\n",
    "    for k in k_range:\n",
    "        print('k = ' + str(k))\n",
    "        knn = KNeighborsClassifier(n_neighbors=k)\n",
    "        scores = cross_val_score(knn, X, y, cv=5, scoring='accuracy')\n",
    "        k_scores.append(scores.mean())\n",
    "    \n",
    "    # plot to see clearly\n",
    "    plt.plot(k_range, k_scores)\n",
    "    plt.xlabel('Value of K for KNN')\n",
    "    plt.ylabel('Cross-Validated Accuracy')\n",
    "    plt.show()\n",
    "    \n",
    "    best_k = k_scores.index((max(k_scores))) + 1\n",
    "    \n",
    "    return best_k"
   ]
  },
  {
   "cell_type": "code",
   "execution_count": 35,
   "metadata": {
    "ExecuteTime": {
     "end_time": "2019-10-23T14:00:06.204690Z",
     "start_time": "2019-10-23T14:00:06.195831Z"
    }
   },
   "outputs": [],
   "source": [
    "def compare_models(m1, m2, data):\n",
    "    m1_accuracy = get_model_accuracy(m1, data)\n",
    "    m2_accuarcy = get_model_accuracy(m2, data)\n",
    "        \n",
    "    return m1_accuracy, m2_accuarcy\n",
    "    \n",
    "def get_model_accuracy(m, data):\n",
    "    X, y = get_X_y(data)\n",
    "    \n",
    "    y_pred = m.predict(X)\n",
    "    \n",
    "    return accuracy_score(y, y_pred)\n",
    "\n",
    "def get_X_y(df):\n",
    "    '''\n",
    "    Returns first column of df as y and rest as X\n",
    "    '''\n",
    "    X = df.drop(df.columns[0], axis=1)   \n",
    "    y = df.iloc[:, 0]\n",
    "\n",
    "    return X, y"
   ]
  },
  {
   "cell_type": "code",
   "execution_count": 34,
   "metadata": {
    "ExecuteTime": {
     "end_time": "2019-10-23T14:00:05.284788Z",
     "start_time": "2019-10-23T14:00:05.273190Z"
    }
   },
   "outputs": [],
   "source": [
    "def random_active_learning(split_data, pct_unlabel_to_label, seeds):\n",
    "    n_points_to_add = int(np.floor(split_data['unlabeled'].shape[0] * pct_unlabel_to_label))\n",
    "    \n",
    "    unlabeled = split_data['unlabeled'].copy()\n",
    "    labeled = pd.concat([split_data['labeled_keep'], split_data['labeled_delete']], axis=0)\n",
    "    \n",
    "    newly_labeled = unlabeled.sample(n=n_points_to_add, random_state = 1) #TODO: add seed\n",
    "    remaining_unlabeled = unlabeled.drop(newly_labeled.index)\n",
    "    labeled = labeled.append(newly_labeled)\n",
    "    \n",
    "    return labeled\n",
    "    "
   ]
  },
  {
   "cell_type": "code",
   "execution_count": null,
   "metadata": {},
   "outputs": [],
   "source": [
    "def uncertainty_active_learning(split_data, pct_unlabel_to_label, seeds):\n",
    "    newly_labeled = pd.DataFrame(columns=split_data['unlabeled'].columns)\n",
    "    unlabeled = split_data['unlabeled'].copy()\n",
    "\n",
    "    for i in range(5):\n",
    "        print(i)\n",
    "\n",
    "        X_unlabled = unlabeled.drop(labeled.columns[0], axis=1)\n",
    "\n",
    "        proba_class_1 = current_model.predict_proba(X_unlabled)[:,1]\n",
    "\n",
    "        #gives the length from probability 0.5, more length means more certainty\n",
    "        X_unlabled['class_certainty'] = np.abs(proba_class_1 - 0.5)\n",
    "\n",
    "        most_uncertain_rows_indexes = X_unlabled.class_certainty.sort_values().index[:n_points_to_add_at_a_time]\n",
    "\n",
    "        #most_uncertain_row_index = X_unlabled.class_certainty.idxmin()\n",
    "\n",
    "        rows_to_add = unlabeled.loc[most_uncertain_rows_indexes,:]\n",
    "\n",
    "\n",
    "        newly_labeled = newly_labeled.append(rows_to_add)\n",
    "        unlabeled = unlabeled.drop(most_uncertain_rows_indexes)\n",
    "        labeled = labeled.append(rows_to_add)\n",
    "\n",
    "        y = labeled.iloc[:, 0]\n",
    "        X = labeled.drop(labeled.columns[0], axis=1)\n",
    "\n",
    "        current_model.fit(X, y)"
   ]
  },
  {
   "cell_type": "code",
   "execution_count": 44,
   "metadata": {
    "ExecuteTime": {
     "end_time": "2019-10-23T14:09:06.652813Z",
     "start_time": "2019-10-23T14:09:06.623228Z"
    }
   },
   "outputs": [],
   "source": [
    "def run_experiment(unsplit_data,\n",
    "                   pct_unlabel_to_label,\n",
    "                   method='random',\n",
    "                   fractions=FRACTIONS,\n",
    "                   seeds=SEEDS):\n",
    "    '''\n",
    "    input raw data, output initial and final model accuracy\n",
    "    '''\n",
    "    split_data = divide_data(unsplit_data, fractions, seeds)\n",
    "\n",
    "    labeled_initial = pd.concat(\n",
    "        [split_data['labeled_keep'], split_data['labeled_delete']], axis=0)\n",
    "    X, y = get_X_y(labeled_initial)\n",
    "\n",
    "    best_k = KNN_cv(X, y)\n",
    "\n",
    "    initial_model = KNeighborsClassifier(n_neighbors=best_k)\n",
    "    initial_model.fit(X, y)\n",
    "\n",
    "    if method == 'random':\n",
    "        labeled_final = random_active_learning(split_data,\n",
    "                                               pct_unlabel_to_label, seeds)\n",
    "    elif method == 'uncertainty':\n",
    "        print('tbd')\n",
    "\n",
    "    X, y = get_X_y(labeled_final)\n",
    "    final_best_k = KNN_cv(X, y)\n",
    "\n",
    "    final_model = KNeighborsClassifier(n_neighbors=final_best_k)\n",
    "    final_model.fit(X, y)\n",
    "\n",
    "    initial_model_accuracy, final_model_accuracy = compare_models(\n",
    "        initial_model, final_model, split_data['unknown'])\n",
    "\n",
    "    return initial_model_accuracy, final_model_accuracy"
   ]
  },
  {
   "cell_type": "code",
   "execution_count": 152,
   "metadata": {
    "ExecuteTime": {
     "end_time": "2019-10-23T12:55:28.207597Z",
     "start_time": "2019-10-23T12:55:28.204247Z"
    }
   },
   "outputs": [],
   "source": [
    "class Experiment():\n",
    "    def __init__(self, unsplit_data, seed):\n",
    "        self.unsplit_data = unsplit_data\n",
    "        self.seed = seed"
   ]
  },
  {
   "cell_type": "code",
   "execution_count": 6,
   "metadata": {
    "ExecuteTime": {
     "end_time": "2019-10-23T13:29:15.357497Z",
     "start_time": "2019-10-23T13:29:14.600822Z"
    }
   },
   "outputs": [
    {
     "name": "stderr",
     "output_type": "stream",
     "text": [
      "/anaconda3/lib/python3.6/site-packages/ipykernel_launcher.py:12: ParserWarning: Falling back to the 'python' engine because the 'c' engine does not support regex separators (separators > 1 char and different from '\\s+' are interpreted as regex); you can avoid this warning by specifying engine='python'.\n",
      "  if sys.path[0] == '':\n",
      "/anaconda3/lib/python3.6/site-packages/ipykernel_launcher.py:17: ParserWarning: Falling back to the 'python' engine because the 'c' engine does not support regex separators (separators > 1 char and different from '\\s+' are interpreted as regex); you can avoid this warning by specifying engine='python'.\n"
     ]
    }
   ],
   "source": [
    "census, census_with_dummies = get_census_data('adult.data', 'adult.test')"
   ]
  },
  {
   "cell_type": "code",
   "execution_count": 39,
   "metadata": {
    "ExecuteTime": {
     "end_time": "2019-10-23T14:01:09.660208Z",
     "start_time": "2019-10-23T14:01:05.339305Z"
    }
   },
   "outputs": [
    {
     "name": "stdout",
     "output_type": "stream",
     "text": [
      "k = 1\n",
      "k = 3\n",
      "k = 5\n",
      "k = 7\n",
      "k = 9\n",
      "k = 11\n",
      "k = 13\n",
      "k = 15\n",
      "k = 17\n",
      "k = 19\n",
      "k = 21\n",
      "k = 23\n",
      "k = 25\n",
      "k = 27\n",
      "k = 29\n"
     ]
    },
    {
     "data": {
      "image/png": "[encoded data removed]",
      "text/plain": [
       "<matplotlib.figure.Figure at 0x1a0ea15c50>"
      ]
     },
     "metadata": {},
     "output_type": "display_data"
    },
    {
     "name": "stdout",
     "output_type": "stream",
     "text": [
      "k = 1\n",
      "k = 3\n",
      "k = 5\n",
      "k = 7\n",
      "k = 9\n",
      "k = 11\n",
      "k = 13\n",
      "k = 15\n",
      "k = 17\n",
      "k = 19\n",
      "k = 21\n",
      "k = 23\n",
      "k = 25\n",
      "k = 27\n",
      "k = 29\n"
     ]
    },
    {
     "data": {
      "image/png": "[encoded data removed]",
      "text/plain": [
       "<matplotlib.figure.Figure at 0x1a0fcb8cf8>"
      ]
     },
     "metadata": {},
     "output_type": "display_data"
    },
    {
     "data": {
      "text/plain": [
       "(0.7777095277095277, 0.822003822003822)"
      ]
     },
     "execution_count": 39,
     "metadata": {},
     "output_type": "execute_result"
    }
   ],
   "source": [
    "run_experiment(census_with_dummies, 0.05)"
   ]
  },
  {
   "cell_type": "code",
   "execution_count": 127,
   "metadata": {
    "ExecuteTime": {
     "end_time": "2019-10-23T12:21:16.613652Z",
     "start_time": "2019-10-23T12:21:16.541090Z"
    }
   },
   "outputs": [
    {
     "data": {
      "text/plain": [
       "KNeighborsClassifier(algorithm='auto', leaf_size=30, metric='minkowski',\n",
       "           metric_params=None, n_jobs=1, n_neighbors=15, p=2,\n",
       "           weights='uniform')"
      ]
     },
     "execution_count": 127,
     "metadata": {},
     "output_type": "execute_result"
    }
   ],
   "source": [
    "initial_model = KNeighborsClassifier(n_neighbors=best_k)\n",
    "initial_model.fit(X, y)\n",
    "\n",
    "current_model = KNeighborsClassifier(n_neighbors=bestK)\n",
    "current_model.fit(X, y)"
   ]
  },
  {
   "cell_type": "code",
   "execution_count": 128,
   "metadata": {
    "ExecuteTime": {
     "end_time": "2019-10-23T12:21:18.877011Z",
     "start_time": "2019-10-23T12:21:18.868831Z"
    }
   },
   "outputs": [
    {
     "data": {
      "text/plain": [
       "Int64Index([44601, 16828, 43065, 48554, 40262], dtype='int64')"
      ]
     },
     "execution_count": 128,
     "metadata": {},
     "output_type": "execute_result"
    }
   ],
   "source": [
    "unlabeled.sort_values(['age']).index[:5]"
   ]
  },
  {
   "cell_type": "code",
   "execution_count": 129,
   "metadata": {
    "ExecuteTime": {
     "end_time": "2019-10-23T12:21:20.987077Z",
     "start_time": "2019-10-23T12:21:20.984217Z"
    }
   },
   "outputs": [],
   "source": [
    "n_points_to_add_at_a_time = 1000"
   ]
  },
  {
   "cell_type": "code",
   "execution_count": 130,
   "metadata": {
    "ExecuteTime": {
     "end_time": "2019-10-23T12:21:43.928107Z",
     "start_time": "2019-10-23T12:21:25.540385Z"
    }
   },
   "outputs": [
    {
     "name": "stdout",
     "output_type": "stream",
     "text": [
      "0\n",
      "1\n",
      "2\n",
      "3\n",
      "4\n"
     ]
    }
   ],
   "source": [
    "newly_labeled = pd.DataFrame(columns=split_data['unlabeled'].columns)\n",
    "unlabeled = split_data['unlabeled'].copy()\n",
    "\n",
    "for i in range(5):\n",
    "    print(i)\n",
    "    \n",
    "    X_unlabled = unlabeled.drop(labeled.columns[0], axis=1)\n",
    "    \n",
    "    proba_class_1 = current_model.predict_proba(X_unlabled)[:,1]\n",
    "    \n",
    "    #gives the length from probability 0.5, more length means more certainty\n",
    "    X_unlabled['class_certainty'] = np.abs(proba_class_1 - 0.5)\n",
    "    \n",
    "    most_uncertain_rows_indexes = X_unlabled.class_certainty.sort_values().index[:n_points_to_add_at_a_time]\n",
    "    \n",
    "    #most_uncertain_row_index = X_unlabled.class_certainty.idxmin()\n",
    "    \n",
    "    rows_to_add = unlabeled.loc[most_uncertain_rows_indexes,:]\n",
    "\n",
    "    \n",
    "    newly_labeled = newly_labeled.append(rows_to_add)\n",
    "    unlabeled = unlabeled.drop(most_uncertain_rows_indexes)\n",
    "    labeled = labeled.append(rows_to_add)\n",
    "    \n",
    "    y = labeled.iloc[:, 0]\n",
    "    X = labeled.drop(labeled.columns[0], axis=1)\n",
    "    \n",
    "    current_model.fit(X, y)"
   ]
  },
  {
   "cell_type": "code",
   "execution_count": 131,
   "metadata": {
    "ExecuteTime": {
     "end_time": "2019-10-23T12:21:44.900299Z",
     "start_time": "2019-10-23T12:21:44.895028Z"
    }
   },
   "outputs": [],
   "source": [
    "future = split_data['unknown']\n",
    "y_future = future.iloc[:, 0]\n",
    "X_future = future.drop(future.columns[0], axis=1)"
   ]
  },
  {
   "cell_type": "code",
   "execution_count": 134,
   "metadata": {
    "ExecuteTime": {
     "end_time": "2019-10-23T12:22:36.444870Z",
     "start_time": "2019-10-23T12:22:08.564101Z"
    }
   },
   "outputs": [
    {
     "name": "stdout",
     "output_type": "stream",
     "text": [
      "k = 1\n",
      "k = 3\n",
      "k = 5\n",
      "k = 7\n",
      "k = 9\n",
      "k = 11\n",
      "k = 13\n",
      "k = 15\n",
      "k = 17\n",
      "k = 19\n",
      "k = 21\n",
      "k = 23\n",
      "k = 25\n",
      "k = 27\n",
      "k = 29\n"
     ]
    },
    {
     "data": {
      "image/png": "[encoded data removed]",
      "text/plain": [
       "<matplotlib.figure.Figure at 0x1a25453320>"
      ]
     },
     "metadata": {},
     "output_type": "display_data"
    },
    {
     "data": {
      "text/plain": [
       "2"
      ]
     },
     "execution_count": 134,
     "metadata": {},
     "output_type": "execute_result"
    }
   ],
   "source": []
  },
  {
   "cell_type": "code",
   "execution_count": null,
   "metadata": {},
   "outputs": [],
   "source": [
    "y = labeled.iloc[:, 0]\n",
    "X = labeled.drop(labeled.columns[0], axis=1)"
   ]
  },
  {
   "cell_type": "code",
   "execution_count": 135,
   "metadata": {
    "ExecuteTime": {
     "end_time": "2019-10-23T12:24:15.944055Z",
     "start_time": "2019-10-23T12:23:45.456278Z"
    }
   },
   "outputs": [
    {
     "name": "stdout",
     "output_type": "stream",
     "text": [
      "k = 1\n",
      "k = 3\n",
      "k = 5\n",
      "k = 7\n",
      "k = 9\n",
      "k = 11\n",
      "k = 13\n",
      "k = 15\n",
      "k = 17\n",
      "k = 19\n",
      "k = 21\n",
      "k = 23\n",
      "k = 25\n",
      "k = 27\n",
      "k = 29\n"
     ]
    },
    {
     "data": {
      "image/png": "[encoded data removed]",
      "text/plain": [
       "<matplotlib.figure.Figure at 0x1a2831a320>"
      ]
     },
     "metadata": {},
     "output_type": "display_data"
    }
   ],
   "source": [
    "new_best_k = KNN_cv(labeled)"
   ]
  },
  {
   "cell_type": "code",
   "execution_count": 140,
   "metadata": {
    "ExecuteTime": {
     "end_time": "2019-10-23T12:24:51.224034Z",
     "start_time": "2019-10-23T12:24:51.094969Z"
    }
   },
   "outputs": [
    {
     "data": {
      "text/plain": [
       "KNeighborsClassifier(algorithm='auto', leaf_size=30, metric='minkowski',\n",
       "           metric_params=None, n_jobs=1, n_neighbors=2, p=2,\n",
       "           weights='uniform')"
      ]
     },
     "execution_count": 140,
     "metadata": {},
     "output_type": "execute_result"
    }
   ],
   "source": [
    "final_model = KNeighborsClassifier(n_neighbors=new_best_k)\n",
    "final_model.fit(X, y)"
   ]
  },
  {
   "cell_type": "code",
   "execution_count": 141,
   "metadata": {
    "ExecuteTime": {
     "end_time": "2019-10-23T12:24:54.182081Z",
     "start_time": "2019-10-23T12:24:52.189471Z"
    }
   },
   "outputs": [
    {
     "data": {
      "text/plain": [
       "12383"
      ]
     },
     "execution_count": 141,
     "metadata": {},
     "output_type": "execute_result"
    }
   ],
   "source": [
    "sum(final_model.predict(X_future) == y_future)"
   ]
  },
  {
   "cell_type": "code",
   "execution_count": 132,
   "metadata": {
    "ExecuteTime": {
     "end_time": "2019-10-23T12:21:48.194142Z",
     "start_time": "2019-10-23T12:21:45.861732Z"
    }
   },
   "outputs": [
    {
     "data": {
      "text/plain": [
       "12435"
      ]
     },
     "execution_count": 132,
     "metadata": {},
     "output_type": "execute_result"
    }
   ],
   "source": [
    "sum(current_model.predict(X_future) == y_future)"
   ]
  },
  {
   "cell_type": "code",
   "execution_count": 133,
   "metadata": {
    "ExecuteTime": {
     "end_time": "2019-10-23T12:21:51.912455Z",
     "start_time": "2019-10-23T12:21:50.201457Z"
    }
   },
   "outputs": [
    {
     "data": {
      "text/plain": [
       "12161"
      ]
     },
     "execution_count": 133,
     "metadata": {},
     "output_type": "execute_result"
    }
   ],
   "source": [
    "sum(initial_model.predict(X_future) == y_future)"
   ]
  },
  {
   "cell_type": "code",
   "execution_count": null,
   "metadata": {},
   "outputs": [],
   "source": []
  }
 ],
 "metadata": {
  "hide_input": false,
  "kernelspec": {
   "display_name": "Python 3",
   "language": "python",
   "name": "python3"
  },
  "language_info": {
   "codemirror_mode": {
    "name": "ipython",
    "version": 3
   },
   "file_extension": ".py",
   "mimetype": "text/x-python",
   "name": "python",
   "nbconvert_exporter": "python",
   "pygments_lexer": "ipython3",
   "version": "3.6.4"
  },
  "varInspector": {
   "cols": {
    "lenName": 16,
    "lenType": 16,
    "lenVar": 40
   },
   "kernels_config": {
    "python": {
     "delete_cmd_postfix": "",
     "delete_cmd_prefix": "del ",
     "library": "var_list.py",
     "varRefreshCmd": "print(var_dic_list())"
    },
    "r": {
     "delete_cmd_postfix": ") ",
     "delete_cmd_prefix": "rm(",
     "library": "var_list.r",
     "varRefreshCmd": "cat(var_dic_list()) "
    }
   },
   "types_to_exclude": [
    "module",
    "function",
    "builtin_function_or_method",
    "instance",
    "_Feature"
   ],
   "window_display": false
  }
 },
 "nbformat": 4,
 "nbformat_minor": 2
}
