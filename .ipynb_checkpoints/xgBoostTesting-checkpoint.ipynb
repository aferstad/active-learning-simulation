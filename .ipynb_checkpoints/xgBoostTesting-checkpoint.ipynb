{
 "cells": [
  {
   "cell_type": "code",
   "execution_count": 1,
   "metadata": {
    "ExecuteTime": {
     "end_time": "2020-02-14T11:23:09.003050Z",
     "start_time": "2020-02-14T11:23:08.249530Z"
    }
   },
   "outputs": [],
   "source": [
    "import pandas as pd\n",
    "import numpy as np\n",
    "\n",
    "import xgboost as xgb\n",
    "from xgboost.sklearn import XGBClassifier\n",
    "\n",
    "from sklearn import metrics   \n",
    "from sklearn.model_selection import GridSearchCV\n",
    "from sklearn.model_selection import train_test_split\n",
    "\n",
    "import matplotlib.pylab as plt\n",
    "%matplotlib inline\n",
    "from matplotlib.pylab import rcParams\n",
    "rcParams['figure.figsize'] = 12, 4\n",
    "\n",
    "from input.heart_import import get_heart_data\n"
   ]
  },
  {
   "cell_type": "code",
   "execution_count": 26,
   "metadata": {
    "ExecuteTime": {
     "end_time": "2020-02-14T11:49:45.880327Z",
     "start_time": "2020-02-14T11:49:45.869038Z"
    }
   },
   "outputs": [],
   "source": [
    "def cv_n_estimators(model, data, cv_folds=5, early_stopping_rounds=50):\n",
    "    X = data.iloc[:,1:]\n",
    "    y = data.iloc[:,0]\n",
    "    \n",
    "    model_params = model.get_xgb_params() # returns all parameters of model\n",
    "\n",
    "    # converts data to xg matrix\n",
    "    xgtrain = xgb.DMatrix(X.values, label=y.values)\n",
    "\n",
    "    cvresult = xgb.cv(model_params,\n",
    "                      xgtrain,\n",
    "                      num_boost_round=model.get_params()['n_estimators'],\n",
    "                      nfold=cv_folds,\n",
    "                      metrics='auc',\n",
    "                      early_stopping_rounds=early_stopping_rounds)\n",
    "\n",
    "    model.set_params(n_estimators=cvresult.shape[0])\n",
    "    \n",
    "    #Fit the algorithm on the data\n",
    "    model.fit(X, y, eval_metric='auc')\n",
    "    \n",
    "    print('n estimators set to : ' + str(model.get_num_boosting_rounds()))\n",
    "    return model\n",
    "\n",
    "\n",
    "def print_performance(data, model):\n",
    "    X = data.iloc[:,1:]\n",
    "    y = data.iloc[:,0]\n",
    "    \n",
    "\n",
    "    y_pred = model.predict(X)\n",
    "    y_pred_proba = model.predict_proba(X)[:,1]\n",
    "\n",
    "    #Print model report:\n",
    "    print(\"\\nModel Report\")\n",
    "    print(\"Accuracy : %.4g\" % metrics.accuracy_score(y.values, y_pred))\n",
    "    print(\"AUC Score (Train): %f\" % metrics.roc_auc_score(y.values, y_pred_proba))\n",
    "\n",
    "    feat_imp = pd.Series(model.get_booster().get_score(importance_type = 'gain')).sort_values(ascending=False)\n",
    "    feat_imp.plot(kind='bar', title='Feature Importances')\n",
    "    plt.ylabel('Feature Importance Score')\n",
    "    \n",
    "def cv_grid(param_space, model, data):\n",
    "    X = data.iloc[:,1:]\n",
    "    y = data.iloc[:,0]\n",
    "\n",
    "    grid_search = GridSearchCV(estimator = model, param_grid = param_space, scoring='roc_auc',n_jobs=1, cv=5,\n",
    "                              refit=True)\n",
    "\n",
    "    grid_search.fit(X, y)\n",
    "    \n",
    "    print(grid_search.best_params_)\n",
    "    \n",
    "    return grid_search.best_estimator_"
   ]
  },
  {
   "cell_type": "code",
   "execution_count": 47,
   "metadata": {
    "ExecuteTime": {
     "end_time": "2020-02-14T12:00:17.096274Z",
     "start_time": "2020-02-14T12:00:02.987389Z"
    }
   },
   "outputs": [
    {
     "name": "stdout",
     "output_type": "stream",
     "text": [
      "n estimators set to : 24\n",
      "{'max_depth': 1, 'min_child_weight': 1.0344827586206897}\n",
      "{'gamma': 0.0}\n",
      "n estimators set to : 24\n",
      "{'colsample_bytree': 0.2, 'subsample': 0.8333333333333333}\n",
      "{'reg_alpha': 1e-13}\n",
      "n estimators set to : 40\n"
     ]
    }
   ],
   "source": [
    "### data = get_heart_data()\n",
    "\n",
    "data_train = data.sample(n=20, random_state = 0)\n",
    "data_test = data.drop(data_train.index)\n",
    "\n",
    "model = XGBClassifier(\n",
    " learning_rate =0.1,\n",
    " n_estimators=1000,\n",
    " max_depth=5,\n",
    " min_child_weight=1,\n",
    " gamma=0,\n",
    " subsample=0.8,\n",
    " colsample_bytree=0.8,\n",
    " objective= 'binary:logistic',\n",
    " nthread=8,\n",
    " scale_pos_weight=1,\n",
    " seed=0)\n",
    "\n",
    "model = cv_n_estimators(model, data_train)\n",
    "\n",
    "param_space = {\n",
    " 'max_depth': list(range(1,10,1)),\n",
    " 'min_child_weight': np.linspace(0,10,30) #   list(range(0,10,1))\n",
    "}\n",
    "\n",
    "model = cv_grid(param_space, model, data_train)\n",
    "\n",
    "param_space = {\n",
    "    'gamma' : np.linspace(0, 0.5, 10)\n",
    "}\n",
    "\n",
    "model = cv_grid(param_space, model, data_train)\n",
    "\n",
    "model = cv_n_estimators(model, data_train)\n",
    "\n",
    "param_space = {\n",
    "    'subsample' : np.linspace(0.5, 1, 10),\n",
    "    'colsample_bytree' : np.linspace(0.2, 1, 20)\n",
    "}\n",
    "model = cv_grid(param_space, model, data_train)\n",
    "\n",
    "param_space = {\n",
    "    'reg_alpha' : [1e-13, 1e-10, 1e-8, 1e-5, 1e-2, 0.1, 1, 100]\n",
    "}\n",
    "model = cv_grid(param_space, model, data_train)\n",
    "\n",
    "model.set_params(learning_rate = 0.01, n_estimators = 5000)\n",
    "\n",
    "model = cv_n_estimators(model, data_train)\n",
    "\n",
    "\n",
    "#model.get_params"
   ]
  },
  {
   "cell_type": "code",
   "execution_count": 48,
   "metadata": {
    "ExecuteTime": {
     "end_time": "2020-02-14T12:00:20.740631Z",
     "start_time": "2020-02-14T12:00:20.457933Z"
    }
   },
   "outputs": [
    {
     "name": "stdout",
     "output_type": "stream",
     "text": [
      "\n",
      "Model Report\n",
      "Accuracy : 0.7527\n",
      "AUC Score (Train): 0.845993\n"
     ]
    },
    {
     "data": {
      "image/png": "[encoded data removed]",
      "text/plain": [
       "<Figure size 864x288 with 1 Axes>"
      ]
     },
     "metadata": {
      "needs_background": "light"
     },
     "output_type": "display_data"
    }
   ],
   "source": [
    "print_performance(data_test, model)"
   ]
  },
  {
   "cell_type": "code",
   "execution_count": 2,
   "metadata": {
    "ExecuteTime": {
     "end_time": "2020-02-14T11:09:48.367719Z",
     "start_time": "2020-02-14T11:09:48.359499Z"
    }
   },
   "outputs": [],
   "source": [
    "def modelfit(model, X, y,useTrainCV=True, cv_folds=5, early_stopping_rounds=50, print_results = False):\n",
    "    \"\"\"\n",
    "    @param model : mode\n",
    "    \n",
    "    \"\"\"\n",
    "    \n",
    "    if useTrainCV:\n",
    "        model_params = model.get_xgb_params() # returns all parameters of model\n",
    "\n",
    "        # converts data to xg matrix\n",
    "        xgtrain = xgb.DMatrix(X.values, label=y.values)\n",
    "\n",
    "        cvresult = xgb.cv(model_params,\n",
    "                          xgtrain,\n",
    "                          num_boost_round=model.get_params()['n_estimators'],\n",
    "                          nfold=cv_folds,\n",
    "                          metrics='auc',\n",
    "                          early_stopping_rounds=early_stopping_rounds)\n",
    "        \n",
    "        model.set_params(n_estimators=cvresult.shape[0])\n",
    "    \n",
    "    #Fit the algorithm on the data\n",
    "    model.fit(X, y,eval_metric='auc')\n",
    "    \n",
    "    if print_results:\n",
    "    \n",
    "        #Predict training set:\n",
    "        y_pred = model.predict(X)\n",
    "        y_pred_proba = model.predict_proba(X)[:,1]\n",
    "\n",
    "        #Print model report:\n",
    "        print(\"\\nModel Report\")\n",
    "        print(\"Accuracy : %.4g\" % metrics.accuracy_score(y.values, y_pred))\n",
    "        print(\"AUC Score (Train): %f\" % metrics.roc_auc_score(y.values, y_pred_proba))\n",
    "\n",
    "        feat_imp = pd.Series(model.get_booster().get_score(importance_type = 'gain')).sort_values(ascending=False)\n",
    "        feat_imp.plot(kind='bar', title='Feature Importances')\n",
    "        plt.ylabel('Feature Importance Score')\n"
   ]
  },
  {
   "cell_type": "code",
   "execution_count": 5,
   "metadata": {
    "ExecuteTime": {
     "end_time": "2020-02-14T11:10:38.973929Z",
     "start_time": "2020-02-14T11:10:38.952587Z"
    }
   },
   "outputs": [
    {
     "name": "stdout",
     "output_type": "stream",
     "text": [
      "heart data import succesful\n"
     ]
    }
   ],
   "source": [
    "data = get_heart_data()\n",
    "\n",
    "X = data.iloc[:,1:]\n",
    "y = data.iloc[:, 0]\n",
    "\n",
    "X_train, X_test, y_train, y_test = train_test_split(X, y, test_size=0.9, random_state=123)\n"
   ]
  },
  {
   "cell_type": "code",
   "execution_count": 6,
   "metadata": {
    "ExecuteTime": {
     "end_time": "2020-02-14T11:10:39.518176Z",
     "start_time": "2020-02-14T11:10:39.513872Z"
    }
   },
   "outputs": [
    {
     "data": {
      "text/plain": [
       "(30, 18)"
      ]
     },
     "execution_count": 6,
     "metadata": {},
     "output_type": "execute_result"
    }
   ],
   "source": [
    "X_train.shape"
   ]
  },
  {
   "cell_type": "code",
   "execution_count": 7,
   "metadata": {
    "ExecuteTime": {
     "end_time": "2020-02-14T11:10:43.510338Z",
     "start_time": "2020-02-14T11:10:43.506341Z"
    }
   },
   "outputs": [],
   "source": [
    "model = XGBClassifier(\n",
    " learning_rate =0.1,\n",
    " n_estimators=1000,\n",
    " max_depth=5,\n",
    " min_child_weight=1,\n",
    " gamma=0,\n",
    " subsample=0.8,\n",
    " colsample_bytree=0.8,\n",
    " objective= 'binary:logistic',\n",
    " nthread=8,\n",
    " scale_pos_weight=1,\n",
    " seed=0)"
   ]
  },
  {
   "cell_type": "code",
   "execution_count": 8,
   "metadata": {
    "ExecuteTime": {
     "end_time": "2020-02-14T11:10:47.666977Z",
     "start_time": "2020-02-14T11:10:47.602315Z"
    }
   },
   "outputs": [],
   "source": [
    "# STEP 1: TUNE N_ESTIMATORS\n",
    "modelfit(model, X_train, y_train) # when useTrainCV = True, model is refitted with CV number of estimators"
   ]
  },
  {
   "cell_type": "code",
   "execution_count": 9,
   "metadata": {
    "ExecuteTime": {
     "end_time": "2020-02-14T11:10:52.030776Z",
     "start_time": "2020-02-14T11:10:52.023455Z"
    }
   },
   "outputs": [
    {
     "data": {
      "text/plain": [
       "0.7692307692307693"
      ]
     },
     "execution_count": 9,
     "metadata": {},
     "output_type": "execute_result"
    }
   ],
   "source": [
    "metrics.accuracy_score(y_test, model.predict(X_test))"
   ]
  },
  {
   "cell_type": "code",
   "execution_count": 10,
   "metadata": {
    "ExecuteTime": {
     "end_time": "2020-02-14T11:10:53.580483Z",
     "start_time": "2020-02-14T11:10:53.575310Z"
    }
   },
   "outputs": [
    {
     "data": {
      "text/plain": [
       "<bound method XGBModel.get_params of XGBClassifier(base_score=0.5, booster='gbtree', colsample_bylevel=1,\n",
       "              colsample_bynode=1, colsample_bytree=0.8, gamma=0,\n",
       "              learning_rate=0.1, max_delta_step=0, max_depth=5,\n",
       "              min_child_weight=1, missing=None, n_estimators=18, n_jobs=1,\n",
       "              nthread=8, objective='binary:logistic', random_state=0,\n",
       "              reg_alpha=0, reg_lambda=1, scale_pos_weight=1, seed=0,\n",
       "              silent=None, subsample=0.8, verbosity=1)>"
      ]
     },
     "execution_count": 10,
     "metadata": {},
     "output_type": "execute_result"
    }
   ],
   "source": [
    "model.get_params"
   ]
  },
  {
   "cell_type": "code",
   "execution_count": 11,
   "metadata": {
    "ExecuteTime": {
     "end_time": "2020-02-14T11:10:57.253476Z",
     "start_time": "2020-02-14T11:10:56.670373Z"
    }
   },
   "outputs": [
    {
     "data": {
      "text/plain": [
       "GridSearchCV(cv=5, error_score=nan,\n",
       "             estimator=XGBClassifier(base_score=0.5, booster='gbtree',\n",
       "                                     colsample_bylevel=1, colsample_bynode=1,\n",
       "                                     colsample_bytree=0.8, gamma=0,\n",
       "                                     learning_rate=0.1, max_delta_step=0,\n",
       "                                     max_depth=5, min_child_weight=1,\n",
       "                                     missing=None, n_estimators=18, n_jobs=1,\n",
       "                                     nthread=8, objective='binary:logistic',\n",
       "                                     random_state=0, reg_alpha=0, reg_lambda=1,\n",
       "                                     scale_pos_weight=1, seed=0, silent=None,\n",
       "                                     subsample=0.8, verbosity=1),\n",
       "             iid='deprecated', n_jobs=1,\n",
       "             param_grid={'max_depth': [3, 5, 7, 9],\n",
       "                         'min_child_weight': [1, 3, 5, 7, 9]},\n",
       "             pre_dispatch='2*n_jobs', refit=True, return_train_score=False,\n",
       "             scoring='roc_auc', verbose=0)"
      ]
     },
     "execution_count": 11,
     "metadata": {},
     "output_type": "execute_result"
    }
   ],
   "source": [
    "# STEP 2: TUNE MAX_DEPTH AND MIN_CHILD_WEIGHT\n",
    "# start with large steps in param values:\n",
    "param_space = {\n",
    " 'max_depth': list(range(3,10,2)),\n",
    " 'min_child_weight':list(range(1,10,2))\n",
    "}\n",
    "\n",
    "\n",
    "\n",
    "grid_search = GridSearchCV(estimator = model, param_grid = param_space, scoring='roc_auc',n_jobs=1, cv=5,\n",
    "                          refit=True)\n",
    "\n",
    "grid_search.fit(X_train, y_train)\n",
    "\n",
    "#gsearch1.grid_scores_, gsearch1.best_params_, gsearch1.best_score_"
   ]
  },
  {
   "cell_type": "code",
   "execution_count": 12,
   "metadata": {
    "ExecuteTime": {
     "end_time": "2020-02-14T11:10:58.991525Z",
     "start_time": "2020-02-14T11:10:58.988269Z"
    }
   },
   "outputs": [],
   "source": [
    "model = grid_search.best_estimator_"
   ]
  },
  {
   "cell_type": "code",
   "execution_count": 13,
   "metadata": {
    "ExecuteTime": {
     "end_time": "2020-02-14T11:10:59.846567Z",
     "start_time": "2020-02-14T11:10:59.841282Z"
    }
   },
   "outputs": [
    {
     "data": {
      "text/plain": [
       "{'max_depth': range(2, 5), 'min_child_weight': range(0, 3)}"
      ]
     },
     "execution_count": 13,
     "metadata": {},
     "output_type": "execute_result"
    }
   ],
   "source": [
    "# redefine param space to have small steps close to the optimal param found earlier\n",
    "param_space = {}\n",
    "for param in grid_search.best_params_:\n",
    "    param_value = grid_search.best_params_[param]\n",
    "    param_space[param] = range(param_value-1, param_value+2)\n",
    "param_space"
   ]
  },
  {
   "cell_type": "code",
   "execution_count": 14,
   "metadata": {
    "ExecuteTime": {
     "end_time": "2020-02-14T11:11:00.634099Z",
     "start_time": "2020-02-14T11:11:00.338041Z"
    }
   },
   "outputs": [],
   "source": [
    "grid_search = GridSearchCV(estimator = model, param_grid = param_space, scoring='roc_auc',n_jobs=1, cv=5,\n",
    "                          refit=True)\n",
    "\n",
    "grid_search.fit(X_train, y_train)\n",
    "model = grid_search.best_estimator_\n",
    "#gsearch1.grid_scores_, gsearch1.best_params_, gsearch1.best_score_"
   ]
  },
  {
   "cell_type": "code",
   "execution_count": 15,
   "metadata": {
    "ExecuteTime": {
     "end_time": "2020-02-14T11:11:00.839013Z",
     "start_time": "2020-02-14T11:11:00.833758Z"
    }
   },
   "outputs": [
    {
     "data": {
      "text/plain": [
       "<bound method XGBModel.get_params of XGBClassifier(base_score=0.5, booster='gbtree', colsample_bylevel=1,\n",
       "              colsample_bynode=1, colsample_bytree=0.8, gamma=0,\n",
       "              learning_rate=0.1, max_delta_step=0, max_depth=2,\n",
       "              min_child_weight=1, missing=None, n_estimators=18, n_jobs=1,\n",
       "              nthread=8, objective='binary:logistic', random_state=0,\n",
       "              reg_alpha=0, reg_lambda=1, scale_pos_weight=1, seed=0,\n",
       "              silent=None, subsample=0.8, verbosity=1)>"
      ]
     },
     "execution_count": 15,
     "metadata": {},
     "output_type": "execute_result"
    }
   ],
   "source": [
    "model.get_params"
   ]
  },
  {
   "cell_type": "code",
   "execution_count": 16,
   "metadata": {
    "ExecuteTime": {
     "end_time": "2020-02-14T11:11:01.523029Z",
     "start_time": "2020-02-14T11:11:01.350917Z"
    }
   },
   "outputs": [],
   "source": [
    "# STEP 3: TUNE GAMMA\n",
    "\n",
    "param_space = {\n",
    "    'gamma' : np.linspace(0, 0.5, 5)\n",
    "}\n",
    "grid_search = GridSearchCV(estimator = model, param_grid = param_space, scoring='roc_auc',n_jobs=1, cv=5,\n",
    "                          refit=True)\n",
    "\n",
    "grid_search.fit(X_train, y_train)\n",
    "model = grid_search.best_estimator_"
   ]
  },
  {
   "cell_type": "code",
   "execution_count": 17,
   "metadata": {
    "ExecuteTime": {
     "end_time": "2020-02-14T11:11:01.983332Z",
     "start_time": "2020-02-14T11:11:01.979206Z"
    }
   },
   "outputs": [
    {
     "data": {
      "text/plain": [
       "{'gamma': 0.0}"
      ]
     },
     "execution_count": 17,
     "metadata": {},
     "output_type": "execute_result"
    }
   ],
   "source": [
    "grid_search.best_params_"
   ]
  },
  {
   "cell_type": "code",
   "execution_count": 18,
   "metadata": {
    "ExecuteTime": {
     "end_time": "2020-02-14T11:11:02.520332Z",
     "start_time": "2020-02-14T11:11:02.498576Z"
    }
   },
   "outputs": [],
   "source": [
    "# Re-calibriate the number of boosting rounds\n",
    "modelfit(model, X_train, y_train) # when useTrainCV = True, model is refitted with CV number of estimators"
   ]
  },
  {
   "cell_type": "code",
   "execution_count": 19,
   "metadata": {
    "ExecuteTime": {
     "end_time": "2020-02-14T11:11:06.845991Z",
     "start_time": "2020-02-14T11:11:06.840882Z"
    }
   },
   "outputs": [
    {
     "data": {
      "text/plain": [
       "<bound method XGBModel.get_params of XGBClassifier(base_score=0.5, booster='gbtree', colsample_bylevel=1,\n",
       "              colsample_bynode=1, colsample_bytree=0.8, gamma=0.0,\n",
       "              learning_rate=0.1, max_delta_step=0, max_depth=2,\n",
       "              min_child_weight=1, missing=None, n_estimators=18, n_jobs=1,\n",
       "              nthread=8, objective='binary:logistic', random_state=0,\n",
       "              reg_alpha=0, reg_lambda=1, scale_pos_weight=1, seed=0,\n",
       "              silent=None, subsample=0.8, verbosity=1)>"
      ]
     },
     "execution_count": 19,
     "metadata": {},
     "output_type": "execute_result"
    }
   ],
   "source": [
    "model.get_params"
   ]
  },
  {
   "cell_type": "code",
   "execution_count": 20,
   "metadata": {
    "ExecuteTime": {
     "end_time": "2020-02-14T11:11:08.445778Z",
     "start_time": "2020-02-14T11:11:08.438346Z"
    }
   },
   "outputs": [
    {
     "data": {
      "text/plain": [
       "0.7655677655677655"
      ]
     },
     "execution_count": 20,
     "metadata": {},
     "output_type": "execute_result"
    }
   ],
   "source": [
    "metrics.accuracy_score(y_test, model.predict(X_test))"
   ]
  },
  {
   "cell_type": "code",
   "execution_count": 21,
   "metadata": {
    "ExecuteTime": {
     "end_time": "2020-02-14T11:11:12.232952Z",
     "start_time": "2020-02-14T11:11:09.181253Z"
    }
   },
   "outputs": [
    {
     "data": {
      "text/plain": [
       "{'colsample_bytree': 0.7222222222222222, 'subsample': 0.7777777777777778}"
      ]
     },
     "execution_count": 21,
     "metadata": {},
     "output_type": "execute_result"
    }
   ],
   "source": [
    "# STEP 4: TUNE SUBSAMPLE AND COLSAMPLE_BYTREE\n",
    "param_space = {\n",
    "    'subsample' : np.linspace(0.5, 1, 10),\n",
    "    'colsample_bytree' : np.linspace(0.5, 1, 10)\n",
    "}\n",
    "grid_search = GridSearchCV(estimator = model, param_grid = param_space, scoring='roc_auc',n_jobs=1, cv=5,\n",
    "                          refit=True)\n",
    "\n",
    "grid_search.fit(X_train, y_train)\n",
    "model = grid_search.best_estimator_\n",
    "grid_search.best_params_"
   ]
  },
  {
   "cell_type": "code",
   "execution_count": 22,
   "metadata": {
    "ExecuteTime": {
     "end_time": "2020-02-14T11:11:12.468445Z",
     "start_time": "2020-02-14T11:11:12.287387Z"
    }
   },
   "outputs": [
    {
     "data": {
      "text/plain": [
       "{'reg_alpha': 1e-05}"
      ]
     },
     "execution_count": 22,
     "metadata": {},
     "output_type": "execute_result"
    }
   ],
   "source": [
    "# STEP 5: TUNING REGULARIZATION PARAMETERS\n",
    "param_space = {\n",
    "    'reg_alpha' : [1e-5, 1e-2, 0.1, 1, 100]\n",
    "}\n",
    "grid_search = GridSearchCV(estimator = model, param_grid = param_space, scoring='roc_auc',n_jobs=1, cv=5,\n",
    "                          refit=True)\n",
    "\n",
    "grid_search.fit(X_train, y_train)\n",
    "model = grid_search.best_estimator_\n",
    "grid_search.best_params_\n"
   ]
  },
  {
   "cell_type": "code",
   "execution_count": 23,
   "metadata": {
    "ExecuteTime": {
     "end_time": "2020-02-14T11:11:12.539600Z",
     "start_time": "2020-02-14T11:11:12.517444Z"
    }
   },
   "outputs": [],
   "source": [
    "# Re-calibriate the number of boosting rounds\n",
    "modelfit(model, X_train, y_train) # when useTrainCV = True, model is refitted with CV number of estimators"
   ]
  },
  {
   "cell_type": "code",
   "execution_count": 24,
   "metadata": {
    "ExecuteTime": {
     "end_time": "2020-02-14T11:11:14.485638Z",
     "start_time": "2020-02-14T11:11:14.480289Z"
    }
   },
   "outputs": [
    {
     "data": {
      "text/plain": [
       "<bound method XGBModel.get_params of XGBClassifier(base_score=0.5, booster='gbtree', colsample_bylevel=1,\n",
       "              colsample_bynode=1, colsample_bytree=0.7222222222222222,\n",
       "              gamma=0.0, learning_rate=0.1, max_delta_step=0, max_depth=2,\n",
       "              min_child_weight=1, missing=None, n_estimators=18, n_jobs=1,\n",
       "              nthread=8, objective='binary:logistic', random_state=0,\n",
       "              reg_alpha=1e-05, reg_lambda=1, scale_pos_weight=1, seed=0,\n",
       "              silent=None, subsample=0.7777777777777778, verbosity=1)>"
      ]
     },
     "execution_count": 24,
     "metadata": {},
     "output_type": "execute_result"
    }
   ],
   "source": [
    "model.get_params"
   ]
  },
  {
   "cell_type": "code",
   "execution_count": 25,
   "metadata": {
    "ExecuteTime": {
     "end_time": "2020-02-14T11:11:15.207491Z",
     "start_time": "2020-02-14T11:11:15.199930Z"
    }
   },
   "outputs": [
    {
     "data": {
      "text/plain": [
       "0.7472527472527473"
      ]
     },
     "execution_count": 25,
     "metadata": {},
     "output_type": "execute_result"
    }
   ],
   "source": [
    "metrics.accuracy_score(y_test, model.predict(X_test))"
   ]
  },
  {
   "cell_type": "code",
   "execution_count": 26,
   "metadata": {
    "ExecuteTime": {
     "end_time": "2020-02-14T11:11:16.724843Z",
     "start_time": "2020-02-14T11:11:16.673568Z"
    }
   },
   "outputs": [
    {
     "data": {
      "text/plain": [
       "<bound method XGBModel.get_params of XGBClassifier(base_score=0.5, booster='gbtree', colsample_bylevel=1,\n",
       "              colsample_bynode=1, colsample_bytree=0.7222222222222222,\n",
       "              gamma=0.0, learning_rate=0.01, max_delta_step=0, max_depth=2,\n",
       "              min_child_weight=1, missing=None, n_estimators=10, n_jobs=1,\n",
       "              nthread=8, objective='binary:logistic', random_state=0,\n",
       "              reg_alpha=1e-05, reg_lambda=1, scale_pos_weight=1, seed=0,\n",
       "              silent=None, subsample=0.7777777777777778, verbosity=1)>"
      ]
     },
     "execution_count": 26,
     "metadata": {},
     "output_type": "execute_result"
    }
   ],
   "source": [
    "model.set_params(learning_rate = 0.01, n_estimators = 5000)\n",
    "modelfit(model, X_train, y_train) # when useTrainCV = True, model is refitted with CV number of estimators\n",
    "model.get_params"
   ]
  },
  {
   "cell_type": "code",
   "execution_count": 27,
   "metadata": {
    "ExecuteTime": {
     "end_time": "2020-02-14T11:11:18.401509Z",
     "start_time": "2020-02-14T11:11:18.394597Z"
    }
   },
   "outputs": [
    {
     "data": {
      "text/plain": [
       "0.7728937728937729"
      ]
     },
     "execution_count": 27,
     "metadata": {},
     "output_type": "execute_result"
    }
   ],
   "source": [
    "metrics.accuracy_score(y_test, model.predict(X_test))"
   ]
  },
  {
   "cell_type": "code",
   "execution_count": 28,
   "metadata": {
    "ExecuteTime": {
     "end_time": "2020-02-14T11:11:19.266393Z",
     "start_time": "2020-02-14T11:11:19.261320Z"
    }
   },
   "outputs": [
    {
     "data": {
      "text/plain": [
       "{'base_score': 0.5,\n",
       " 'booster': 'gbtree',\n",
       " 'colsample_bylevel': 1,\n",
       " 'colsample_bynode': 1,\n",
       " 'colsample_bytree': 0.7222222222222222,\n",
       " 'gamma': 0.0,\n",
       " 'learning_rate': 0.01,\n",
       " 'max_delta_step': 0,\n",
       " 'max_depth': 2,\n",
       " 'min_child_weight': 1,\n",
       " 'missing': None,\n",
       " 'n_estimators': 10,\n",
       " 'n_jobs': 1,\n",
       " 'nthread': 8,\n",
       " 'objective': 'binary:logistic',\n",
       " 'random_state': 0,\n",
       " 'reg_alpha': 1e-05,\n",
       " 'reg_lambda': 1,\n",
       " 'scale_pos_weight': 1,\n",
       " 'seed': 0,\n",
       " 'silent': None,\n",
       " 'subsample': 0.7777777777777778,\n",
       " 'verbosity': 1}"
      ]
     },
     "execution_count": 28,
     "metadata": {},
     "output_type": "execute_result"
    }
   ],
   "source": [
    "model.get_params()"
   ]
  },
  {
   "cell_type": "code",
   "execution_count": null,
   "metadata": {},
   "outputs": [],
   "source": []
  }
 ],
 "metadata": {
  "hide_input": false,
  "kernelspec": {
   "display_name": "Python 3",
   "language": "python",
   "name": "python3"
  },
  "language_info": {
   "codemirror_mode": {
    "name": "ipython",
    "version": 3
   },
   "file_extension": ".py",
   "mimetype": "text/x-python",
   "name": "python",
   "nbconvert_exporter": "python",
   "pygments_lexer": "ipython3",
   "version": "3.8.0"
  },
  "varInspector": {
   "cols": {
    "lenName": 16,
    "lenType": 16,
    "lenVar": 40
   },
   "kernels_config": {
    "python": {
     "delete_cmd_postfix": "",
     "delete_cmd_prefix": "del ",
     "library": "var_list.py",
     "varRefreshCmd": "print(var_dic_list())"
    },
    "r": {
     "delete_cmd_postfix": ") ",
     "delete_cmd_prefix": "rm(",
     "library": "var_list.r",
     "varRefreshCmd": "cat(var_dic_list()) "
    }
   },
   "types_to_exclude": [
    "module",
    "function",
    "builtin_function_or_method",
    "instance",
    "_Feature"
   ],
   "window_display": false
  }
 },
 "nbformat": 4,
 "nbformat_minor": 4
}
