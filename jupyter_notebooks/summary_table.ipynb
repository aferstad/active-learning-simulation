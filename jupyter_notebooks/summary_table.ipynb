{
 "cells": [
  {
   "cell_type": "code",
   "execution_count": 49,
   "metadata": {
    "ExecuteTime": {
     "end_time": "2020-05-04T10:19:11.892213Z",
     "start_time": "2020-05-04T10:19:11.889226Z"
    }
   },
   "outputs": [],
   "source": [
    "import alsDataManager\n",
    "import final_plotter\n",
    "import pandas as pd"
   ]
  },
  {
   "cell_type": "code",
   "execution_count": 44,
   "metadata": {
    "ExecuteTime": {
     "end_time": "2020-05-04T10:15:38.251836Z",
     "start_time": "2020-05-04T10:15:38.239233Z"
    }
   },
   "outputs": [],
   "source": [
    "no_ts = 'final_experiments/ads_lr/ads_lr_no_ts_final.txt.txt'\n",
    "name = no_ts.split('/')[1]\n",
    "no_ts = alsDataManager.open_dict_from_json(no_ts)\n",
    "\n",
    "ts = 'final_experiments/ads_lr/ads_lr_ts_final.txt.txt'\n",
    "ts = alsDataManager.open_dict_from_json(ts)\n",
    "\n",
    "no_ts = no_ts['results']\n",
    "ts = ts['results']\n",
    "exclusion_thresholds = ['threshold_5', 'threshold_50', 'threshold_500']\n",
    "n_deleted = 300\n",
    "k_low = 'threshold_100'\n",
    "k_high = 'threshold_1000'\n",
    "\n",
    "df, methods_ts = final_plotter.__merge_ts_no_ts(ts=ts, no_ts=no_ts)\n",
    "\n",
    "\n",
    "color_dict, label_dict = final_plotter.__define_color_dict(exclusion_thresholds, methods_ts)"
   ]
  },
  {
   "cell_type": "code",
   "execution_count": 60,
   "metadata": {
    "ExecuteTime": {
     "end_time": "2020-05-04T10:31:45.235504Z",
     "start_time": "2020-05-04T10:31:45.226778Z"
    }
   },
   "outputs": [],
   "source": [
    "summary_dict = {}\n",
    "\n",
    "ks = []\n",
    "for i, method in enumerate(df['accuracy']):\n",
    "    label = '_'.join(method.split('_')[2:])\n",
    "    if label in exclusion_thresholds or label.split('_')[0] != 'threshold':\n",
    "        continue\n",
    "    ks.append(int(label.split('_')[-1]))\n",
    "\n",
    "for metric in df:\n",
    "    summary_dict[metric] = {}\n",
    "    max_k = 0\n",
    "    for i, method in enumerate(df[metric]):\n",
    "        label = '_'.join(method.split('_')[2:])\n",
    "        if label in exclusion_thresholds or label == 'random':\n",
    "            continue\n",
    "        \n",
    "        method_metric = df[metric][method][n_deleted]\n",
    "        random_metric = df[metric]['learning_method_random'][n_deleted]\n",
    "        \n",
    "        pct_difference = (method_metric - random_metric) / random_metric\n",
    "        \n",
    "        if label.split('_')[0] == 'threshold':\n",
    "            if int(label.split('_')[1]) == max(ks):\n",
    "                key = 'k_high'\n",
    "            else:\n",
    "                key = 'k_low'\n",
    "        else:\n",
    "            key = label\n",
    "            \n",
    "        summary_dict[metric][key] = pct_difference\n",
    "        "
   ]
  },
  {
   "cell_type": "code",
   "execution_count": 57,
   "metadata": {
    "ExecuteTime": {
     "end_time": "2020-05-04T10:29:58.758303Z",
     "start_time": "2020-05-04T10:29:58.751901Z"
    }
   },
   "outputs": [
    {
     "data": {
      "text/plain": [
       "[100, 1000]"
      ]
     },
     "execution_count": 57,
     "metadata": {},
     "output_type": "execute_result"
    }
   ],
   "source": []
  },
  {
   "cell_type": "code",
   "execution_count": 61,
   "metadata": {
    "ExecuteTime": {
     "end_time": "2020-05-04T10:31:47.562932Z",
     "start_time": "2020-05-04T10:31:47.554604Z"
    }
   },
   "outputs": [
    {
     "data": {
      "text/html": [
       "<div>\n",
       "<style scoped>\n",
       "    .dataframe tbody tr th:only-of-type {\n",
       "        vertical-align: middle;\n",
       "    }\n",
       "\n",
       "    .dataframe tbody tr th {\n",
       "        vertical-align: top;\n",
       "    }\n",
       "\n",
       "    .dataframe thead th {\n",
       "        text-align: right;\n",
       "    }\n",
       "</style>\n",
       "<table border=\"1\" class=\"dataframe\">\n",
       "  <thead>\n",
       "    <tr style=\"text-align: right;\">\n",
       "      <th></th>\n",
       "      <th>accuracy</th>\n",
       "      <th>consistencies</th>\n",
       "    </tr>\n",
       "  </thead>\n",
       "  <tbody>\n",
       "    <tr>\n",
       "      <th>uncertainty</th>\n",
       "      <td>0.032448</td>\n",
       "      <td>-0.023814</td>\n",
       "    </tr>\n",
       "    <tr>\n",
       "      <th>similar</th>\n",
       "      <td>0.013454</td>\n",
       "      <td>0.007429</td>\n",
       "    </tr>\n",
       "    <tr>\n",
       "      <th>k_low</th>\n",
       "      <td>0.035613</td>\n",
       "      <td>-0.019031</td>\n",
       "    </tr>\n",
       "    <tr>\n",
       "      <th>k_high</th>\n",
       "      <td>0.030978</td>\n",
       "      <td>-0.012416</td>\n",
       "    </tr>\n",
       "  </tbody>\n",
       "</table>\n",
       "</div>"
      ],
      "text/plain": [
       "             accuracy  consistencies\n",
       "uncertainty  0.032448      -0.023814\n",
       "similar      0.013454       0.007429\n",
       "k_low        0.035613      -0.019031\n",
       "k_high       0.030978      -0.012416"
      ]
     },
     "execution_count": 61,
     "metadata": {},
     "output_type": "execute_result"
    }
   ],
   "source": [
    "pd.DataFrame(summary_dict)"
   ]
  },
  {
   "cell_type": "code",
   "execution_count": 62,
   "metadata": {
    "ExecuteTime": {
     "end_time": "2020-05-04T10:41:44.672562Z",
     "start_time": "2020-05-04T10:41:44.669098Z"
    }
   },
   "outputs": [],
   "source": [
    "d = alsDataManager.open_dict_from_json('summary_dict.txt')"
   ]
  },
  {
   "cell_type": "code",
   "execution_count": 71,
   "metadata": {
    "ExecuteTime": {
     "end_time": "2020-05-04T10:46:20.087649Z",
     "start_time": "2020-05-04T10:46:20.083619Z"
    }
   },
   "outputs": [],
   "source": [
    "da = {}\n",
    "dc = {}\n",
    "for key in d:\n",
    "    da[key] = {}\n",
    "    dc[key] = {}\n",
    "    \n",
    "    da[key] = d[key]['accuracy']\n",
    "    dc[key] = d[key]['consistencies']"
   ]
  },
  {
   "cell_type": "code",
   "execution_count": 78,
   "metadata": {
    "ExecuteTime": {
     "end_time": "2020-05-04T10:49:27.273985Z",
     "start_time": "2020-05-04T10:49:27.267885Z"
    }
   },
   "outputs": [],
   "source": [
    "pd.DataFrame(da).to_csv('summary_accuracy.csv')"
   ]
  },
  {
   "cell_type": "code",
   "execution_count": 79,
   "metadata": {
    "ExecuteTime": {
     "end_time": "2020-05-04T10:49:27.776144Z",
     "start_time": "2020-05-04T10:49:27.770114Z"
    }
   },
   "outputs": [],
   "source": [
    "pd.DataFrame(dc).to_csv('summary_consistencies.csv')"
   ]
  },
  {
   "cell_type": "code",
   "execution_count": null,
   "metadata": {},
   "outputs": [],
   "source": []
  }
 ],
 "metadata": {
  "hide_input": false,
  "kernelspec": {
   "display_name": "Python 3",
   "language": "python",
   "name": "python3"
  },
  "language_info": {
   "codemirror_mode": {
    "name": "ipython",
    "version": 3
   },
   "file_extension": ".py",
   "mimetype": "text/x-python",
   "name": "python",
   "nbconvert_exporter": "python",
   "pygments_lexer": "ipython3",
   "version": "3.8.0"
  },
  "varInspector": {
   "cols": {
    "lenName": 16,
    "lenType": 16,
    "lenVar": 40
   },
   "kernels_config": {
    "python": {
     "delete_cmd_postfix": "",
     "delete_cmd_prefix": "del ",
     "library": "var_list.py",
     "varRefreshCmd": "print(var_dic_list())"
    },
    "r": {
     "delete_cmd_postfix": ") ",
     "delete_cmd_prefix": "rm(",
     "library": "var_list.r",
     "varRefreshCmd": "cat(var_dic_list()) "
    }
   },
   "types_to_exclude": [
    "module",
    "function",
    "builtin_function_or_method",
    "instance",
    "_Feature"
   ],
   "window_display": false
  }
 },
 "nbformat": 4,
 "nbformat_minor": 4
}
