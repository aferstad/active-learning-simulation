{
 "cells": [
  {
   "cell_type": "code",
   "execution_count": 1,
   "metadata": {
    "ExecuteTime": {
     "end_time": "2020-03-12T17:14:05.310341Z",
     "start_time": "2020-03-12T17:14:05.297375Z"
    }
   },
   "outputs": [
    {
     "name": "stdout",
     "output_type": "stream",
     "text": [
      "/Users/andreasopsahlferstad/privacy_active_learning\n"
     ]
    }
   ],
   "source": [
    "# current dir\n",
    "%pwd\n",
    "\n",
    "%cd '~/privacy_active_learning'"
   ]
  },
  {
   "cell_type": "code",
   "execution_count": 2,
   "metadata": {
    "ExecuteTime": {
     "end_time": "2020-03-12T17:14:38.282321Z",
     "start_time": "2020-03-12T17:14:37.275235Z"
    }
   },
   "outputs": [],
   "source": [
    "from xgboost.sklearn import XGBClassifier\n"
   ]
  },
  {
   "cell_type": "code",
   "execution_count": 4,
   "metadata": {
    "ExecuteTime": {
     "end_time": "2020-03-12T17:15:20.450650Z",
     "start_time": "2020-03-12T17:15:20.398655Z"
    }
   },
   "outputs": [],
   "source": [
    "from input.voice.voice_import import get_voice_data"
   ]
  },
  {
   "cell_type": "code",
   "execution_count": 5,
   "metadata": {
    "ExecuteTime": {
     "end_time": "2020-03-12T17:15:33.681984Z",
     "start_time": "2020-03-12T17:15:31.547601Z"
    }
   },
   "outputs": [
    {
     "name": "stdout",
     "output_type": "stream",
     "text": [
      "variance kept due to PCA: 0.97\n"
     ]
    }
   ],
   "source": [
    "data = get_voice_data()"
   ]
  },
  {
   "cell_type": "code",
   "execution_count": 6,
   "metadata": {
    "ExecuteTime": {
     "end_time": "2020-03-12T17:16:00.457464Z",
     "start_time": "2020-03-12T17:16:00.449015Z"
    }
   },
   "outputs": [],
   "source": [
    "train = data.sample(n=500)"
   ]
  },
  {
   "cell_type": "code",
   "execution_count": 7,
   "metadata": {
    "ExecuteTime": {
     "end_time": "2020-03-12T17:16:18.152718Z",
     "start_time": "2020-03-12T17:16:18.148449Z"
    }
   },
   "outputs": [],
   "source": [
    "X = train.iloc[:,1:]\n",
    "y = train.iloc[:,0]"
   ]
  },
  {
   "cell_type": "code",
   "execution_count": 8,
   "metadata": {
    "ExecuteTime": {
     "end_time": "2020-03-12T17:17:02.723722Z",
     "start_time": "2020-03-12T17:17:02.719201Z"
    }
   },
   "outputs": [],
   "source": [
    "xg = XGBClassifier(learning_rate=0.1,\n",
    "            n_estimators=1000,\n",
    "            max_depth=5,\n",
    "            min_child_weight=1,\n",
    "            gamma=0,\n",
    "            subsample=0.8,\n",
    "            colsample_bytree=0.8,\n",
    "            objective='multi:softmax',\n",
    "            nthread=8,\n",
    "            scale_pos_weight=1,\n",
    "            seed=0)"
   ]
  },
  {
   "cell_type": "code",
   "execution_count": 18,
   "metadata": {
    "ExecuteTime": {
     "end_time": "2020-03-12T17:21:53.048222Z",
     "start_time": "2020-03-12T17:21:53.019967Z"
    }
   },
   "outputs": [
    {
     "data": {
      "text/html": [
       "<div>\n",
       "<style scoped>\n",
       "    .dataframe tbody tr th:only-of-type {\n",
       "        vertical-align: middle;\n",
       "    }\n",
       "\n",
       "    .dataframe tbody tr th {\n",
       "        vertical-align: top;\n",
       "    }\n",
       "\n",
       "    .dataframe thead th {\n",
       "        text-align: right;\n",
       "    }\n",
       "</style>\n",
       "<table border=\"1\" class=\"dataframe\">\n",
       "  <thead>\n",
       "    <tr style=\"text-align: right;\">\n",
       "      <th></th>\n",
       "      <th>0</th>\n",
       "      <th>1</th>\n",
       "      <th>2</th>\n",
       "      <th>3</th>\n",
       "      <th>4</th>\n",
       "      <th>5</th>\n",
       "      <th>6</th>\n",
       "      <th>7</th>\n",
       "      <th>8</th>\n",
       "      <th>9</th>\n",
       "      <th>...</th>\n",
       "      <th>290</th>\n",
       "      <th>291</th>\n",
       "      <th>292</th>\n",
       "      <th>293</th>\n",
       "      <th>294</th>\n",
       "      <th>295</th>\n",
       "      <th>296</th>\n",
       "      <th>297</th>\n",
       "      <th>298</th>\n",
       "      <th>299</th>\n",
       "    </tr>\n",
       "  </thead>\n",
       "  <tbody>\n",
       "    <tr>\n",
       "      <th>2436</th>\n",
       "      <td>6.411785</td>\n",
       "      <td>9.227964</td>\n",
       "      <td>5.085998</td>\n",
       "      <td>-2.368798</td>\n",
       "      <td>5.719873</td>\n",
       "      <td>-2.903780</td>\n",
       "      <td>-6.164981</td>\n",
       "      <td>-1.407622</td>\n",
       "      <td>-9.371026</td>\n",
       "      <td>1.135372</td>\n",
       "      <td>...</td>\n",
       "      <td>0.039405</td>\n",
       "      <td>0.001824</td>\n",
       "      <td>-0.539755</td>\n",
       "      <td>0.352398</td>\n",
       "      <td>0.022815</td>\n",
       "      <td>0.313504</td>\n",
       "      <td>0.673618</td>\n",
       "      <td>-0.320396</td>\n",
       "      <td>0.432380</td>\n",
       "      <td>-0.076211</td>\n",
       "    </tr>\n",
       "    <tr>\n",
       "      <th>1519</th>\n",
       "      <td>10.117870</td>\n",
       "      <td>-10.185149</td>\n",
       "      <td>-4.645674</td>\n",
       "      <td>-1.961590</td>\n",
       "      <td>-2.704262</td>\n",
       "      <td>3.472707</td>\n",
       "      <td>1.548210</td>\n",
       "      <td>-2.004890</td>\n",
       "      <td>0.958254</td>\n",
       "      <td>4.558173</td>\n",
       "      <td>...</td>\n",
       "      <td>0.112705</td>\n",
       "      <td>-0.051735</td>\n",
       "      <td>-0.174975</td>\n",
       "      <td>-0.160404</td>\n",
       "      <td>-0.140225</td>\n",
       "      <td>0.032943</td>\n",
       "      <td>-0.305237</td>\n",
       "      <td>0.454419</td>\n",
       "      <td>0.006048</td>\n",
       "      <td>0.120737</td>\n",
       "    </tr>\n",
       "    <tr>\n",
       "      <th>4185</th>\n",
       "      <td>-11.653149</td>\n",
       "      <td>5.854071</td>\n",
       "      <td>14.963570</td>\n",
       "      <td>8.374763</td>\n",
       "      <td>0.893180</td>\n",
       "      <td>-0.655721</td>\n",
       "      <td>6.707217</td>\n",
       "      <td>10.350585</td>\n",
       "      <td>6.247142</td>\n",
       "      <td>3.184425</td>\n",
       "      <td>...</td>\n",
       "      <td>-0.108723</td>\n",
       "      <td>-0.130477</td>\n",
       "      <td>0.200257</td>\n",
       "      <td>0.016359</td>\n",
       "      <td>-0.196137</td>\n",
       "      <td>-0.191710</td>\n",
       "      <td>-0.574974</td>\n",
       "      <td>0.114481</td>\n",
       "      <td>0.206067</td>\n",
       "      <td>-0.021371</td>\n",
       "    </tr>\n",
       "    <tr>\n",
       "      <th>4623</th>\n",
       "      <td>-12.479951</td>\n",
       "      <td>0.718186</td>\n",
       "      <td>5.778529</td>\n",
       "      <td>-1.094971</td>\n",
       "      <td>6.891340</td>\n",
       "      <td>0.728841</td>\n",
       "      <td>-4.024922</td>\n",
       "      <td>2.149929</td>\n",
       "      <td>-2.552387</td>\n",
       "      <td>0.471854</td>\n",
       "      <td>...</td>\n",
       "      <td>0.422592</td>\n",
       "      <td>0.066267</td>\n",
       "      <td>-0.133395</td>\n",
       "      <td>-0.472080</td>\n",
       "      <td>-0.011764</td>\n",
       "      <td>0.108096</td>\n",
       "      <td>-0.937192</td>\n",
       "      <td>0.761661</td>\n",
       "      <td>0.156557</td>\n",
       "      <td>-0.139952</td>\n",
       "    </tr>\n",
       "    <tr>\n",
       "      <th>4029</th>\n",
       "      <td>-19.117382</td>\n",
       "      <td>3.280064</td>\n",
       "      <td>10.835315</td>\n",
       "      <td>10.628334</td>\n",
       "      <td>-3.448583</td>\n",
       "      <td>2.153458</td>\n",
       "      <td>3.554593</td>\n",
       "      <td>1.354874</td>\n",
       "      <td>-3.870609</td>\n",
       "      <td>5.259204</td>\n",
       "      <td>...</td>\n",
       "      <td>0.219557</td>\n",
       "      <td>0.440156</td>\n",
       "      <td>0.353140</td>\n",
       "      <td>0.282902</td>\n",
       "      <td>0.495037</td>\n",
       "      <td>0.051441</td>\n",
       "      <td>0.288239</td>\n",
       "      <td>0.102125</td>\n",
       "      <td>-0.108209</td>\n",
       "      <td>0.380697</td>\n",
       "    </tr>\n",
       "    <tr>\n",
       "      <th>...</th>\n",
       "      <td>...</td>\n",
       "      <td>...</td>\n",
       "      <td>...</td>\n",
       "      <td>...</td>\n",
       "      <td>...</td>\n",
       "      <td>...</td>\n",
       "      <td>...</td>\n",
       "      <td>...</td>\n",
       "      <td>...</td>\n",
       "      <td>...</td>\n",
       "      <td>...</td>\n",
       "      <td>...</td>\n",
       "      <td>...</td>\n",
       "      <td>...</td>\n",
       "      <td>...</td>\n",
       "      <td>...</td>\n",
       "      <td>...</td>\n",
       "      <td>...</td>\n",
       "      <td>...</td>\n",
       "      <td>...</td>\n",
       "      <td>...</td>\n",
       "    </tr>\n",
       "    <tr>\n",
       "      <th>6968</th>\n",
       "      <td>-13.252746</td>\n",
       "      <td>-1.799584</td>\n",
       "      <td>-10.791623</td>\n",
       "      <td>-0.478957</td>\n",
       "      <td>3.080260</td>\n",
       "      <td>0.461633</td>\n",
       "      <td>-0.411095</td>\n",
       "      <td>0.923135</td>\n",
       "      <td>-4.357333</td>\n",
       "      <td>2.617894</td>\n",
       "      <td>...</td>\n",
       "      <td>0.067390</td>\n",
       "      <td>-0.308404</td>\n",
       "      <td>0.219051</td>\n",
       "      <td>0.228290</td>\n",
       "      <td>0.228868</td>\n",
       "      <td>-0.463160</td>\n",
       "      <td>-0.220504</td>\n",
       "      <td>-0.096232</td>\n",
       "      <td>0.195210</td>\n",
       "      <td>-0.386038</td>\n",
       "    </tr>\n",
       "    <tr>\n",
       "      <th>3454</th>\n",
       "      <td>-7.245454</td>\n",
       "      <td>9.533084</td>\n",
       "      <td>2.975926</td>\n",
       "      <td>1.094939</td>\n",
       "      <td>-3.450215</td>\n",
       "      <td>5.026801</td>\n",
       "      <td>4.080831</td>\n",
       "      <td>-0.620966</td>\n",
       "      <td>1.179843</td>\n",
       "      <td>10.649586</td>\n",
       "      <td>...</td>\n",
       "      <td>0.709527</td>\n",
       "      <td>1.073483</td>\n",
       "      <td>0.180284</td>\n",
       "      <td>-0.805631</td>\n",
       "      <td>-0.762835</td>\n",
       "      <td>0.218174</td>\n",
       "      <td>-1.607572</td>\n",
       "      <td>0.048808</td>\n",
       "      <td>0.643282</td>\n",
       "      <td>0.338077</td>\n",
       "    </tr>\n",
       "    <tr>\n",
       "      <th>2671</th>\n",
       "      <td>2.210760</td>\n",
       "      <td>1.670858</td>\n",
       "      <td>13.583397</td>\n",
       "      <td>1.088343</td>\n",
       "      <td>-2.329607</td>\n",
       "      <td>-1.587633</td>\n",
       "      <td>-2.108068</td>\n",
       "      <td>-3.651491</td>\n",
       "      <td>-1.332405</td>\n",
       "      <td>-4.876875</td>\n",
       "      <td>...</td>\n",
       "      <td>0.446595</td>\n",
       "      <td>0.165958</td>\n",
       "      <td>0.204113</td>\n",
       "      <td>0.542397</td>\n",
       "      <td>0.433225</td>\n",
       "      <td>-0.097307</td>\n",
       "      <td>0.618107</td>\n",
       "      <td>0.020236</td>\n",
       "      <td>-0.264366</td>\n",
       "      <td>-0.411139</td>\n",
       "    </tr>\n",
       "    <tr>\n",
       "      <th>6845</th>\n",
       "      <td>20.676349</td>\n",
       "      <td>-3.878379</td>\n",
       "      <td>5.584947</td>\n",
       "      <td>-0.328947</td>\n",
       "      <td>0.016768</td>\n",
       "      <td>10.027784</td>\n",
       "      <td>-0.069605</td>\n",
       "      <td>3.790430</td>\n",
       "      <td>0.126391</td>\n",
       "      <td>-4.242539</td>\n",
       "      <td>...</td>\n",
       "      <td>-0.118747</td>\n",
       "      <td>-0.130776</td>\n",
       "      <td>-0.413523</td>\n",
       "      <td>0.265089</td>\n",
       "      <td>0.084302</td>\n",
       "      <td>0.149528</td>\n",
       "      <td>0.105920</td>\n",
       "      <td>-0.276486</td>\n",
       "      <td>-0.181587</td>\n",
       "      <td>0.236658</td>\n",
       "    </tr>\n",
       "    <tr>\n",
       "      <th>2853</th>\n",
       "      <td>-1.657020</td>\n",
       "      <td>4.066924</td>\n",
       "      <td>-3.177606</td>\n",
       "      <td>-0.915522</td>\n",
       "      <td>-2.075506</td>\n",
       "      <td>-4.358327</td>\n",
       "      <td>-7.042018</td>\n",
       "      <td>-4.687050</td>\n",
       "      <td>-4.726290</td>\n",
       "      <td>1.786459</td>\n",
       "      <td>...</td>\n",
       "      <td>-0.055338</td>\n",
       "      <td>0.548591</td>\n",
       "      <td>-0.132277</td>\n",
       "      <td>-0.127784</td>\n",
       "      <td>0.416389</td>\n",
       "      <td>-0.052062</td>\n",
       "      <td>-0.053241</td>\n",
       "      <td>0.598148</td>\n",
       "      <td>-0.741619</td>\n",
       "      <td>0.497216</td>\n",
       "    </tr>\n",
       "  </tbody>\n",
       "</table>\n",
       "<p>500 rows × 300 columns</p>\n",
       "</div>"
      ],
      "text/plain": [
       "            0          1          2          3         4          5    \\\n",
       "2436   6.411785   9.227964   5.085998  -2.368798  5.719873  -2.903780   \n",
       "1519  10.117870 -10.185149  -4.645674  -1.961590 -2.704262   3.472707   \n",
       "4185 -11.653149   5.854071  14.963570   8.374763  0.893180  -0.655721   \n",
       "4623 -12.479951   0.718186   5.778529  -1.094971  6.891340   0.728841   \n",
       "4029 -19.117382   3.280064  10.835315  10.628334 -3.448583   2.153458   \n",
       "...         ...        ...        ...        ...       ...        ...   \n",
       "6968 -13.252746  -1.799584 -10.791623  -0.478957  3.080260   0.461633   \n",
       "3454  -7.245454   9.533084   2.975926   1.094939 -3.450215   5.026801   \n",
       "2671   2.210760   1.670858  13.583397   1.088343 -2.329607  -1.587633   \n",
       "6845  20.676349  -3.878379   5.584947  -0.328947  0.016768  10.027784   \n",
       "2853  -1.657020   4.066924  -3.177606  -0.915522 -2.075506  -4.358327   \n",
       "\n",
       "           6          7         8          9    ...       290       291  \\\n",
       "2436 -6.164981  -1.407622 -9.371026   1.135372  ...  0.039405  0.001824   \n",
       "1519  1.548210  -2.004890  0.958254   4.558173  ...  0.112705 -0.051735   \n",
       "4185  6.707217  10.350585  6.247142   3.184425  ... -0.108723 -0.130477   \n",
       "4623 -4.024922   2.149929 -2.552387   0.471854  ...  0.422592  0.066267   \n",
       "4029  3.554593   1.354874 -3.870609   5.259204  ...  0.219557  0.440156   \n",
       "...        ...        ...       ...        ...  ...       ...       ...   \n",
       "6968 -0.411095   0.923135 -4.357333   2.617894  ...  0.067390 -0.308404   \n",
       "3454  4.080831  -0.620966  1.179843  10.649586  ...  0.709527  1.073483   \n",
       "2671 -2.108068  -3.651491 -1.332405  -4.876875  ...  0.446595  0.165958   \n",
       "6845 -0.069605   3.790430  0.126391  -4.242539  ... -0.118747 -0.130776   \n",
       "2853 -7.042018  -4.687050 -4.726290   1.786459  ... -0.055338  0.548591   \n",
       "\n",
       "           292       293       294       295       296       297       298  \\\n",
       "2436 -0.539755  0.352398  0.022815  0.313504  0.673618 -0.320396  0.432380   \n",
       "1519 -0.174975 -0.160404 -0.140225  0.032943 -0.305237  0.454419  0.006048   \n",
       "4185  0.200257  0.016359 -0.196137 -0.191710 -0.574974  0.114481  0.206067   \n",
       "4623 -0.133395 -0.472080 -0.011764  0.108096 -0.937192  0.761661  0.156557   \n",
       "4029  0.353140  0.282902  0.495037  0.051441  0.288239  0.102125 -0.108209   \n",
       "...        ...       ...       ...       ...       ...       ...       ...   \n",
       "6968  0.219051  0.228290  0.228868 -0.463160 -0.220504 -0.096232  0.195210   \n",
       "3454  0.180284 -0.805631 -0.762835  0.218174 -1.607572  0.048808  0.643282   \n",
       "2671  0.204113  0.542397  0.433225 -0.097307  0.618107  0.020236 -0.264366   \n",
       "6845 -0.413523  0.265089  0.084302  0.149528  0.105920 -0.276486 -0.181587   \n",
       "2853 -0.132277 -0.127784  0.416389 -0.052062 -0.053241  0.598148 -0.741619   \n",
       "\n",
       "           299  \n",
       "2436 -0.076211  \n",
       "1519  0.120737  \n",
       "4185 -0.021371  \n",
       "4623 -0.139952  \n",
       "4029  0.380697  \n",
       "...        ...  \n",
       "6968 -0.386038  \n",
       "3454  0.338077  \n",
       "2671 -0.411139  \n",
       "6845  0.236658  \n",
       "2853  0.497216  \n",
       "\n",
       "[500 rows x 300 columns]"
      ]
     },
     "execution_count": 18,
     "metadata": {},
     "output_type": "execute_result"
    }
   ],
   "source": [
    "X"
   ]
  },
  {
   "cell_type": "code",
   "execution_count": 9,
   "metadata": {
    "ExecuteTime": {
     "end_time": "2020-03-12T17:19:01.251981Z",
     "start_time": "2020-03-12T17:17:13.901696Z"
    }
   },
   "outputs": [
    {
     "data": {
      "text/plain": [
       "XGBClassifier(base_score=0.5, booster='gbtree', colsample_bylevel=1,\n",
       "              colsample_bynode=1, colsample_bytree=0.8, gamma=0,\n",
       "              learning_rate=0.1, max_delta_step=0, max_depth=5,\n",
       "              min_child_weight=1, missing=None, n_estimators=1000, n_jobs=1,\n",
       "              nthread=8, objective='multi:softprob', random_state=0,\n",
       "              reg_alpha=0, reg_lambda=1, scale_pos_weight=1, seed=0,\n",
       "              silent=None, subsample=0.8, verbosity=1)"
      ]
     },
     "execution_count": 9,
     "metadata": {},
     "output_type": "execute_result"
    }
   ],
   "source": [
    "xg.fit(X,y)"
   ]
  },
  {
   "cell_type": "code",
   "execution_count": 11,
   "metadata": {
    "ExecuteTime": {
     "end_time": "2020-03-12T17:20:35.421831Z",
     "start_time": "2020-03-12T17:20:35.404448Z"
    }
   },
   "outputs": [],
   "source": [
    "test = data.drop(X.index)\n",
    "X_test = test.iloc[:,1:]\n",
    "y_test = test.iloc[:,0]"
   ]
  },
  {
   "cell_type": "code",
   "execution_count": 19,
   "metadata": {
    "ExecuteTime": {
     "end_time": "2020-03-12T17:22:15.237991Z",
     "start_time": "2020-03-12T17:22:15.216400Z"
    }
   },
   "outputs": [
    {
     "data": {
      "text/html": [
       "<div>\n",
       "<style scoped>\n",
       "    .dataframe tbody tr th:only-of-type {\n",
       "        vertical-align: middle;\n",
       "    }\n",
       "\n",
       "    .dataframe tbody tr th {\n",
       "        vertical-align: top;\n",
       "    }\n",
       "\n",
       "    .dataframe thead th {\n",
       "        text-align: right;\n",
       "    }\n",
       "</style>\n",
       "<table border=\"1\" class=\"dataframe\">\n",
       "  <thead>\n",
       "    <tr style=\"text-align: right;\">\n",
       "      <th></th>\n",
       "      <th>0</th>\n",
       "      <th>1</th>\n",
       "      <th>2</th>\n",
       "      <th>3</th>\n",
       "      <th>4</th>\n",
       "      <th>5</th>\n",
       "      <th>6</th>\n",
       "      <th>7</th>\n",
       "      <th>8</th>\n",
       "      <th>9</th>\n",
       "      <th>...</th>\n",
       "      <th>290</th>\n",
       "      <th>291</th>\n",
       "      <th>292</th>\n",
       "      <th>293</th>\n",
       "      <th>294</th>\n",
       "      <th>295</th>\n",
       "      <th>296</th>\n",
       "      <th>297</th>\n",
       "      <th>298</th>\n",
       "      <th>299</th>\n",
       "    </tr>\n",
       "  </thead>\n",
       "  <tbody>\n",
       "    <tr>\n",
       "      <th>0</th>\n",
       "      <td>-9.419547</td>\n",
       "      <td>0.459947</td>\n",
       "      <td>-7.288776</td>\n",
       "      <td>4.110508</td>\n",
       "      <td>-6.179064</td>\n",
       "      <td>-1.794985</td>\n",
       "      <td>-0.001060</td>\n",
       "      <td>3.682690</td>\n",
       "      <td>2.262369</td>\n",
       "      <td>-0.754340</td>\n",
       "      <td>...</td>\n",
       "      <td>0.426717</td>\n",
       "      <td>-0.391139</td>\n",
       "      <td>-0.190100</td>\n",
       "      <td>-0.044736</td>\n",
       "      <td>-0.246842</td>\n",
       "      <td>-0.032605</td>\n",
       "      <td>0.151998</td>\n",
       "      <td>-0.047171</td>\n",
       "      <td>-0.054338</td>\n",
       "      <td>0.252969</td>\n",
       "    </tr>\n",
       "    <tr>\n",
       "      <th>1</th>\n",
       "      <td>-5.124728</td>\n",
       "      <td>-1.297131</td>\n",
       "      <td>-7.837942</td>\n",
       "      <td>2.811276</td>\n",
       "      <td>-2.980114</td>\n",
       "      <td>-3.179390</td>\n",
       "      <td>-3.616721</td>\n",
       "      <td>-1.658861</td>\n",
       "      <td>0.993507</td>\n",
       "      <td>1.924557</td>\n",
       "      <td>...</td>\n",
       "      <td>0.476081</td>\n",
       "      <td>0.707167</td>\n",
       "      <td>0.027435</td>\n",
       "      <td>-0.201637</td>\n",
       "      <td>0.974762</td>\n",
       "      <td>-0.146275</td>\n",
       "      <td>0.102927</td>\n",
       "      <td>0.754423</td>\n",
       "      <td>0.149169</td>\n",
       "      <td>0.175828</td>\n",
       "    </tr>\n",
       "  </tbody>\n",
       "</table>\n",
       "<p>2 rows × 300 columns</p>\n",
       "</div>"
      ],
      "text/plain": [
       "        0         1         2         3         4         5         6    \\\n",
       "0 -9.419547  0.459947 -7.288776  4.110508 -6.179064 -1.794985 -0.001060   \n",
       "1 -5.124728 -1.297131 -7.837942  2.811276 -2.980114 -3.179390 -3.616721   \n",
       "\n",
       "        7         8         9    ...       290       291       292       293  \\\n",
       "0  3.682690  2.262369 -0.754340  ...  0.426717 -0.391139 -0.190100 -0.044736   \n",
       "1 -1.658861  0.993507  1.924557  ...  0.476081  0.707167  0.027435 -0.201637   \n",
       "\n",
       "        294       295       296       297       298       299  \n",
       "0 -0.246842 -0.032605  0.151998 -0.047171 -0.054338  0.252969  \n",
       "1  0.974762 -0.146275  0.102927  0.754423  0.149169  0.175828  \n",
       "\n",
       "[2 rows x 300 columns]"
      ]
     },
     "execution_count": 19,
     "metadata": {},
     "output_type": "execute_result"
    }
   ],
   "source": []
  },
  {
   "cell_type": "code",
   "execution_count": 22,
   "metadata": {
    "ExecuteTime": {
     "end_time": "2020-03-12T17:23:01.372206Z",
     "start_time": "2020-03-12T17:23:01.352679Z"
    }
   },
   "outputs": [
    {
     "data": {
      "text/plain": [
       "array([0.99999994, 0.99999994], dtype=float32)"
      ]
     },
     "execution_count": 22,
     "metadata": {},
     "output_type": "execute_result"
    }
   ],
   "source": [
    "import numpy as np\n",
    "np.sum(xg.predict_proba(X_test.iloc[:2,:]), axis = 1)"
   ]
  },
  {
   "cell_type": "code",
   "execution_count": 23,
   "metadata": {
    "ExecuteTime": {
     "end_time": "2020-03-12T17:23:43.589202Z",
     "start_time": "2020-03-12T17:23:43.586189Z"
    }
   },
   "outputs": [],
   "source": [
    "from scipy.stats import entropy\n"
   ]
  },
  {
   "cell_type": "code",
   "execution_count": 26,
   "metadata": {
    "ExecuteTime": {
     "end_time": "2020-03-12T17:24:03.607395Z",
     "start_time": "2020-03-12T17:24:03.602035Z"
    }
   },
   "outputs": [
    {
     "data": {
      "text/plain": [
       "1.0"
      ]
     },
     "execution_count": 26,
     "metadata": {},
     "output_type": "execute_result"
    }
   ],
   "source": [
    "entropy([0.5, 0.5], base = 2)"
   ]
  },
  {
   "cell_type": "code",
   "execution_count": null,
   "metadata": {},
   "outputs": [],
   "source": []
  }
 ],
 "metadata": {
  "hide_input": false,
  "kernelspec": {
   "display_name": "Python 3",
   "language": "python",
   "name": "python3"
  },
  "language_info": {
   "codemirror_mode": {
    "name": "ipython",
    "version": 3
   },
   "file_extension": ".py",
   "mimetype": "text/x-python",
   "name": "python",
   "nbconvert_exporter": "python",
   "pygments_lexer": "ipython3",
   "version": "3.8.0"
  },
  "varInspector": {
   "cols": {
    "lenName": 16,
    "lenType": 16,
    "lenVar": 40
   },
   "kernels_config": {
    "python": {
     "delete_cmd_postfix": "",
     "delete_cmd_prefix": "del ",
     "library": "var_list.py",
     "varRefreshCmd": "print(var_dic_list())"
    },
    "r": {
     "delete_cmd_postfix": ") ",
     "delete_cmd_prefix": "rm(",
     "library": "var_list.r",
     "varRefreshCmd": "cat(var_dic_list()) "
    }
   },
   "types_to_exclude": [
    "module",
    "function",
    "builtin_function_or_method",
    "instance",
    "_Feature"
   ],
   "window_display": false
  }
 },
 "nbformat": 4,
 "nbformat_minor": 4
}
