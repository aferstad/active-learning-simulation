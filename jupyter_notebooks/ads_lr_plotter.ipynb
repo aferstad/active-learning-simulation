{
 "cells": [
  {
   "cell_type": "code",
   "execution_count": 10,
   "metadata": {
    "ExecuteTime": {
     "end_time": "2020-03-23T12:46:10.981067Z",
     "start_time": "2020-03-23T12:46:10.975480Z"
    }
   },
   "outputs": [
    {
     "name": "stdout",
     "output_type": "stream",
     "text": [
      "/Users/andreasopsahlferstad/privacy_active_learning\n"
     ]
    }
   ],
   "source": [
    "# current dir\n",
    "%pwd\n",
    "\n",
    "%cd '~/privacy_active_learning'"
   ]
  },
  {
   "cell_type": "code",
   "execution_count": 11,
   "metadata": {
    "ExecuteTime": {
     "end_time": "2020-03-23T12:46:11.484660Z",
     "start_time": "2020-03-23T12:46:11.480805Z"
    }
   },
   "outputs": [],
   "source": [
    "import alsDataManager\n",
    "import matplotlib.pyplot as plt\n",
    "import pandas as pd\n",
    "import numpy as np\n",
    "from matplotlib import cm\n",
    "from matplotlib import rc\n"
   ]
  },
  {
   "cell_type": "code",
   "execution_count": 12,
   "metadata": {
    "ExecuteTime": {
     "end_time": "2020-03-23T12:46:11.997943Z",
     "start_time": "2020-03-23T12:46:11.986816Z"
    }
   },
   "outputs": [],
   "source": [
    "# create ts and no_ts data for lr ads\n",
    "no_ts = 'final_experiments/ads_lr/ads_lr_no_ts_final.txt.txt'\n",
    "no_ts = alsDataManager.open_dict_from_json(no_ts)\n",
    "\n",
    "ts = 'final_experiments/ads_lr/ads_lr_ts_final.txt.txt'\n",
    "ts = alsDataManager.open_dict_from_json(ts)\n",
    "\n",
    "no_ts = no_ts['results']\n",
    "ts = ts['results']"
   ]
  },
  {
   "cell_type": "code",
   "execution_count": 13,
   "metadata": {
    "ExecuteTime": {
     "end_time": "2020-03-23T12:46:12.633380Z",
     "start_time": "2020-03-23T12:46:12.626251Z"
    }
   },
   "outputs": [],
   "source": [
    "# create df that merges ts and no_ts\n",
    "d = no_ts\n",
    "\n",
    "keys1 = list(d.keys())  # assumed to be learning methods\n",
    "keys2 = list(d[keys1[0]].keys())  # assumed to be row variation\n",
    "keys3 = list(d[keys1[0]][keys2[0]].keys())  # assumed to be column variation\n",
    "keys4 = list(d[keys1[0]][keys2[0]][keys3[0]].keys())  # assumed to be performance metrics\n",
    "\n",
    "methods_no_ts = list(no_ts.keys())\n",
    "\n",
    "\n",
    "# remove methods_ts here if you have too many\n",
    "methods_ts = list(ts['learning_method_similar_uncertainty_optimization'].keys())\n",
    "\n",
    "metrics = ['accuracy', 'consistencies']\n",
    "\n",
    "df = {}\n",
    "\n",
    "for metric in metrics:\n",
    "    df[metric] = {}\n",
    "    for method in methods_no_ts:\n",
    "        df[metric][method] = no_ts[method][keys2[0]][keys3[0]][metric]\n",
    "    for method in methods_ts:\n",
    "        df[metric][method] = ts['learning_method_similar_uncertainty_optimization'][method][keys3[0]][metric]"
   ]
  },
  {
   "cell_type": "code",
   "execution_count": 37,
   "metadata": {
    "ExecuteTime": {
     "end_time": "2020-03-23T13:56:06.966359Z",
     "start_time": "2020-03-23T13:56:06.954044Z"
    }
   },
   "outputs": [],
   "source": [
    "def define_color_dict(exclusion_thresholds, upper_color = 1):\n",
    "\n",
    "    # create color_dict\n",
    "    n_cmap_lines = 2 + len(methods_ts) - len(exclusion_thresholds)\n",
    "    cm_subsection = np.linspace(0, upper_color, n_cmap_lines)\n",
    "\n",
    "    colors = [cm.winter(x) for x in cm_subsection]\n",
    "\n",
    "    color_dict = {\n",
    "        'learning_method_random': (101/255, 101/255, 101/255, 1)\n",
    "    }\n",
    "    label_dict = {\n",
    "        'random': 'random',\n",
    "        'uncertainty': 'uncertainty, k=1',\n",
    "        'similar': 'similar, k=∞'\n",
    "    }\n",
    "    \n",
    "    \n",
    "    colors = [\n",
    "        (230/255,7/255,26/255),\n",
    "        (222/255,122/255,160/255,1),\n",
    "        (141/255,204/255,235/255,1),\n",
    "        (27/255,141/255,204/255,1)\n",
    "    ]\n",
    "    \n",
    "    colors = [\n",
    "        (243/255,56/255,41/255, 1),\n",
    "        (255/255,119/255,81/255,1),\n",
    "        (14/255,185/255,203/255,1),\n",
    "        (2/255,95/255,106/255,1)\n",
    "    ]\n",
    "    \n",
    "    colors = [\n",
    "        (219.0/255,68.0/255,55.0/255, 1),\n",
    "        (244/255.0,180/255.0,0/255.0,1),\n",
    "        (15/255.0,157/255.0,88/255.0,1),\n",
    "        (66/255.0,133/255.0,244/255.0,1)\n",
    "    ]\n",
    "    \n",
    "    \n",
    "\n",
    "    color_dict['learning_method_uncertainty'] = colors[0]\n",
    "    color_dict['learning_method_similar'] = colors[-1]\n",
    "\n",
    "    i = 0\n",
    "    for method in methods_ts:\n",
    "        label = '_'.join(method.split('_')[2:])\n",
    "        if label in exclusion_thresholds:\n",
    "            continue\n",
    "        color_dict[method] = colors[i+1]\n",
    "        k = method.split('_')[-1]\n",
    "        label_dict['_'.join(method.split('_')[2:])] = 'thresholding, k=' + k\n",
    "        i += 1\n",
    "    \n",
    "    return color_dict, label_dict\n"
   ]
  },
  {
   "cell_type": "code",
   "execution_count": 15,
   "metadata": {
    "ExecuteTime": {
     "end_time": "2020-03-23T12:46:14.206252Z",
     "start_time": "2020-03-23T12:46:14.202684Z"
    }
   },
   "outputs": [],
   "source": [
    "exclusion_thresholds = []\n",
    "color_dict, label_dict = define_color_dict(exclusion_thresholds)"
   ]
  },
  {
   "cell_type": "code",
   "execution_count": 16,
   "metadata": {
    "ExecuteTime": {
     "end_time": "2020-03-23T12:46:14.747642Z",
     "start_time": "2020-03-23T12:46:14.743426Z"
    }
   },
   "outputs": [
    {
     "data": {
      "text/plain": [
       "dict_keys(['learning_method_random', 'learning_method_uncertainty', 'learning_method_similar', 'certainty_ratio_threshold_5', 'certainty_ratio_threshold_50', 'certainty_ratio_threshold_100', 'certainty_ratio_threshold_500', 'certainty_ratio_threshold_1000'])"
      ]
     },
     "execution_count": 16,
     "metadata": {},
     "output_type": "execute_result"
    }
   ],
   "source": [
    "df['accuracy'].keys()"
   ]
  },
  {
   "cell_type": "code",
   "execution_count": 17,
   "metadata": {
    "ExecuteTime": {
     "end_time": "2020-03-23T12:46:15.634085Z",
     "start_time": "2020-03-23T12:46:15.406325Z"
    }
   },
   "outputs": [
    {
     "data": {
      "image/png": "[encoded data removed]",
      "text/plain": [
       "<Figure size 432x288 with 1 Axes>"
      ]
     },
     "metadata": {
      "needs_background": "light"
     },
     "output_type": "display_data"
    }
   ],
   "source": [
    "for metric in ['accuracy','consistencies']:\n",
    "    for method in df[metric]:\n",
    "        plt.plot(df[metric][method], color=color_dict[method])"
   ]
  },
  {
   "cell_type": "code",
   "execution_count": 39,
   "metadata": {
    "ExecuteTime": {
     "end_time": "2020-03-23T13:57:04.679942Z",
     "start_time": "2020-03-23T13:57:04.659386Z"
    }
   },
   "outputs": [],
   "source": [
    "# xg voice \n",
    "def plot_ac(save_path, N_DELETED, rolling_window_size, max_x, max_y, min_y, tick_distance_dict, exclusion_thresholds, y_pos_change):\n",
    "    for metric in metrics:\n",
    "        width = 3* 2.54\n",
    "        height = 3* 2.54\n",
    "        fig = plt.figure(figsize=(width, height))\n",
    "\n",
    "        # Remove the plot frame lines\n",
    "        ax = plt.subplot(111)  \n",
    "        ax.spines[\"top\"].set_visible(False)  \n",
    "        #ax.spines[\"bottom\"].set_visible(False)  \n",
    "        ax.spines[\"right\"].set_visible(False)  \n",
    "        #ax.spines[\"left\"].set_visible(False)  \n",
    "\n",
    "        # Ensure that the axis ticks only show up on the bottom and left of the plot.  \n",
    "        # Ticks on the right and top of the plot are generally unnecessary chartjunk.  \n",
    "        #ax.get_xaxis().tick_bottom()  \n",
    "        #ax.get_yaxis().tick_left()\n",
    "\n",
    "        #plt.ylim(min_y, max_y)  \n",
    "\n",
    "        # Make sure your axis ticks are large enough to be easily read.  \n",
    "        # You don't want your viewers squinting to read your plot.  \n",
    "\n",
    "        label = 'points deleted'   \n",
    "        plt.axvline(x=N_DELETED,\n",
    "                    color='gray',\n",
    "                    alpha=0.5,\n",
    "                    label=label,\n",
    "                    linestyle='dotted')\n",
    "        #min_y = ax.get_ylim()[0]\n",
    "        #max_y = ax.get_ylim()[1]\n",
    "\n",
    "\n",
    "        if metric == 'accuracy':\n",
    "            initial_y = df[metric][methods_no_ts[0]][0]\n",
    "            label = 'initial accuracy'\n",
    "            plt.axhline(y=initial_y,\n",
    "                          color='gray',\n",
    "                          alpha=0.5,\n",
    "                          label=label,\n",
    "                          linestyle='dotted')\n",
    "\n",
    "            plt.text(max_x+1, initial_y-0.0005, label, color = 'gray', fontsize=14, fontstyle = 'italic')\n",
    "\n",
    "        for i, method in enumerate(df[metric]):  \n",
    "            label = '_'.join(method.split('_')[2:])\n",
    "            if label in exclusion_thresholds:\n",
    "                continue\n",
    "            s = pd.Series(df[metric][method])\n",
    "            s_smooth = s.rolling(rolling_window_size, center = True).mean()\n",
    "            plt.plot(s,\n",
    "                     label=label,\n",
    "                     lw=1,\n",
    "                     alpha=0.15,\n",
    "                     color=color_dict[method])\n",
    "            plt.plot(list(s_smooth),\n",
    "                     label=label,\n",
    "                     lw=lw,\n",
    "                     alpha=1,\n",
    "                     color=color_dict[method])\n",
    "            y_pos = list(s_smooth)[-rolling_window_size]\n",
    "            \n",
    "            change = y_pos_change[metric].get(label, 0)\n",
    "            y_pos += change\n",
    "            \n",
    "            \n",
    "            \n",
    "            plt.text(max_x+3, y_pos, label_dict[label], color = color_dict[method], fontsize=14, weight = 'bold')\n",
    "\n",
    "\n",
    "\n",
    "        plt.xlabel('Points labeled after data deletion', fontsize=14, weight = 'bold')\n",
    "\n",
    "\n",
    "        plt.ylabel('Model ' + metric, fontsize=14, weight = 'bold')\n",
    "        if metric == 'consistencies':\n",
    "            plt.ylabel('Model ' + 'consistency', fontsize=14, weight = 'bold')\n",
    "\n",
    "\n",
    "        plt.xlim(min_x, max_x)\n",
    "        plt.ylim(min_y[metric], max_y[metric])\n",
    "\n",
    "        #label ='points deleted = points added'\n",
    "        #if metric == 'accuracy':\n",
    "        #    plt.text(N_DELETED+3, max_y-0.002, label, color='gray', fontsize = 14)\n",
    "        #    pass\n",
    "        #else:\n",
    "        #    plt.text(N_DELETED+3, max_y-0.001, label, color='gray', fontsize = 14)\n",
    "        #    pass\n",
    "        # manipulate\n",
    "        vals = ax.get_yticks()\n",
    "        ax.set_yticklabels(['{:,.1%}'.format(x) for x in vals])\n",
    "        plt.tight_layout()\n",
    "\n",
    "        tick_distances = tick_distance_dict[metric]\n",
    "        ytick_positions = np.array((range(int(min_y[metric] * 100), int(max_y[metric]*100)+1, tick_distances))) / 100\n",
    "\n",
    "        plt.yticks(ytick_positions, [str(int(x*100)) + \"%\" for x in ytick_positions], fontsize=14)  \n",
    "\n",
    "        start, end = ax.get_xlim()\n",
    "        ax.xaxis.set_ticks(np.arange(start, end+100, 100))\n",
    "        plt.xticks(fontsize=14)  \n",
    "        #plt.legend()\n",
    "        if metric == 'consistencies':\n",
    "            plt.savefig(save_path + '_c', dpi = 200)\n",
    "        else:\n",
    "            plt.savefig(save_path + '_a', dpi = 200)\n",
    "                        "
   ]
  },
  {
   "cell_type": "code",
   "execution_count": 40,
   "metadata": {
    "ExecuteTime": {
     "end_time": "2020-03-23T13:57:06.921043Z",
     "start_time": "2020-03-23T13:57:06.904345Z"
    }
   },
   "outputs": [
    {
     "ename": "TypeError",
     "evalue": "plot_ac() got an unexpected keyword argument 'y_pos_change'",
     "output_type": "error",
     "traceback": [
      "\u001b[0;31m---------------------------------------------------------------------------\u001b[0m",
      "\u001b[0;31mTypeError\u001b[0m                                 Traceback (most recent call last)",
      "\u001b[0;32m<ipython-input-40-47b438332bdc>\u001b[0m in \u001b[0;36m<module>\u001b[0;34m\u001b[0m\n\u001b[1;32m     34\u001b[0m \u001b[0mcolor_dict\u001b[0m\u001b[0;34m,\u001b[0m \u001b[0mlabel_dict\u001b[0m \u001b[0;34m=\u001b[0m \u001b[0mdefine_color_dict\u001b[0m\u001b[0;34m(\u001b[0m\u001b[0mexclusion_thresholds\u001b[0m\u001b[0;34m,\u001b[0m \u001b[0;36m0.95\u001b[0m\u001b[0;34m)\u001b[0m\u001b[0;34m\u001b[0m\u001b[0;34m\u001b[0m\u001b[0m\n\u001b[1;32m     35\u001b[0m \u001b[0;34m\u001b[0m\u001b[0m\n\u001b[0;32m---> 36\u001b[0;31m plot_ac(save_path=save_path,\n\u001b[0m\u001b[1;32m     37\u001b[0m         \u001b[0mN_DELETED\u001b[0m\u001b[0;34m=\u001b[0m\u001b[0mN_DELETED\u001b[0m\u001b[0;34m,\u001b[0m\u001b[0;34m\u001b[0m\u001b[0;34m\u001b[0m\u001b[0m\n\u001b[1;32m     38\u001b[0m         \u001b[0mmax_x\u001b[0m\u001b[0;34m=\u001b[0m\u001b[0mmax_x\u001b[0m\u001b[0;34m,\u001b[0m\u001b[0;34m\u001b[0m\u001b[0;34m\u001b[0m\u001b[0m\n",
      "\u001b[0;31mTypeError\u001b[0m: plot_ac() got an unexpected keyword argument 'y_pos_change'"
     ]
    }
   ],
   "source": [
    "save_path = 'ads_lr'\n",
    "N_DELETED = 300\n",
    "rolling_window_size = 30\n",
    "lw = 2\n",
    "max_x = 500\n",
    "min_x = 0\n",
    "\n",
    "max_y = dict(zip(metrics, [0.89, 0.97]))\n",
    "min_y = dict(zip(metrics, [0.84, 0.92]))\n",
    "\n",
    "tick_distance_dict = {\n",
    "    'consistencies' : 1,\n",
    "    'accuracy' : 1\n",
    "}\n",
    "\n",
    "\n",
    "y_pos_change = {\n",
    "    'accuracy' : {\n",
    "        'random': 0.00,\n",
    "        'similar': -0.002,\n",
    "        'uncertainty': 0.00,\n",
    "        'threshold_1000': 0.00,\n",
    "        'threshold_100': -0.0005\n",
    "    },\n",
    "    'consistencies' : {\n",
    "        'uncertainty': 0.00,\n",
    "        'threshold_1000': -0.002,\n",
    "        'threshold_100': 0.00,\n",
    "        'similar': 0.00,\n",
    "    }\n",
    "}\n",
    "\n",
    "exclusion_thresholds = ['threshold_5', 'threshold_50', 'threshold_500']\n",
    "color_dict, label_dict = define_color_dict(exclusion_thresholds, 0.95)\n",
    "\n",
    "plot_ac(save_path=save_path,\n",
    "        N_DELETED=N_DELETED,\n",
    "        max_x=max_x,\n",
    "        max_y=max_y,\n",
    "        min_y=min_y,\n",
    "        rolling_window_size=rolling_window_size,\n",
    "        tick_distance_dict=tick_distance_dict,\n",
    "       exclusion_thresholds = exclusion_thresholds,\n",
    "       y_pos_change = y_pos_change)"
   ]
  },
  {
   "cell_type": "code",
   "execution_count": null,
   "metadata": {},
   "outputs": [],
   "source": []
  }
 ],
 "metadata": {
  "hide_input": false,
  "kernelspec": {
   "display_name": "Python 3",
   "language": "python",
   "name": "python3"
  },
  "language_info": {
   "codemirror_mode": {
    "name": "ipython",
    "version": 3
   },
   "file_extension": ".py",
   "mimetype": "text/x-python",
   "name": "python",
   "nbconvert_exporter": "python",
   "pygments_lexer": "ipython3",
   "version": "3.8.0"
  },
  "varInspector": {
   "cols": {
    "lenName": 16,
    "lenType": 16,
    "lenVar": 40
   },
   "kernels_config": {
    "python": {
     "delete_cmd_postfix": "",
     "delete_cmd_prefix": "del ",
     "library": "var_list.py",
     "varRefreshCmd": "print(var_dic_list())"
    },
    "r": {
     "delete_cmd_postfix": ") ",
     "delete_cmd_prefix": "rm(",
     "library": "var_list.r",
     "varRefreshCmd": "cat(var_dic_list()) "
    }
   },
   "types_to_exclude": [
    "module",
    "function",
    "builtin_function_or_method",
    "instance",
    "_Feature"
   ],
   "window_display": false
  }
 },
 "nbformat": 4,
 "nbformat_minor": 4
}
