{
 "cells": [
  {
   "cell_type": "code",
   "execution_count": 1,
   "metadata": {
    "ExecuteTime": {
     "end_time": "2020-02-12T14:20:08.508436Z",
     "start_time": "2020-02-12T14:20:08.503741Z"
    }
   },
   "outputs": [],
   "source": [
    "xgboost_heart_params = {'base_score': 0.5,\n",
    " 'booster': 'gbtree',\n",
    " 'colsample_bylevel': 1,\n",
    " 'colsample_bynode': 1,\n",
    " 'colsample_bytree': 0.5555555555555556,\n",
    " 'gamma': 0.25,\n",
    " 'learning_rate': 0.01,\n",
    " 'max_delta_step': 0,\n",
    " 'max_depth': 4,\n",
    " 'min_child_weight': 5,\n",
    " 'missing': None,\n",
    " 'n_estimators': 75,\n",
    " 'n_jobs': 1,\n",
    " 'nthread': 8,\n",
    " 'objective': 'binary:logistic',\n",
    " 'random_state': 0,\n",
    " 'reg_alpha': 1e-05,\n",
    " 'reg_lambda': 1,\n",
    " 'scale_pos_weight': 1,\n",
    " 'seed': 0,\n",
    " 'silent': None,\n",
    " 'subsample': 1.0,\n",
    " 'verbosity': 1}"
   ]
  },
  {
   "cell_type": "code",
   "execution_count": 2,
   "metadata": {
    "ExecuteTime": {
     "end_time": "2020-02-12T14:20:18.951428Z",
     "start_time": "2020-02-12T14:20:18.253706Z"
    }
   },
   "outputs": [],
   "source": [
    "from xgboost.sklearn import XGBClassifier\n"
   ]
  },
  {
   "cell_type": "code",
   "execution_count": 6,
   "metadata": {
    "ExecuteTime": {
     "end_time": "2020-02-12T14:21:32.137132Z",
     "start_time": "2020-02-12T14:21:32.133964Z"
    }
   },
   "outputs": [],
   "source": [
    "model = XGBClassifier(**xgboost_heart_params)"
   ]
  },
  {
   "cell_type": "code",
   "execution_count": 7,
   "metadata": {
    "ExecuteTime": {
     "end_time": "2020-02-12T14:21:36.076823Z",
     "start_time": "2020-02-12T14:21:36.071733Z"
    }
   },
   "outputs": [
    {
     "data": {
      "text/plain": [
       "<bound method XGBModel.get_params of XGBClassifier(base_score=0.5, booster='gbtree', colsample_bylevel=1,\n",
       "              colsample_bynode=1, colsample_bytree=0.5555555555555556,\n",
       "              gamma=0.25, learning_rate=0.01, max_delta_step=0, max_depth=4,\n",
       "              min_child_weight=5, missing=None, n_estimators=75, n_jobs=1,\n",
       "              nthread=8, objective='binary:logistic', random_state=0,\n",
       "              reg_alpha=1e-05, reg_lambda=1, scale_pos_weight=1, seed=0,\n",
       "              silent=None, subsample=1.0, verbosity=1)>"
      ]
     },
     "execution_count": 7,
     "metadata": {},
     "output_type": "execute_result"
    }
   ],
   "source": [
    "model.get_params"
   ]
  },
  {
   "cell_type": "code",
   "execution_count": null,
   "metadata": {},
   "outputs": [],
   "source": []
  }
 ],
 "metadata": {
  "hide_input": false,
  "kernelspec": {
   "display_name": "Python 3",
   "language": "python",
   "name": "python3"
  },
  "language_info": {
   "codemirror_mode": {
    "name": "ipython",
    "version": 3
   },
   "file_extension": ".py",
   "mimetype": "text/x-python",
   "name": "python",
   "nbconvert_exporter": "python",
   "pygments_lexer": "ipython3",
   "version": "3.8.0"
  },
  "varInspector": {
   "cols": {
    "lenName": 16,
    "lenType": 16,
    "lenVar": 40
   },
   "kernels_config": {
    "python": {
     "delete_cmd_postfix": "",
     "delete_cmd_prefix": "del ",
     "library": "var_list.py",
     "varRefreshCmd": "print(var_dic_list())"
    },
    "r": {
     "delete_cmd_postfix": ") ",
     "delete_cmd_prefix": "rm(",
     "library": "var_list.r",
     "varRefreshCmd": "cat(var_dic_list()) "
    }
   },
   "types_to_exclude": [
    "module",
    "function",
    "builtin_function_or_method",
    "instance",
    "_Feature"
   ],
   "window_display": false
  }
 },
 "nbformat": 4,
 "nbformat_minor": 4
}
