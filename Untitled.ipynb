{
 "cells": [
  {
   "cell_type": "code",
   "execution_count": 5,
   "metadata": {
    "ExecuteTime": {
     "end_time": "2020-03-12T15:07:20.799271Z",
     "start_time": "2020-03-12T15:07:20.791689Z"
    }
   },
   "outputs": [],
   "source": [
    "# https://archive.ics.uci.edu/ml/datasets/ISOLET\n",
    "\n",
    "import pandas as pd\n",
    "from sklearn.preprocessing import StandardScaler\n",
    "from sklearn.decomposition import PCA\n",
    "\n",
    "\n",
    "def __get_raw_voice_data():\n",
    "    # IMPORT DATA AND MAKE FIRST COLUMN LABEL\n",
    "    data_train = pd.read_csv('input/voice/isolet1+2+3+4.data', header=None)\n",
    "    data_test = pd.read_csv('input/voice/isolet5.data', header=None)\n",
    "    data = data_train.append(data_test).reset_index().drop(columns=['index'])\n",
    "    data_label = data[617]\n",
    "    data = data.drop(columns = [617])\n",
    "    data.insert(0, 'label', data_label)\n",
    "    return data\n",
    "\n",
    "\n",
    "\n",
    "def get_voice_data():\n",
    "    data = __get_raw_voice_data()\n",
    "\n",
    "\n",
    "    scaler = StandardScaler()\n",
    "    pca = PCA()\n",
    "\n",
    "    X = data.iloc[:,1:]\n",
    "    y = data.iloc[:,0]\n",
    "\n",
    "    X = scaler.fit(X)\n",
    "    X = scaler.transform(X)\n",
    "\n",
    "    X = pca.fit(X)\n",
    "    X = pca.transform(X)\n",
    "\n",
    "    return(X.insert(0, 'label', y))\n",
    "\n",
    "\n"
   ]
  },
  {
   "cell_type": "code",
   "execution_count": 6,
   "metadata": {
    "ExecuteTime": {
     "end_time": "2020-03-12T15:07:22.568592Z",
     "start_time": "2020-03-12T15:07:21.678972Z"
    }
   },
   "outputs": [],
   "source": [
    "data = __get_raw_voice_data()"
   ]
  },
  {
   "cell_type": "code",
   "execution_count": 7,
   "metadata": {
    "ExecuteTime": {
     "end_time": "2020-03-12T15:07:25.888861Z",
     "start_time": "2020-03-12T15:07:25.885979Z"
    }
   },
   "outputs": [],
   "source": [
    "scaler = StandardScaler()\n",
    "pca = PCA()"
   ]
  },
  {
   "cell_type": "code",
   "execution_count": 11,
   "metadata": {
    "ExecuteTime": {
     "end_time": "2020-03-12T15:08:23.262045Z",
     "start_time": "2020-03-12T15:08:22.499940Z"
    }
   },
   "outputs": [
    {
     "data": {
      "text/plain": [
       "array([[-9.41954680e+00,  4.59947432e-01, -7.28877647e+00, ...,\n",
       "        -2.51336993e-03,  1.41328320e-04, -3.84852808e-03],\n",
       "       [-5.12472771e+00, -1.29713082e+00, -7.83794224e+00, ...,\n",
       "         7.18619462e-03, -9.83094142e-03, -8.79309043e-04],\n",
       "       [-1.34003315e+01,  1.89319021e+00, -1.38958777e+01, ...,\n",
       "         3.16938013e-03, -1.10290415e-02,  3.79980570e-02],\n",
       "       ...,\n",
       "       [ 8.74739933e+00, -1.00326082e+00, -4.59571152e+00, ...,\n",
       "        -2.15583014e-03,  4.80993833e-04,  6.93731580e-03],\n",
       "       [-1.63938621e+01,  3.48123473e+00,  8.12071516e+00, ...,\n",
       "         2.26875173e-02, -1.86994478e-02, -3.18665213e-02],\n",
       "       [-1.65730042e+01, -1.36791895e+00,  8.08999795e+00, ...,\n",
       "        -2.62875270e-02, -5.64217527e-02,  1.22715436e-02]])"
      ]
     },
     "execution_count": 11,
     "metadata": {},
     "output_type": "execute_result"
    }
   ],
   "source": [
    "X = data.iloc[:,1:]\n",
    "scaler.fit(X)\n",
    "X = scaler.transform(X)\n",
    "pca.fit(X)\n",
    "X = pca.transform(X)\n",
    "X"
   ]
  },
  {
   "cell_type": "code",
   "execution_count": 15,
   "metadata": {
    "ExecuteTime": {
     "end_time": "2020-03-12T15:09:23.697766Z",
     "start_time": "2020-03-12T15:09:23.360967Z"
    }
   },
   "outputs": [
    {
     "data": {
      "text/plain": [
       "[<matplotlib.lines.Line2D at 0x125d8c4c0>]"
      ]
     },
     "execution_count": 15,
     "metadata": {},
     "output_type": "execute_result"
    },
    {
     "data": {
      "image/png": "[encoded data removed]",
      "text/plain": [
       "<Figure size 432x288 with 1 Axes>"
      ]
     },
     "metadata": {
      "needs_background": "light"
     },
     "output_type": "display_data"
    }
   ],
   "source": [
    "import numpy as np\n",
    "import matplotlib.pyplot as plt\n",
    "plt.plot(np.cumsum(pca.explained_variance_ratio_))"
   ]
  },
  {
   "cell_type": "code",
   "execution_count": 17,
   "metadata": {
    "ExecuteTime": {
     "end_time": "2020-03-12T15:10:00.337076Z",
     "start_time": "2020-03-12T15:10:00.330462Z"
    }
   },
   "outputs": [
    {
     "data": {
      "text/plain": [
       "0.9754170931129732"
      ]
     },
     "execution_count": 17,
     "metadata": {},
     "output_type": "execute_result"
    }
   ],
   "source": [
    "sum(pca.explained_variance_ratio_[:300])"
   ]
  },
  {
   "cell_type": "code",
   "execution_count": 4,
   "metadata": {
    "ExecuteTime": {
     "end_time": "2020-03-12T15:06:57.071459Z",
     "start_time": "2020-03-12T15:06:56.760414Z"
    }
   },
   "outputs": [
    {
     "ename": "TypeError",
     "evalue": "float() argument must be a string or a number, not 'StandardScaler'",
     "output_type": "error",
     "traceback": [
      "\u001b[0;31m---------------------------------------------------------------------------\u001b[0m",
      "\u001b[0;31mTypeError\u001b[0m                                 Traceback (most recent call last)",
      "\u001b[0;32m<ipython-input-4-6ce1a37dcd81>\u001b[0m in \u001b[0;36m<module>\u001b[0;34m\u001b[0m\n\u001b[1;32m      6\u001b[0m \u001b[0;34m\u001b[0m\u001b[0m\n\u001b[1;32m      7\u001b[0m \u001b[0mX\u001b[0m \u001b[0;34m=\u001b[0m \u001b[0mscaler\u001b[0m\u001b[0;34m.\u001b[0m\u001b[0mfit\u001b[0m\u001b[0;34m(\u001b[0m\u001b[0mX\u001b[0m\u001b[0;34m)\u001b[0m\u001b[0;34m\u001b[0m\u001b[0;34m\u001b[0m\u001b[0m\n\u001b[0;32m----> 8\u001b[0;31m \u001b[0mX\u001b[0m \u001b[0;34m=\u001b[0m \u001b[0mscaler\u001b[0m\u001b[0;34m.\u001b[0m\u001b[0mtransform\u001b[0m\u001b[0;34m(\u001b[0m\u001b[0mX\u001b[0m\u001b[0;34m)\u001b[0m\u001b[0;34m\u001b[0m\u001b[0;34m\u001b[0m\u001b[0m\n\u001b[0m\u001b[1;32m      9\u001b[0m \u001b[0;34m\u001b[0m\u001b[0m\n\u001b[1;32m     10\u001b[0m \u001b[0mX\u001b[0m \u001b[0;34m=\u001b[0m \u001b[0mpca\u001b[0m\u001b[0;34m.\u001b[0m\u001b[0mfit\u001b[0m\u001b[0;34m(\u001b[0m\u001b[0mX\u001b[0m\u001b[0;34m)\u001b[0m\u001b[0;34m\u001b[0m\u001b[0;34m\u001b[0m\u001b[0m\n",
      "\u001b[0;32m/Library/Frameworks/Python.framework/Versions/3.8/lib/python3.8/site-packages/sklearn/preprocessing/_data.py\u001b[0m in \u001b[0;36mtransform\u001b[0;34m(self, X, copy)\u001b[0m\n\u001b[1;32m    791\u001b[0m \u001b[0;34m\u001b[0m\u001b[0m\n\u001b[1;32m    792\u001b[0m         \u001b[0mcopy\u001b[0m \u001b[0;34m=\u001b[0m \u001b[0mcopy\u001b[0m \u001b[0;32mif\u001b[0m \u001b[0mcopy\u001b[0m \u001b[0;32mis\u001b[0m \u001b[0;32mnot\u001b[0m \u001b[0;32mNone\u001b[0m \u001b[0;32melse\u001b[0m \u001b[0mself\u001b[0m\u001b[0;34m.\u001b[0m\u001b[0mcopy\u001b[0m\u001b[0;34m\u001b[0m\u001b[0;34m\u001b[0m\u001b[0m\n\u001b[0;32m--> 793\u001b[0;31m         X = check_array(X, accept_sparse='csr', copy=copy,\n\u001b[0m\u001b[1;32m    794\u001b[0m                         \u001b[0mestimator\u001b[0m\u001b[0;34m=\u001b[0m\u001b[0mself\u001b[0m\u001b[0;34m,\u001b[0m \u001b[0mdtype\u001b[0m\u001b[0;34m=\u001b[0m\u001b[0mFLOAT_DTYPES\u001b[0m\u001b[0;34m,\u001b[0m\u001b[0;34m\u001b[0m\u001b[0;34m\u001b[0m\u001b[0m\n\u001b[1;32m    795\u001b[0m                         force_all_finite='allow-nan')\n",
      "\u001b[0;32m/Library/Frameworks/Python.framework/Versions/3.8/lib/python3.8/site-packages/sklearn/utils/validation.py\u001b[0m in \u001b[0;36mcheck_array\u001b[0;34m(array, accept_sparse, accept_large_sparse, dtype, order, copy, force_all_finite, ensure_2d, allow_nd, ensure_min_samples, ensure_min_features, warn_on_dtype, estimator)\u001b[0m\n\u001b[1;32m    529\u001b[0m                     \u001b[0marray\u001b[0m \u001b[0;34m=\u001b[0m \u001b[0marray\u001b[0m\u001b[0;34m.\u001b[0m\u001b[0mastype\u001b[0m\u001b[0;34m(\u001b[0m\u001b[0mdtype\u001b[0m\u001b[0;34m,\u001b[0m \u001b[0mcasting\u001b[0m\u001b[0;34m=\u001b[0m\u001b[0;34m\"unsafe\"\u001b[0m\u001b[0;34m,\u001b[0m \u001b[0mcopy\u001b[0m\u001b[0;34m=\u001b[0m\u001b[0;32mFalse\u001b[0m\u001b[0;34m)\u001b[0m\u001b[0;34m\u001b[0m\u001b[0;34m\u001b[0m\u001b[0m\n\u001b[1;32m    530\u001b[0m                 \u001b[0;32melse\u001b[0m\u001b[0;34m:\u001b[0m\u001b[0;34m\u001b[0m\u001b[0;34m\u001b[0m\u001b[0m\n\u001b[0;32m--> 531\u001b[0;31m                     \u001b[0marray\u001b[0m \u001b[0;34m=\u001b[0m \u001b[0mnp\u001b[0m\u001b[0;34m.\u001b[0m\u001b[0masarray\u001b[0m\u001b[0;34m(\u001b[0m\u001b[0marray\u001b[0m\u001b[0;34m,\u001b[0m \u001b[0morder\u001b[0m\u001b[0;34m=\u001b[0m\u001b[0morder\u001b[0m\u001b[0;34m,\u001b[0m \u001b[0mdtype\u001b[0m\u001b[0;34m=\u001b[0m\u001b[0mdtype\u001b[0m\u001b[0;34m)\u001b[0m\u001b[0;34m\u001b[0m\u001b[0;34m\u001b[0m\u001b[0m\n\u001b[0m\u001b[1;32m    532\u001b[0m             \u001b[0;32mexcept\u001b[0m \u001b[0mComplexWarning\u001b[0m\u001b[0;34m:\u001b[0m\u001b[0;34m\u001b[0m\u001b[0;34m\u001b[0m\u001b[0m\n\u001b[1;32m    533\u001b[0m                 raise ValueError(\"Complex data not supported\\n\"\n",
      "\u001b[0;32m/Library/Frameworks/Python.framework/Versions/3.8/lib/python3.8/site-packages/numpy/core/_asarray.py\u001b[0m in \u001b[0;36masarray\u001b[0;34m(a, dtype, order)\u001b[0m\n\u001b[1;32m     83\u001b[0m \u001b[0;34m\u001b[0m\u001b[0m\n\u001b[1;32m     84\u001b[0m     \"\"\"\n\u001b[0;32m---> 85\u001b[0;31m     \u001b[0;32mreturn\u001b[0m \u001b[0marray\u001b[0m\u001b[0;34m(\u001b[0m\u001b[0ma\u001b[0m\u001b[0;34m,\u001b[0m \u001b[0mdtype\u001b[0m\u001b[0;34m,\u001b[0m \u001b[0mcopy\u001b[0m\u001b[0;34m=\u001b[0m\u001b[0;32mFalse\u001b[0m\u001b[0;34m,\u001b[0m \u001b[0morder\u001b[0m\u001b[0;34m=\u001b[0m\u001b[0morder\u001b[0m\u001b[0;34m)\u001b[0m\u001b[0;34m\u001b[0m\u001b[0;34m\u001b[0m\u001b[0m\n\u001b[0m\u001b[1;32m     86\u001b[0m \u001b[0;34m\u001b[0m\u001b[0m\n\u001b[1;32m     87\u001b[0m \u001b[0;34m\u001b[0m\u001b[0m\n",
      "\u001b[0;31mTypeError\u001b[0m: float() argument must be a string or a number, not 'StandardScaler'"
     ]
    }
   ],
   "source": [
    "\n",
    "\n",
    "y = data.iloc[:,0]\n",
    "\n",
    "X = scaler.fit(X)\n",
    "X = scaler.transform(X)\n",
    "\n",
    "X = \n"
   ]
  },
  {
   "cell_type": "code",
   "execution_count": 20,
   "metadata": {
    "ExecuteTime": {
     "end_time": "2020-03-12T15:15:42.585562Z",
     "start_time": "2020-03-12T15:15:42.550420Z"
    }
   },
   "outputs": [
    {
     "data": {
      "text/html": [
       "<div>\n",
       "<style scoped>\n",
       "    .dataframe tbody tr th:only-of-type {\n",
       "        vertical-align: middle;\n",
       "    }\n",
       "\n",
       "    .dataframe tbody tr th {\n",
       "        vertical-align: top;\n",
       "    }\n",
       "\n",
       "    .dataframe thead th {\n",
       "        text-align: right;\n",
       "    }\n",
       "</style>\n",
       "<table border=\"1\" class=\"dataframe\">\n",
       "  <thead>\n",
       "    <tr style=\"text-align: right;\">\n",
       "      <th></th>\n",
       "      <th>label</th>\n",
       "      <th>0</th>\n",
       "      <th>1</th>\n",
       "      <th>2</th>\n",
       "      <th>3</th>\n",
       "      <th>4</th>\n",
       "      <th>5</th>\n",
       "      <th>6</th>\n",
       "      <th>7</th>\n",
       "      <th>8</th>\n",
       "      <th>...</th>\n",
       "      <th>607</th>\n",
       "      <th>608</th>\n",
       "      <th>609</th>\n",
       "      <th>610</th>\n",
       "      <th>611</th>\n",
       "      <th>612</th>\n",
       "      <th>613</th>\n",
       "      <th>614</th>\n",
       "      <th>615</th>\n",
       "      <th>616</th>\n",
       "    </tr>\n",
       "  </thead>\n",
       "  <tbody>\n",
       "    <tr>\n",
       "      <th>0</th>\n",
       "      <td>1.0</td>\n",
       "      <td>-9.419547</td>\n",
       "      <td>0.459947</td>\n",
       "      <td>-7.288776</td>\n",
       "      <td>4.110508</td>\n",
       "      <td>-6.179064</td>\n",
       "      <td>-1.794985</td>\n",
       "      <td>-0.001060</td>\n",
       "      <td>3.682690</td>\n",
       "      <td>2.262369</td>\n",
       "      <td>...</td>\n",
       "      <td>0.018486</td>\n",
       "      <td>-0.009639</td>\n",
       "      <td>0.016007</td>\n",
       "      <td>0.008309</td>\n",
       "      <td>-0.003537</td>\n",
       "      <td>-0.006566</td>\n",
       "      <td>0.001788</td>\n",
       "      <td>-0.002513</td>\n",
       "      <td>0.000141</td>\n",
       "      <td>-0.003849</td>\n",
       "    </tr>\n",
       "    <tr>\n",
       "      <th>1</th>\n",
       "      <td>1.0</td>\n",
       "      <td>-5.124728</td>\n",
       "      <td>-1.297131</td>\n",
       "      <td>-7.837942</td>\n",
       "      <td>2.811276</td>\n",
       "      <td>-2.980114</td>\n",
       "      <td>-3.179390</td>\n",
       "      <td>-3.616721</td>\n",
       "      <td>-1.658861</td>\n",
       "      <td>0.993507</td>\n",
       "      <td>...</td>\n",
       "      <td>-0.020313</td>\n",
       "      <td>-0.018936</td>\n",
       "      <td>-0.004896</td>\n",
       "      <td>-0.018080</td>\n",
       "      <td>-0.009387</td>\n",
       "      <td>0.000819</td>\n",
       "      <td>0.000861</td>\n",
       "      <td>0.007186</td>\n",
       "      <td>-0.009831</td>\n",
       "      <td>-0.000879</td>\n",
       "    </tr>\n",
       "    <tr>\n",
       "      <th>2</th>\n",
       "      <td>2.0</td>\n",
       "      <td>-13.400332</td>\n",
       "      <td>1.893190</td>\n",
       "      <td>-13.895878</td>\n",
       "      <td>2.957061</td>\n",
       "      <td>5.782542</td>\n",
       "      <td>0.652969</td>\n",
       "      <td>2.071214</td>\n",
       "      <td>1.461448</td>\n",
       "      <td>-1.367054</td>\n",
       "      <td>...</td>\n",
       "      <td>0.009000</td>\n",
       "      <td>-0.017440</td>\n",
       "      <td>0.003047</td>\n",
       "      <td>0.000473</td>\n",
       "      <td>0.005817</td>\n",
       "      <td>0.000333</td>\n",
       "      <td>-0.001330</td>\n",
       "      <td>0.003169</td>\n",
       "      <td>-0.011029</td>\n",
       "      <td>0.037998</td>\n",
       "    </tr>\n",
       "    <tr>\n",
       "      <th>3</th>\n",
       "      <td>2.0</td>\n",
       "      <td>-11.478900</td>\n",
       "      <td>1.443731</td>\n",
       "      <td>-14.838258</td>\n",
       "      <td>2.796870</td>\n",
       "      <td>5.277471</td>\n",
       "      <td>-3.219668</td>\n",
       "      <td>3.712314</td>\n",
       "      <td>3.939993</td>\n",
       "      <td>-3.510095</td>\n",
       "      <td>...</td>\n",
       "      <td>-0.002425</td>\n",
       "      <td>-0.018405</td>\n",
       "      <td>0.016504</td>\n",
       "      <td>0.000975</td>\n",
       "      <td>0.008438</td>\n",
       "      <td>-0.008209</td>\n",
       "      <td>0.029114</td>\n",
       "      <td>-0.042079</td>\n",
       "      <td>-0.014172</td>\n",
       "      <td>0.014641</td>\n",
       "    </tr>\n",
       "    <tr>\n",
       "      <th>4</th>\n",
       "      <td>3.0</td>\n",
       "      <td>-17.500799</td>\n",
       "      <td>5.514334</td>\n",
       "      <td>-0.654720</td>\n",
       "      <td>10.344152</td>\n",
       "      <td>-5.271242</td>\n",
       "      <td>1.209199</td>\n",
       "      <td>3.023300</td>\n",
       "      <td>6.356624</td>\n",
       "      <td>1.384076</td>\n",
       "      <td>...</td>\n",
       "      <td>-0.042690</td>\n",
       "      <td>0.001892</td>\n",
       "      <td>0.025153</td>\n",
       "      <td>-0.032029</td>\n",
       "      <td>0.015441</td>\n",
       "      <td>-0.015064</td>\n",
       "      <td>0.028851</td>\n",
       "      <td>0.032945</td>\n",
       "      <td>0.007071</td>\n",
       "      <td>0.004017</td>\n",
       "    </tr>\n",
       "    <tr>\n",
       "      <th>...</th>\n",
       "      <td>...</td>\n",
       "      <td>...</td>\n",
       "      <td>...</td>\n",
       "      <td>...</td>\n",
       "      <td>...</td>\n",
       "      <td>...</td>\n",
       "      <td>...</td>\n",
       "      <td>...</td>\n",
       "      <td>...</td>\n",
       "      <td>...</td>\n",
       "      <td>...</td>\n",
       "      <td>...</td>\n",
       "      <td>...</td>\n",
       "      <td>...</td>\n",
       "      <td>...</td>\n",
       "      <td>...</td>\n",
       "      <td>...</td>\n",
       "      <td>...</td>\n",
       "      <td>...</td>\n",
       "      <td>...</td>\n",
       "      <td>...</td>\n",
       "    </tr>\n",
       "    <tr>\n",
       "      <th>7792</th>\n",
       "      <td>24.0</td>\n",
       "      <td>14.707349</td>\n",
       "      <td>-11.372000</td>\n",
       "      <td>0.654974</td>\n",
       "      <td>1.563333</td>\n",
       "      <td>2.054053</td>\n",
       "      <td>-2.544104</td>\n",
       "      <td>6.794802</td>\n",
       "      <td>3.986668</td>\n",
       "      <td>-4.932495</td>\n",
       "      <td>...</td>\n",
       "      <td>-0.034156</td>\n",
       "      <td>-0.032746</td>\n",
       "      <td>-0.021018</td>\n",
       "      <td>0.016070</td>\n",
       "      <td>-0.022591</td>\n",
       "      <td>0.001468</td>\n",
       "      <td>0.002988</td>\n",
       "      <td>-0.003120</td>\n",
       "      <td>-0.005034</td>\n",
       "      <td>0.007067</td>\n",
       "    </tr>\n",
       "    <tr>\n",
       "      <th>7793</th>\n",
       "      <td>25.0</td>\n",
       "      <td>6.717087</td>\n",
       "      <td>-0.149503</td>\n",
       "      <td>-3.871648</td>\n",
       "      <td>8.442133</td>\n",
       "      <td>5.796434</td>\n",
       "      <td>-9.194105</td>\n",
       "      <td>5.127070</td>\n",
       "      <td>-7.893769</td>\n",
       "      <td>2.413103</td>\n",
       "      <td>...</td>\n",
       "      <td>-0.025136</td>\n",
       "      <td>0.033431</td>\n",
       "      <td>-0.028316</td>\n",
       "      <td>-0.002437</td>\n",
       "      <td>0.005611</td>\n",
       "      <td>0.003583</td>\n",
       "      <td>-0.046574</td>\n",
       "      <td>-0.019395</td>\n",
       "      <td>-0.001716</td>\n",
       "      <td>0.003202</td>\n",
       "    </tr>\n",
       "    <tr>\n",
       "      <th>7794</th>\n",
       "      <td>25.0</td>\n",
       "      <td>8.747399</td>\n",
       "      <td>-1.003261</td>\n",
       "      <td>-4.595712</td>\n",
       "      <td>7.339776</td>\n",
       "      <td>4.275228</td>\n",
       "      <td>-9.695636</td>\n",
       "      <td>5.500453</td>\n",
       "      <td>-3.941517</td>\n",
       "      <td>3.018535</td>\n",
       "      <td>...</td>\n",
       "      <td>-0.015341</td>\n",
       "      <td>-0.002721</td>\n",
       "      <td>0.004757</td>\n",
       "      <td>0.003621</td>\n",
       "      <td>-0.024991</td>\n",
       "      <td>-0.007427</td>\n",
       "      <td>0.005933</td>\n",
       "      <td>-0.002156</td>\n",
       "      <td>0.000481</td>\n",
       "      <td>0.006937</td>\n",
       "    </tr>\n",
       "    <tr>\n",
       "      <th>7795</th>\n",
       "      <td>26.0</td>\n",
       "      <td>-16.393862</td>\n",
       "      <td>3.481235</td>\n",
       "      <td>8.120715</td>\n",
       "      <td>9.592064</td>\n",
       "      <td>0.299319</td>\n",
       "      <td>-3.764553</td>\n",
       "      <td>7.170642</td>\n",
       "      <td>9.854477</td>\n",
       "      <td>0.117928</td>\n",
       "      <td>...</td>\n",
       "      <td>-0.018248</td>\n",
       "      <td>-0.010094</td>\n",
       "      <td>0.018333</td>\n",
       "      <td>-0.007989</td>\n",
       "      <td>0.006427</td>\n",
       "      <td>-0.005674</td>\n",
       "      <td>0.010534</td>\n",
       "      <td>0.022688</td>\n",
       "      <td>-0.018699</td>\n",
       "      <td>-0.031867</td>\n",
       "    </tr>\n",
       "    <tr>\n",
       "      <th>7796</th>\n",
       "      <td>26.0</td>\n",
       "      <td>-16.573004</td>\n",
       "      <td>-1.367919</td>\n",
       "      <td>8.089998</td>\n",
       "      <td>10.556553</td>\n",
       "      <td>-2.325051</td>\n",
       "      <td>-4.107104</td>\n",
       "      <td>6.068470</td>\n",
       "      <td>6.183053</td>\n",
       "      <td>-3.215141</td>\n",
       "      <td>...</td>\n",
       "      <td>-0.010021</td>\n",
       "      <td>-0.006397</td>\n",
       "      <td>0.015026</td>\n",
       "      <td>-0.029052</td>\n",
       "      <td>-0.012705</td>\n",
       "      <td>-0.003731</td>\n",
       "      <td>0.030285</td>\n",
       "      <td>-0.026288</td>\n",
       "      <td>-0.056422</td>\n",
       "      <td>0.012272</td>\n",
       "    </tr>\n",
       "  </tbody>\n",
       "</table>\n",
       "<p>7797 rows × 618 columns</p>\n",
       "</div>"
      ],
      "text/plain": [
       "      label          0          1          2          3         4         5  \\\n",
       "0       1.0  -9.419547   0.459947  -7.288776   4.110508 -6.179064 -1.794985   \n",
       "1       1.0  -5.124728  -1.297131  -7.837942   2.811276 -2.980114 -3.179390   \n",
       "2       2.0 -13.400332   1.893190 -13.895878   2.957061  5.782542  0.652969   \n",
       "3       2.0 -11.478900   1.443731 -14.838258   2.796870  5.277471 -3.219668   \n",
       "4       3.0 -17.500799   5.514334  -0.654720  10.344152 -5.271242  1.209199   \n",
       "...     ...        ...        ...        ...        ...       ...       ...   \n",
       "7792   24.0  14.707349 -11.372000   0.654974   1.563333  2.054053 -2.544104   \n",
       "7793   25.0   6.717087  -0.149503  -3.871648   8.442133  5.796434 -9.194105   \n",
       "7794   25.0   8.747399  -1.003261  -4.595712   7.339776  4.275228 -9.695636   \n",
       "7795   26.0 -16.393862   3.481235   8.120715   9.592064  0.299319 -3.764553   \n",
       "7796   26.0 -16.573004  -1.367919   8.089998  10.556553 -2.325051 -4.107104   \n",
       "\n",
       "             6         7         8  ...       607       608       609  \\\n",
       "0    -0.001060  3.682690  2.262369  ...  0.018486 -0.009639  0.016007   \n",
       "1    -3.616721 -1.658861  0.993507  ... -0.020313 -0.018936 -0.004896   \n",
       "2     2.071214  1.461448 -1.367054  ...  0.009000 -0.017440  0.003047   \n",
       "3     3.712314  3.939993 -3.510095  ... -0.002425 -0.018405  0.016504   \n",
       "4     3.023300  6.356624  1.384076  ... -0.042690  0.001892  0.025153   \n",
       "...        ...       ...       ...  ...       ...       ...       ...   \n",
       "7792  6.794802  3.986668 -4.932495  ... -0.034156 -0.032746 -0.021018   \n",
       "7793  5.127070 -7.893769  2.413103  ... -0.025136  0.033431 -0.028316   \n",
       "7794  5.500453 -3.941517  3.018535  ... -0.015341 -0.002721  0.004757   \n",
       "7795  7.170642  9.854477  0.117928  ... -0.018248 -0.010094  0.018333   \n",
       "7796  6.068470  6.183053 -3.215141  ... -0.010021 -0.006397  0.015026   \n",
       "\n",
       "           610       611       612       613       614       615       616  \n",
       "0     0.008309 -0.003537 -0.006566  0.001788 -0.002513  0.000141 -0.003849  \n",
       "1    -0.018080 -0.009387  0.000819  0.000861  0.007186 -0.009831 -0.000879  \n",
       "2     0.000473  0.005817  0.000333 -0.001330  0.003169 -0.011029  0.037998  \n",
       "3     0.000975  0.008438 -0.008209  0.029114 -0.042079 -0.014172  0.014641  \n",
       "4    -0.032029  0.015441 -0.015064  0.028851  0.032945  0.007071  0.004017  \n",
       "...        ...       ...       ...       ...       ...       ...       ...  \n",
       "7792  0.016070 -0.022591  0.001468  0.002988 -0.003120 -0.005034  0.007067  \n",
       "7793 -0.002437  0.005611  0.003583 -0.046574 -0.019395 -0.001716  0.003202  \n",
       "7794  0.003621 -0.024991 -0.007427  0.005933 -0.002156  0.000481  0.006937  \n",
       "7795 -0.007989  0.006427 -0.005674  0.010534  0.022688 -0.018699 -0.031867  \n",
       "7796 -0.029052 -0.012705 -0.003731  0.030285 -0.026288 -0.056422  0.012272  \n",
       "\n",
       "[7797 rows x 618 columns]"
      ]
     },
     "execution_count": 20,
     "metadata": {},
     "output_type": "execute_result"
    }
   ],
   "source": [
    "data = pd.DataFrame(X)\n",
    "data\n",
    "data.insert(0, 'label', y)\n",
    "data"
   ]
  },
  {
   "cell_type": "code",
   "execution_count": null,
   "metadata": {},
   "outputs": [],
   "source": []
  }
 ],
 "metadata": {
  "hide_input": false,
  "kernelspec": {
   "display_name": "Python 3",
   "language": "python",
   "name": "python3"
  },
  "language_info": {
   "codemirror_mode": {
    "name": "ipython",
    "version": 3
   },
   "file_extension": ".py",
   "mimetype": "text/x-python",
   "name": "python",
   "nbconvert_exporter": "python",
   "pygments_lexer": "ipython3",
   "version": "3.8.0"
  },
  "varInspector": {
   "cols": {
    "lenName": 16,
    "lenType": 16,
    "lenVar": 40
   },
   "kernels_config": {
    "python": {
     "delete_cmd_postfix": "",
     "delete_cmd_prefix": "del ",
     "library": "var_list.py",
     "varRefreshCmd": "print(var_dic_list())"
    },
    "r": {
     "delete_cmd_postfix": ") ",
     "delete_cmd_prefix": "rm(",
     "library": "var_list.r",
     "varRefreshCmd": "cat(var_dic_list()) "
    }
   },
   "types_to_exclude": [
    "module",
    "function",
    "builtin_function_or_method",
    "instance",
    "_Feature"
   ],
   "window_display": false
  }
 },
 "nbformat": 4,
 "nbformat_minor": 4
}
