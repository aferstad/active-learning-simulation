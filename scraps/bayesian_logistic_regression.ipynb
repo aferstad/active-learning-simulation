{
 "cells": [
  {
   "cell_type": "code",
   "execution_count": 2,
   "metadata": {
    "ExecuteTime": {
     "end_time": "2020-01-22T16:52:20.131679Z",
     "start_time": "2020-01-22T16:52:20.058881Z"
    }
   },
   "outputs": [],
   "source": [
    "from input.heart_import import get_heart_data\n",
    "from sklearn.linear_model import LogisticRegression"
   ]
  },
  {
   "cell_type": "code",
   "execution_count": 3,
   "metadata": {
    "ExecuteTime": {
     "end_time": "2020-01-22T16:52:20.387975Z",
     "start_time": "2020-01-22T16:52:20.371932Z"
    }
   },
   "outputs": [
    {
     "name": "stdout",
     "output_type": "stream",
     "text": [
      "heart data import succesful\n"
     ]
    }
   ],
   "source": [
    "df = get_heart_data()"
   ]
  },
  {
   "cell_type": "code",
   "execution_count": 4,
   "metadata": {
    "ExecuteTime": {
     "end_time": "2020-01-22T16:52:20.690936Z",
     "start_time": "2020-01-22T16:52:20.688259Z"
    }
   },
   "outputs": [],
   "source": [
    "import numpy as np"
   ]
  },
  {
   "cell_type": "code",
   "execution_count": 5,
   "metadata": {
    "ExecuteTime": {
     "end_time": "2020-01-22T16:52:20.963042Z",
     "start_time": "2020-01-22T16:52:20.953437Z"
    }
   },
   "outputs": [],
   "source": [
    "from sklearn.preprocessing import StandardScaler\n",
    "from sklearn.decomposition import PCA\n"
   ]
  },
  {
   "cell_type": "code",
   "execution_count": null,
   "metadata": {},
   "outputs": [],
   "source": [
    "# TODO: make "
   ]
  },
  {
   "cell_type": "markdown",
   "metadata": {},
   "source": [
    "## Standard Logistic Regression"
   ]
  },
  {
   "cell_type": "code",
   "execution_count": 6,
   "metadata": {
    "ExecuteTime": {
     "end_time": "2020-01-22T16:52:21.777801Z",
     "start_time": "2020-01-22T16:52:21.724461Z"
    }
   },
   "outputs": [
    {
     "name": "stdout",
     "output_type": "stream",
     "text": [
      "[array([[-0.96317234]]), array([0.24227354])]\n",
      "[array([[-1.0274986]]), array([0.33807534])]\n",
      "[array([[0.93274834]]), array([0.38138323])]\n",
      "[array([[1.06018426]]), array([0.09013158])]\n",
      "[array([[-0.96748667]]), array([0.17986192])]\n",
      "Mean accuracy: 0.856\n"
     ]
    }
   ],
   "source": [
    "# 5-fold CV:\n",
    "\n",
    "accuracies = []\n",
    "for i in range(5):\n",
    "    test = df.sample(frac=0.2, random_state=i)\n",
    "    train = df.drop(test.index)\n",
    "    \n",
    "    X_train = train.drop(train.columns[0], axis=1)\n",
    "    y_train = train.iloc[:, 0]\n",
    "    \n",
    "    X_test = test.drop(test.columns[0], axis=1)\n",
    "    y_test = test.iloc[:, 0]   \n",
    "    \n",
    "    scaler = StandardScaler()\n",
    "    pca = PCA(n_components=1)\n",
    "    \n",
    "    scaler.fit(X_train)\n",
    "    X_train = scaler.transform(X_train)\n",
    "    X_test = scaler.transform(X_test)\n",
    "    \n",
    "    pca.fit(X_train)\n",
    "    #print(pca.explained_variance_ratio_)\n",
    "    \n",
    "    X_train = pca.transform(X_train)\n",
    "    X_test = pca.transform(X_test)\n",
    "\n",
    "    \n",
    "    \n",
    "\n",
    "    lr = LogisticRegression(solver='liblinear', max_iter=1000)\n",
    "    lr.fit(X_train, y_train)\n",
    "    \n",
    "    \n",
    "    print([lr.coef_, lr.intercept_])\n",
    "    accuracy = sum(lr.predict(X_test) == y_test) / len(y_test)\n",
    "    \n",
    "    accuracies.append(accuracy)\n",
    "    \n",
    "print('Mean accuracy: ' + str(round(np.mean(accuracies), 3)))"
   ]
  },
  {
   "cell_type": "code",
   "execution_count": 7,
   "metadata": {
    "ExecuteTime": {
     "end_time": "2020-01-22T16:52:23.482365Z",
     "start_time": "2020-01-22T16:52:23.476192Z"
    }
   },
   "outputs": [
    {
     "data": {
      "text/plain": [
       "array([[-0.96748667]])"
      ]
     },
     "execution_count": 7,
     "metadata": {},
     "output_type": "execute_result"
    }
   ],
   "source": [
    "lr.intercept_\n",
    "lr.coef_"
   ]
  },
  {
   "cell_type": "markdown",
   "metadata": {},
   "source": [
    "## Bayesian Logistic Regression"
   ]
  },
  {
   "cell_type": "code",
   "execution_count": 16,
   "metadata": {
    "ExecuteTime": {
     "end_time": "2020-01-22T17:11:55.433678Z",
     "start_time": "2020-01-22T17:11:55.428065Z"
    }
   },
   "outputs": [],
   "source": [
    "from scipy import stats\n",
    "\n",
    "def from_posterior(param, samples):\n",
    "    smin, smax = np.min(samples), np.max(samples)\n",
    "    width = smax - smin\n",
    "    x = np.linspace(smin, smax, 100)\n",
    "    y = stats.gaussian_kde(samples)(x)\n",
    "\n",
    "    # what was never sampled should have a small probability but not 0,\n",
    "    # so we'll extend the domain and use linear approximation of density on it\n",
    "    x = np.concatenate([[x[0] - 3 * width], x, [x[-1] + 3 * width]])\n",
    "    y = np.concatenate([[0], y, [0]])\n",
    "    return Interpolated(param, x, y)"
   ]
  },
  {
   "cell_type": "code",
   "execution_count": 8,
   "metadata": {
    "ExecuteTime": {
     "end_time": "2020-01-22T16:52:24.414147Z",
     "start_time": "2020-01-22T16:52:24.398383Z"
    }
   },
   "outputs": [
    {
     "name": "stdout",
     "output_type": "stream",
     "text": [
      "0.31444484381501425\n"
     ]
    }
   ],
   "source": [
    "N_COMPONENTS = 2\n",
    "\n",
    "i = 0\n",
    "test = df.sample(frac=0.2, random_state=i)\n",
    "train = df.drop(test.index)\n",
    "\n",
    "X_train = train.drop(train.columns[0], axis=1)\n",
    "y_train = train.iloc[:, 0]\n",
    "\n",
    "X_test = test.drop(test.columns[0], axis=1)\n",
    "y_test = test.iloc[:, 0]   \n",
    "\n",
    "scaler = StandardScaler()\n",
    "pca = PCA(n_components=N_COMPONENTS)\n",
    "\n",
    "scaler.fit(X_train)\n",
    "X_train = scaler.transform(X_train)\n",
    "X_test = scaler.transform(X_test)\n",
    "\n",
    "pca.fit(X_train)\n",
    "print(sum(pca.explained_variance_ratio_))\n",
    "\n",
    "X_train = pca.transform(X_train)\n",
    "X_test = pca.transform(X_test)"
   ]
  },
  {
   "cell_type": "code",
   "execution_count": null,
   "metadata": {},
   "outputs": [],
   "source": []
  },
  {
   "cell_type": "code",
   "execution_count": 9,
   "metadata": {
    "ExecuteTime": {
     "end_time": "2020-01-22T16:52:28.831397Z",
     "start_time": "2020-01-22T16:52:28.823439Z"
    }
   },
   "outputs": [
    {
     "data": {
      "text/plain": [
       "array([[ 3.2171285 ],\n",
       "       [-2.01147633],\n",
       "       [-3.6181394 ],\n",
       "       [-4.61051353],\n",
       "       [ 0.05465944],\n",
       "       [ 2.91862645],\n",
       "       [-2.07264919],\n",
       "       [-2.2126594 ],\n",
       "       [-0.32133204],\n",
       "       [ 2.11254942],\n",
       "       [ 2.40935968],\n",
       "       [ 0.08679882],\n",
       "       [ 4.5753559 ],\n",
       "       [-3.15519884],\n",
       "       [ 2.36886612],\n",
       "       [-0.73567652],\n",
       "       [-3.98217498],\n",
       "       [ 4.21941188],\n",
       "       [-6.02809553],\n",
       "       [ 1.580558  ],\n",
       "       [-2.82741147],\n",
       "       [ 4.93361272],\n",
       "       [ 0.84243892],\n",
       "       [-5.103074  ],\n",
       "       [-3.80472406],\n",
       "       [-5.79437828],\n",
       "       [ 0.57324049],\n",
       "       [ 0.69494179],\n",
       "       [ 0.9087736 ],\n",
       "       [-2.61339917],\n",
       "       [ 2.16514543],\n",
       "       [ 3.74564181],\n",
       "       [ 1.88008627],\n",
       "       [-1.63803605],\n",
       "       [-0.02659504],\n",
       "       [ 3.16883584],\n",
       "       [-2.91373767],\n",
       "       [-3.27300889],\n",
       "       [-2.09508206],\n",
       "       [-0.0803047 ],\n",
       "       [-0.68422841],\n",
       "       [ 0.11716167],\n",
       "       [ 2.70501044],\n",
       "       [-0.65567005],\n",
       "       [ 0.64685602],\n",
       "       [-4.28759014],\n",
       "       [-4.38541425],\n",
       "       [-5.72356425],\n",
       "       [ 3.40604212],\n",
       "       [-5.7686713 ],\n",
       "       [-0.83668265],\n",
       "       [-0.55424687],\n",
       "       [-3.75182581],\n",
       "       [-0.09991994],\n",
       "       [-6.1021961 ],\n",
       "       [-1.0689448 ],\n",
       "       [-0.07740979],\n",
       "       [-5.3096297 ],\n",
       "       [-7.92781597],\n",
       "       [-2.98842696],\n",
       "       [ 0.62310952],\n",
       "       [ 1.97751981],\n",
       "       [ 2.59770669],\n",
       "       [-3.72653659],\n",
       "       [-4.48444764],\n",
       "       [-0.49920066],\n",
       "       [-4.81610141],\n",
       "       [ 0.11611021],\n",
       "       [ 0.8900201 ],\n",
       "       [ 1.79438128],\n",
       "       [ 6.20756418],\n",
       "       [-1.72646862],\n",
       "       [-6.96886968],\n",
       "       [ 2.10588123],\n",
       "       [-4.89938194],\n",
       "       [-0.05324895],\n",
       "       [-1.16126717],\n",
       "       [-2.63704377],\n",
       "       [ 5.74547966],\n",
       "       [-1.82507603],\n",
       "       [-0.34309834],\n",
       "       [-2.45064484],\n",
       "       [ 2.06510425],\n",
       "       [-1.71019064],\n",
       "       [-3.45196463],\n",
       "       [ 5.57029236],\n",
       "       [ 5.68255958],\n",
       "       [ 1.92931839],\n",
       "       [-1.6627713 ],\n",
       "       [ 2.46310305],\n",
       "       [ 0.569166  ],\n",
       "       [-6.8077124 ],\n",
       "       [-3.7373911 ],\n",
       "       [-3.41543451],\n",
       "       [-0.74262686],\n",
       "       [-4.93224717],\n",
       "       [ 2.03709352],\n",
       "       [ 6.02752129],\n",
       "       [-1.96680405],\n",
       "       [-0.86583768],\n",
       "       [-6.01553973],\n",
       "       [-4.15279026],\n",
       "       [ 1.68409466],\n",
       "       [ 2.19252496],\n",
       "       [ 0.01468346],\n",
       "       [ 0.49639156],\n",
       "       [-5.26233993],\n",
       "       [ 1.79642544],\n",
       "       [-1.63298629],\n",
       "       [ 1.18983198],\n",
       "       [ 1.64978463],\n",
       "       [ 0.02412392],\n",
       "       [-0.92937723],\n",
       "       [ 0.10682204],\n",
       "       [ 0.3376088 ],\n",
       "       [ 5.71000895],\n",
       "       [ 0.25669858],\n",
       "       [-4.21686785],\n",
       "       [-4.05675884],\n",
       "       [ 1.38733053],\n",
       "       [ 3.65361007],\n",
       "       [ 5.63085832],\n",
       "       [ 2.86751132],\n",
       "       [-3.5699258 ],\n",
       "       [-0.91709144],\n",
       "       [-5.49512196],\n",
       "       [-3.01559013],\n",
       "       [-0.99363194],\n",
       "       [-7.44839063],\n",
       "       [-3.72005092],\n",
       "       [-3.72005092],\n",
       "       [ 6.45566554],\n",
       "       [ 2.33239158],\n",
       "       [-0.41044779],\n",
       "       [ 3.97990306],\n",
       "       [-5.59755721],\n",
       "       [ 0.66694709],\n",
       "       [-1.90889824],\n",
       "       [ 1.51613606],\n",
       "       [-2.38969457],\n",
       "       [ 0.03106273],\n",
       "       [-1.1262814 ],\n",
       "       [ 4.19711878],\n",
       "       [ 1.41288517],\n",
       "       [ 4.91325784],\n",
       "       [ 0.68109928],\n",
       "       [ 0.32784832],\n",
       "       [ 1.13685217],\n",
       "       [-3.03860894],\n",
       "       [-2.64480379],\n",
       "       [ 1.6340254 ],\n",
       "       [-6.84653312],\n",
       "       [ 1.49776929],\n",
       "       [ 1.60905765],\n",
       "       [-0.23899475],\n",
       "       [ 2.69395033],\n",
       "       [ 1.99075656],\n",
       "       [ 2.12453186],\n",
       "       [ 1.51744744],\n",
       "       [-0.71941358],\n",
       "       [-4.80874685],\n",
       "       [-1.08068332],\n",
       "       [ 4.92827005],\n",
       "       [ 3.70551985],\n",
       "       [-4.52461323],\n",
       "       [ 0.0918914 ],\n",
       "       [ 3.799205  ],\n",
       "       [-0.15221066],\n",
       "       [-4.28274056],\n",
       "       [ 0.39616187],\n",
       "       [ 1.28161151],\n",
       "       [ 3.37517916],\n",
       "       [ 3.5479488 ],\n",
       "       [-2.65131103],\n",
       "       [ 6.64067132],\n",
       "       [ 0.53289875],\n",
       "       [ 4.3126701 ],\n",
       "       [ 0.10437842],\n",
       "       [ 2.12262299],\n",
       "       [-3.62037629],\n",
       "       [ 4.38289061],\n",
       "       [ 1.61633062],\n",
       "       [ 2.83232233],\n",
       "       [ 6.51222679],\n",
       "       [-3.81922941],\n",
       "       [-2.95216366],\n",
       "       [ 1.28826967],\n",
       "       [ 1.30582807],\n",
       "       [-5.72019241],\n",
       "       [ 4.33356984],\n",
       "       [ 2.67441503],\n",
       "       [ 3.25132391],\n",
       "       [ 3.52198115],\n",
       "       [-3.62393897],\n",
       "       [ 3.61906861],\n",
       "       [ 2.64431334],\n",
       "       [ 0.78676837],\n",
       "       [ 7.79315829],\n",
       "       [ 3.63285335],\n",
       "       [ 0.65841975],\n",
       "       [ 2.0977657 ],\n",
       "       [-0.1194371 ],\n",
       "       [ 4.05580778],\n",
       "       [-2.62453135],\n",
       "       [ 4.74601079],\n",
       "       [-3.5688615 ],\n",
       "       [ 1.79298742],\n",
       "       [ 3.38523515],\n",
       "       [-0.97836431],\n",
       "       [ 6.49258661],\n",
       "       [-1.65582157],\n",
       "       [ 3.94907447],\n",
       "       [ 1.39567285],\n",
       "       [ 3.21745063],\n",
       "       [ 4.10692455],\n",
       "       [-4.83226847],\n",
       "       [ 1.80296802],\n",
       "       [-4.91755348],\n",
       "       [ 1.36366675],\n",
       "       [ 3.47682609],\n",
       "       [ 1.8528355 ],\n",
       "       [ 0.36061576],\n",
       "       [ 4.07998429],\n",
       "       [-6.19631451],\n",
       "       [-1.85168839],\n",
       "       [ 1.14080876],\n",
       "       [-1.6174617 ],\n",
       "       [-2.52037872],\n",
       "       [ 1.05122655],\n",
       "       [ 1.18823386],\n",
       "       [-3.47377152],\n",
       "       [ 2.21904917],\n",
       "       [ 7.29574218],\n",
       "       [ 1.88141474],\n",
       "       [-1.79973068],\n",
       "       [-0.96278342],\n",
       "       [ 2.80474962],\n",
       "       [ 5.96433738],\n",
       "       [ 1.93143591],\n",
       "       [-1.3469322 ],\n",
       "       [ 3.37740078],\n",
       "       [-0.37950534]])"
      ]
     },
     "execution_count": 9,
     "metadata": {},
     "output_type": "execute_result"
    }
   ],
   "source": [
    "X_train @ [[1], [2]]"
   ]
  },
  {
   "cell_type": "code",
   "execution_count": 10,
   "metadata": {
    "ExecuteTime": {
     "end_time": "2020-01-22T16:52:30.603375Z",
     "start_time": "2020-01-22T16:52:30.600509Z"
    }
   },
   "outputs": [],
   "source": [
    "import matplotlib.pyplot as plt"
   ]
  },
  {
   "cell_type": "code",
   "execution_count": 11,
   "metadata": {
    "ExecuteTime": {
     "end_time": "2020-01-22T16:52:31.032663Z",
     "start_time": "2020-01-22T16:52:30.846248Z"
    }
   },
   "outputs": [
    {
     "data": {
      "text/plain": [
       "[<matplotlib.lines.Line2D at 0x12b2405e0>]"
      ]
     },
     "execution_count": 11,
     "metadata": {},
     "output_type": "execute_result"
    },
    {
     "data": {
      "image/png": "[encoded data removed]",
      "text/plain": [
       "<Figure size 432x288 with 1 Axes>"
      ]
     },
     "metadata": {
      "needs_background": "light"
     },
     "output_type": "display_data"
    }
   ],
   "source": [
    "\n",
    "plt.plot(np.cumsum(pca.explained_variance_ratio_))"
   ]
  },
  {
   "cell_type": "code",
   "execution_count": 12,
   "metadata": {
    "ExecuteTime": {
     "end_time": "2020-01-22T16:52:33.628124Z",
     "start_time": "2020-01-22T16:52:33.625455Z"
    }
   },
   "outputs": [],
   "source": [
    "import pymc3 as pm"
   ]
  },
  {
   "cell_type": "code",
   "execution_count": 31,
   "metadata": {
    "ExecuteTime": {
     "end_time": "2020-01-22T17:28:08.125254Z",
     "start_time": "2020-01-22T17:28:08.119933Z"
    }
   },
   "outputs": [
    {
     "data": {
      "text/plain": [
       "array([0.12003033, 0.12558566])"
      ]
     },
     "execution_count": 31,
     "metadata": {},
     "output_type": "execute_result"
    }
   ],
   "source": [
    "trace['beta'].std(0)"
   ]
  },
  {
   "cell_type": "code",
   "execution_count": null,
   "metadata": {},
   "outputs": [],
   "source": [
    "for i in range(1,10):\n",
    "\n",
    "    model = pm.Model()\n",
    "\n",
    "    current_toefl = parts[i]['TOEFL Score']\n",
    "    current_gre = parts[i]['GRE Score']\n",
    "\n",
    "    with model:\n",
    "        # Priors are posteriors from previous iteration\n",
    "        alpha = from_posterior('alpha', trace['alpha'])\n",
    "        beta = from_posterior('beta', trace['beta'])\n",
    "\n",
    "        # Expected value of outcome\n",
    "        mu = alpha + beta * current_toefl\n",
    "\n",
    "        # Likelihood (sampling distribution) of observations\n",
    "        gre_obs = pm.Normal('gre_obs', mu=mu, sigma = 100, observed = current_gre)\n",
    "\n",
    "        # draw 1000 posterior samples\n",
    "        trace = pm.sample(1000, tune=5000)\n",
    "        traces.append(trace)"
   ]
  },
  {
   "cell_type": "code",
   "execution_count": null,
   "metadata": {
    "ExecuteTime": {
     "end_time": "2020-01-22T16:36:25.741878Z",
     "start_time": "2020-01-22T16:36:25.737600Z"
    }
   },
   "outputs": [],
   "source": [
    "def fit_new_prior(param, trace):\n",
    "    mus = trace[param].mean(0)\n",
    "    stds = trace[param].std(0)\n",
    "    return mus, stds"
   ]
  },
  {
   "cell_type": "code",
   "execution_count": null,
   "metadata": {},
   "outputs": [],
   "source": [
    "# WITH NEW PRIORS EACH TIME\n",
    "for i in range(1,10):\n",
    "\n",
    "    model = pm.Model()\n",
    "\n",
    "    current_toefl = parts[i]['TOEFL Score']\n",
    "    current_gre = parts[i]['GRE Score']\n",
    "\n",
    "    with model:\n",
    "        # Priors are posteriors from previous iteration\n",
    "        mus, stds = fit_new_prior('beta', trace)\n",
    "        beta = pm.StudentT('beta', mu = mus, sd=stds)\n",
    "        \n",
    "\n",
    "        # Expected value of outcome\n",
    "        mu = alpha + beta * current_toefl\n",
    "\n",
    "        # Likelihood (sampling distribution) of observations\n",
    "        gre_obs = pm.Normal('gre_obs', mu=mu, sigma = 100, observed = current_gre)\n",
    "\n",
    "        # draw 1000 posterior samples\n",
    "        trace = pm.sample(1000, tune=5000)\n",
    "        traces.append(trace)"
   ]
  },
  {
   "cell_type": "code",
   "execution_count": null,
   "metadata": {},
   "outputs": [],
   "source": []
  },
  {
   "cell_type": "code",
   "execution_count": null,
   "metadata": {},
   "outputs": [],
   "source": []
  },
  {
   "cell_type": "code",
   "execution_count": null,
   "metadata": {},
   "outputs": [],
   "source": []
  },
  {
   "cell_type": "code",
   "execution_count": 59,
   "metadata": {
    "ExecuteTime": {
     "end_time": "2020-01-22T18:35:26.370321Z",
     "start_time": "2020-01-22T18:35:26.363865Z"
    }
   },
   "outputs": [
    {
     "data": {
      "text/plain": [
       "array([[ 0.0141758 , -0.00272633, -0.00156967],\n",
       "       [-0.00272633,  0.01558529,  0.00045762],\n",
       "       [-0.00156967,  0.00045762,  0.03277217]])"
      ]
     },
     "execution_count": 59,
     "metadata": {},
     "output_type": "execute_result"
    }
   ],
   "source": [
    "np.cov(trace['betas'].T)"
   ]
  },
  {
   "cell_type": "code",
   "execution_count": 65,
   "metadata": {
    "ExecuteTime": {
     "end_time": "2020-01-22T18:36:20.518742Z",
     "start_time": "2020-01-22T18:36:20.512183Z"
    }
   },
   "outputs": [
    {
     "data": {
      "text/plain": [
       "array([-1.00446184,  0.36138033,  0.24289263])"
      ]
     },
     "execution_count": 65,
     "metadata": {},
     "output_type": "execute_result"
    }
   ],
   "source": [
    "trace['betas'].mean(0) # 0 to get average per column"
   ]
  },
  {
   "cell_type": "code",
   "execution_count": null,
   "metadata": {},
   "outputs": [],
   "source": [
    "# Covariance\n",
    "def cov(x, y):\n",
    "    xbar, ybar = x.mean(), y.mean()\n",
    "    return np.sum((x - xbar)*(y - ybar))/(len(x) - 1)\n",
    "\n",
    "# Covariance matrix\n",
    "def cov_mat(X):\n",
    "    return np.array([[cov(X[0], X[0]), cov(X[0], X[1])], \\\n",
    "                     [cov(X[1], X[0]), cov(X[1], X[1])]])\n",
    "\n",
    "# Calculate covariance matrix \n",
    "cov_mat(X.T) # (or with np.cov(X.T))"
   ]
  },
  {
   "cell_type": "code",
   "execution_count": 57,
   "metadata": {
    "ExecuteTime": {
     "end_time": "2020-01-22T18:31:56.722575Z",
     "start_time": "2020-01-22T18:31:56.716941Z"
    }
   },
   "outputs": [
    {
     "data": {
      "text/plain": [
       "array([[-0.96946396,  0.32615568,  0.17405372],\n",
       "       [-0.96946396,  0.32615568,  0.17405372],\n",
       "       [-1.00509231,  0.23809229,  0.34210688],\n",
       "       ...,\n",
       "       [-1.09197248,  0.29486768, -0.12930216],\n",
       "       [-1.04469627,  0.21689676,  0.65401778],\n",
       "       [-0.98819844,  0.34594699, -0.15527596]])"
      ]
     },
     "execution_count": 57,
     "metadata": {},
     "output_type": "execute_result"
    }
   ],
   "source": [
    "trace[betas]"
   ]
  },
  {
   "cell_type": "code",
   "execution_count": 50,
   "metadata": {
    "ExecuteTime": {
     "end_time": "2020-01-22T17:50:27.901359Z",
     "start_time": "2020-01-22T17:50:27.897801Z"
    }
   },
   "outputs": [],
   "source": [
    "intercept = [[1]] * len(X_train)\n",
    "X_train_with_intercept = np.append(X_train, intercept, axis = 1)"
   ]
  },
  {
   "cell_type": "code",
   "execution_count": 52,
   "metadata": {
    "ExecuteTime": {
     "end_time": "2020-01-22T17:53:03.277347Z",
     "start_time": "2020-01-22T17:53:03.272318Z"
    }
   },
   "outputs": [
    {
     "data": {
      "text/plain": [
       "array([[1., 0., 0.],\n",
       "       [0., 1., 0.],\n",
       "       [0., 0., 1.]])"
      ]
     },
     "execution_count": 52,
     "metadata": {},
     "output_type": "execute_result"
    }
   ],
   "source": [
    "np.identity(3)"
   ]
  },
  {
   "cell_type": "code",
   "execution_count": 51,
   "metadata": {
    "ExecuteTime": {
     "end_time": "2020-01-22T17:50:30.892599Z",
     "start_time": "2020-01-22T17:50:30.879130Z"
    }
   },
   "outputs": [
    {
     "data": {
      "text/plain": [
       "array([[ 1.52678487e+00,  8.45171812e-01,  1.00000000e+00],\n",
       "       [-1.34835166e+00, -3.31562337e-01,  1.00000000e+00],\n",
       "       [-2.75101976e+00, -4.33559821e-01,  1.00000000e+00],\n",
       "       [-2.52844036e+00, -1.04103658e+00,  1.00000000e+00],\n",
       "       [-1.39417922e+00,  7.24419328e-01,  1.00000000e+00],\n",
       "       [-5.81104389e-01,  1.74986542e+00,  1.00000000e+00],\n",
       "       [-1.92826114e+00, -7.21940240e-02,  1.00000000e+00],\n",
       "       [-1.54576322e+00, -3.33448092e-01,  1.00000000e+00],\n",
       "       [-2.35289868e+00,  1.01578332e+00,  1.00000000e+00],\n",
       "       [ 1.06562703e+00,  5.23461195e-01,  1.00000000e+00],\n",
       "       [-1.37890388e+00,  1.89413178e+00,  1.00000000e+00],\n",
       "       [-2.66466365e+00,  1.37573123e+00,  1.00000000e+00],\n",
       "       [ 3.43016415e-01,  2.11616974e+00,  1.00000000e+00],\n",
       "       [-1.78891978e+00, -6.83139533e-01,  1.00000000e+00],\n",
       "       [-7.46977561e-01,  1.55792184e+00,  1.00000000e+00],\n",
       "       [ 1.15051020e+00, -9.43093363e-01,  1.00000000e+00],\n",
       "       [-2.08621031e+00, -9.47982334e-01,  1.00000000e+00],\n",
       "       [ 8.23385610e-01,  1.69801313e+00,  1.00000000e+00],\n",
       "       [-3.24179973e-02, -2.99783876e+00,  1.00000000e+00],\n",
       "       [-1.62873534e+00,  1.60464667e+00,  1.00000000e+00],\n",
       "       [-1.88679216e+00, -4.70309654e-01,  1.00000000e+00],\n",
       "       [-1.38317336e+00,  3.15839304e+00,  1.00000000e+00],\n",
       "       [-8.92766557e-01,  8.67602738e-01,  1.00000000e+00],\n",
       "       [-3.16896341e+00, -9.67055296e-01,  1.00000000e+00],\n",
       "       [-4.23342063e-02, -1.88119493e+00,  1.00000000e+00],\n",
       "       [-2.99801618e+00, -1.39818105e+00,  1.00000000e+00],\n",
       "       [-1.00782552e+00,  7.90533003e-01,  1.00000000e+00],\n",
       "       [-8.87312893e-01,  7.91127344e-01,  1.00000000e+00],\n",
       "       [-2.47799793e+00,  1.69338577e+00,  1.00000000e+00],\n",
       "       [-3.15288898e-01, -1.14905514e+00,  1.00000000e+00],\n",
       "       [-1.76571946e+00,  1.96543245e+00,  1.00000000e+00],\n",
       "       [-1.58522994e+00,  2.66543587e+00,  1.00000000e+00],\n",
       "       [-1.56154455e+00,  1.72081541e+00,  1.00000000e+00],\n",
       "       [-1.27303403e+00, -1.82501009e-01,  1.00000000e+00],\n",
       "       [ 8.14982205e-01, -4.20788622e-01,  1.00000000e+00],\n",
       "       [-3.31184488e-01,  1.75001017e+00,  1.00000000e+00],\n",
       "       [-2.71454203e+00, -9.95978199e-02,  1.00000000e+00],\n",
       "       [-2.64973272e+00, -3.11638085e-01,  1.00000000e+00],\n",
       "       [-2.23646512e+00,  7.06915315e-02,  1.00000000e+00],\n",
       "       [-1.16695440e+00,  5.43324847e-01,  1.00000000e+00],\n",
       "       [-2.09778332e+00,  7.06777459e-01,  1.00000000e+00],\n",
       "       [-2.25274155e+00,  1.18495161e+00,  1.00000000e+00],\n",
       "       [ 9.81288168e-02,  1.30344081e+00,  1.00000000e+00],\n",
       "       [-1.66909664e+00,  5.06713293e-01,  1.00000000e+00],\n",
       "       [-2.41766836e+00,  1.53226219e+00,  1.00000000e+00],\n",
       "       [-2.41265245e+00, -9.37468844e-01,  1.00000000e+00],\n",
       "       [-2.48074529e+00, -9.52334480e-01,  1.00000000e+00],\n",
       "       [-2.56244833e+00, -1.58055796e+00,  1.00000000e+00],\n",
       "       [-1.42854066e+00,  2.41729139e+00,  1.00000000e+00],\n",
       "       [-1.11382044e+00, -2.32742543e+00,  1.00000000e+00],\n",
       "       [ 3.62712271e-01, -5.99697459e-01,  1.00000000e+00],\n",
       "       [-1.96865438e+00,  7.07203754e-01,  1.00000000e+00],\n",
       "       [-2.57872870e+00, -5.86548557e-01,  1.00000000e+00],\n",
       "       [-1.45560543e+00,  6.77842743e-01,  1.00000000e+00],\n",
       "       [-2.91941075e+00, -1.59139267e+00,  1.00000000e+00],\n",
       "       [-2.16609803e+00,  5.48576619e-01,  1.00000000e+00],\n",
       "       [ 8.66459762e-01, -4.71934776e-01,  1.00000000e+00],\n",
       "       [-3.52297573e-01, -2.47866607e+00,  1.00000000e+00],\n",
       "       [-3.54591620e+00, -2.19094989e+00,  1.00000000e+00],\n",
       "       [-1.56852426e+00, -7.09951351e-01,  1.00000000e+00],\n",
       "       [-1.50016251e+00,  1.06163602e+00,  1.00000000e+00],\n",
       "       [-7.62628737e-01,  1.37007427e+00,  1.00000000e+00],\n",
       "       [-1.05286152e-01,  1.35149642e+00,  1.00000000e+00],\n",
       "       [-1.74085009e+00, -9.92843247e-01,  1.00000000e+00],\n",
       "       [-2.72096720e+00, -8.81740219e-01,  1.00000000e+00],\n",
       "       [ 1.41044253e+00, -9.54821596e-01,  1.00000000e+00],\n",
       "       [-2.99191379e+00, -9.12093812e-01,  1.00000000e+00],\n",
       "       [-2.39362850e+00,  1.25486935e+00,  1.00000000e+00],\n",
       "       [ 1.35240391e+00, -2.31191904e-01,  1.00000000e+00],\n",
       "       [-4.17236190e-01,  1.10580873e+00,  1.00000000e+00],\n",
       "       [ 1.25250305e+00,  2.47753057e+00,  1.00000000e+00],\n",
       "       [-5.97377523e-02, -8.33365435e-01,  1.00000000e+00],\n",
       "       [-1.26429065e+00, -2.85228951e+00,  1.00000000e+00],\n",
       "       [-8.48825759e-01,  1.47735350e+00,  1.00000000e+00],\n",
       "       [-2.22876906e-03, -2.44857659e+00,  1.00000000e+00],\n",
       "       [-1.58181618e+00,  7.64283617e-01,  1.00000000e+00],\n",
       "       [-1.39489233e+00,  1.16812583e-01,  1.00000000e+00],\n",
       "       [ 9.11413797e-01, -1.77422878e+00,  1.00000000e+00],\n",
       "       [ 7.68783766e-02,  2.83430064e+00,  1.00000000e+00],\n",
       "       [-1.79789236e+00, -1.35918363e-02,  1.00000000e+00],\n",
       "       [-1.63290678e+00,  6.44904219e-01,  1.00000000e+00],\n",
       "       [-1.55631046e+00, -4.47167191e-01,  1.00000000e+00],\n",
       "       [ 2.20569304e+00, -7.02943951e-02,  1.00000000e+00],\n",
       "       [-2.39253418e+00,  3.41171768e-01,  1.00000000e+00],\n",
       "       [-2.49297974e+00, -4.79492446e-01,  1.00000000e+00],\n",
       "       [ 2.22375230e-01,  2.67395857e+00,  1.00000000e+00],\n",
       "       [ 1.01528554e+00,  2.33363702e+00,  1.00000000e+00],\n",
       "       [-4.47398196e-02,  9.87029106e-01,  1.00000000e+00],\n",
       "       [-2.32711514e+00,  3.32171917e-01,  1.00000000e+00],\n",
       "       [-8.85843765e-01,  1.67447341e+00,  1.00000000e+00],\n",
       "       [-4.18894580e-01,  4.94030290e-01,  1.00000000e+00],\n",
       "       [-9.83365128e-01, -2.91217363e+00,  1.00000000e+00],\n",
       "       [-2.35395568e+00, -6.91717709e-01,  1.00000000e+00],\n",
       "       [-3.21661925e+00, -9.94076284e-02,  1.00000000e+00],\n",
       "       [ 1.48186376e+00, -1.11224531e+00,  1.00000000e+00],\n",
       "       [-3.30835886e+00, -8.11944156e-01,  1.00000000e+00],\n",
       "       [-7.15817151e-02,  1.05433762e+00,  1.00000000e+00],\n",
       "       [ 9.82104964e-01,  2.52270816e+00,  1.00000000e+00],\n",
       "       [-1.95559159e+00, -5.60623125e-03,  1.00000000e+00],\n",
       "       [-2.72212839e+00,  9.28145354e-01,  1.00000000e+00],\n",
       "       [-3.57182100e+00, -1.22185936e+00,  1.00000000e+00],\n",
       "       [-1.99069031e+00, -1.08104998e+00,  1.00000000e+00],\n",
       "       [-2.09689288e+00,  1.89049377e+00,  1.00000000e+00],\n",
       "       [-1.19253498e+00,  1.69252997e+00,  1.00000000e+00],\n",
       "       [-2.27182371e+00,  1.14325358e+00,  1.00000000e+00],\n",
       "       [-1.39594509e+00,  9.46168323e-01,  1.00000000e+00],\n",
       "       [-2.78477398e+00, -1.23878298e+00,  1.00000000e+00],\n",
       "       [-1.50810138e+00,  1.65226341e+00,  1.00000000e+00],\n",
       "       [-1.76146338e+00,  6.42385460e-02,  1.00000000e+00],\n",
       "       [ 2.20930610e+00, -5.09737058e-01,  1.00000000e+00],\n",
       "       [ 2.76903054e+00, -5.59622955e-01,  1.00000000e+00],\n",
       "       [-2.37353454e+00,  1.19882923e+00,  1.00000000e+00],\n",
       "       [-7.63468822e-01, -8.29542044e-02,  1.00000000e+00],\n",
       "       [-1.70885216e+00,  9.07837100e-01,  1.00000000e+00],\n",
       "       [-1.38547683e+00,  8.61542817e-01,  1.00000000e+00],\n",
       "       [ 1.85895204e-01,  2.76205687e+00,  1.00000000e+00],\n",
       "       [-1.81142831e+00,  1.03406345e+00,  1.00000000e+00],\n",
       "       [-2.74849642e+00, -7.34185715e-01,  1.00000000e+00],\n",
       "       [-2.49486895e+00, -7.80944946e-01,  1.00000000e+00],\n",
       "       [ 8.79070352e-01,  2.54130089e-01,  1.00000000e+00],\n",
       "       [ 3.25713779e-01,  1.66394815e+00,  1.00000000e+00],\n",
       "       [-3.24106684e-01,  2.97748250e+00,  1.00000000e+00],\n",
       "       [-1.60827939e-01,  1.51416963e+00,  1.00000000e+00],\n",
       "       [-2.73021286e+00, -4.19856470e-01,  1.00000000e+00],\n",
       "       [ 1.53965922e+00, -1.22837533e+00,  1.00000000e+00],\n",
       "       [-9.84895457e-01, -2.25511325e+00,  1.00000000e+00],\n",
       "       [-1.86620763e+00, -5.74691253e-01,  1.00000000e+00],\n",
       "       [-2.38094083e+00,  6.93654448e-01,  1.00000000e+00],\n",
       "       [-3.21227872e+00, -2.11805596e+00,  1.00000000e+00],\n",
       "       [-2.06016376e+00, -8.29943582e-01,  1.00000000e+00],\n",
       "       [-2.06016376e+00, -8.29943582e-01,  1.00000000e+00],\n",
       "       [ 2.51610012e+00,  1.96978271e+00,  1.00000000e+00],\n",
       "       [ 3.38354052e+00, -5.25574467e-01,  1.00000000e+00],\n",
       "       [ 2.03989870e+00, -1.22517325e+00,  1.00000000e+00],\n",
       "       [ 2.01276900e+00,  9.83567029e-01,  1.00000000e+00],\n",
       "       [-4.45408038e-01, -2.57607459e+00,  1.00000000e+00],\n",
       "       [-3.56978402e-01,  5.11962744e-01,  1.00000000e+00],\n",
       "       [ 3.72155218e-01, -1.14052673e+00,  1.00000000e+00],\n",
       "       [ 3.17777947e+00, -8.30821703e-01,  1.00000000e+00],\n",
       "       [ 1.05815177e+00, -1.72392317e+00,  1.00000000e+00],\n",
       "       [-1.91003790e+00,  9.70550315e-01,  1.00000000e+00],\n",
       "       [ 2.50032329e+00, -1.81330234e+00,  1.00000000e+00],\n",
       "       [ 2.80996781e+00,  6.93575486e-01,  1.00000000e+00],\n",
       "       [ 2.56805023e+00, -5.77582526e-01,  1.00000000e+00],\n",
       "       [ 2.60712035e+00,  1.15306874e+00,  1.00000000e+00],\n",
       "       [-2.01729049e+00,  1.34919489e+00,  1.00000000e+00],\n",
       "       [ 1.40223806e+00, -5.37194871e-01,  1.00000000e+00],\n",
       "       [ 2.21907613e+00, -5.41111978e-01,  1.00000000e+00],\n",
       "       [-1.84353679e+00, -5.97536074e-01,  1.00000000e+00],\n",
       "       [ 1.01984143e+00, -1.83232261e+00,  1.00000000e+00],\n",
       "       [ 3.12560572e+00, -7.45790158e-01,  1.00000000e+00],\n",
       "       [-9.11424266e-01, -2.96755443e+00,  1.00000000e+00],\n",
       "       [ 1.79312966e+00, -1.47680187e-01,  1.00000000e+00],\n",
       "       [ 3.28662941e+00, -8.38785883e-01,  1.00000000e+00],\n",
       "       [ 2.02454726e+00, -1.13177101e+00,  1.00000000e+00],\n",
       "       [ 3.31733963e+00, -3.11694648e-01,  1.00000000e+00],\n",
       "       [ 2.61045121e+00, -3.09847325e-01,  1.00000000e+00],\n",
       "       [ 2.61389639e-01,  9.31571109e-01,  1.00000000e+00],\n",
       "       [ 1.74210872e+00, -1.12330642e-01,  1.00000000e+00],\n",
       "       [ 1.73170183e-01, -4.46291883e-01,  1.00000000e+00],\n",
       "       [-2.27969733e+00, -1.26452476e+00,  1.00000000e+00],\n",
       "       [ 1.33909189e+00, -1.20988760e+00,  1.00000000e+00],\n",
       "       [ 2.69313030e+00,  1.11756987e+00,  1.00000000e+00],\n",
       "       [ 2.86497903e+00,  4.20270411e-01,  1.00000000e+00],\n",
       "       [ 1.99501645e-01, -2.36205744e+00,  1.00000000e+00],\n",
       "       [ 2.37167259e+00, -1.13989059e+00,  1.00000000e+00],\n",
       "       [ 2.15717783e+00,  8.21013586e-01,  1.00000000e+00],\n",
       "       [ 1.74094059e+00, -9.46575624e-01,  1.00000000e+00],\n",
       "       [ 3.56673872e-01, -2.31970722e+00,  1.00000000e+00],\n",
       "       [ 1.12093074e+00, -3.62384438e-01,  1.00000000e+00],\n",
       "       [ 3.08888290e+00, -9.03635694e-01,  1.00000000e+00],\n",
       "       [ 2.11908604e+00,  6.28046563e-01,  1.00000000e+00],\n",
       "       [ 2.52724053e+00,  5.10354137e-01,  1.00000000e+00],\n",
       "       [ 7.64759536e-01, -1.70803528e+00,  1.00000000e+00],\n",
       "       [ 2.98562829e+00,  1.82752151e+00,  1.00000000e+00],\n",
       "       [ 3.12973729e+00, -1.29841927e+00,  1.00000000e+00],\n",
       "       [ 5.65414790e-01,  1.87362766e+00,  1.00000000e+00],\n",
       "       [ 2.82143035e+00, -1.35852596e+00,  1.00000000e+00],\n",
       "       [ 2.29431431e+00, -8.58456620e-02,  1.00000000e+00],\n",
       "       [-2.50820329e+00, -5.56086500e-01,  1.00000000e+00],\n",
       "       [ 2.90922162e+00,  7.36834494e-01,  1.00000000e+00],\n",
       "       [ 2.51887288e+00, -4.51271129e-01,  1.00000000e+00],\n",
       "       [ 1.41007402e+00,  7.11124157e-01,  1.00000000e+00],\n",
       "       [ 2.02431518e+00,  2.24395580e+00,  1.00000000e+00],\n",
       "       [ 3.71840306e-01, -2.09553486e+00,  1.00000000e+00],\n",
       "       [-9.88219442e-02, -1.42667086e+00,  1.00000000e+00],\n",
       "       [ 1.83387462e+00, -2.72802477e-01,  1.00000000e+00],\n",
       "       [-1.11771466e-01,  7.08799767e-01,  1.00000000e+00],\n",
       "       [-1.91990293e-01, -2.76410106e+00,  1.00000000e+00],\n",
       "       [ 2.56181987e+00,  8.85874984e-01,  1.00000000e+00],\n",
       "       [ 3.30629388e+00, -3.15939422e-01,  1.00000000e+00],\n",
       "       [ 3.09687471e+00,  7.72245996e-02,  1.00000000e+00],\n",
       "       [ 2.54602296e+00,  4.87979094e-01,  1.00000000e+00],\n",
       "       [-8.00048393e-01, -1.41194529e+00,  1.00000000e+00],\n",
       "       [ 2.39463176e+00,  6.12218427e-01,  1.00000000e+00],\n",
       "       [ 3.85821155e+00, -6.06949107e-01,  1.00000000e+00],\n",
       "       [ 2.62915702e+00, -9.21194324e-01,  1.00000000e+00],\n",
       "       [ 1.55972696e+00,  3.11671567e+00,  1.00000000e+00],\n",
       "       [ 1.50469110e+00,  1.06408112e+00,  1.00000000e+00],\n",
       "       [-9.36214543e-01,  7.97317147e-01,  1.00000000e+00],\n",
       "       [ 3.36028101e+00, -6.31257657e-01,  1.00000000e+00],\n",
       "       [ 2.31522962e+00, -1.21733336e+00,  1.00000000e+00],\n",
       "       [ 6.21795390e-01,  1.71700620e+00,  1.00000000e+00],\n",
       "       [ 1.86401432e+00, -2.24427283e+00,  1.00000000e+00],\n",
       "       [ 2.58762593e+00,  1.07919243e+00,  1.00000000e+00],\n",
       "       [-1.92483375e+00, -8.22013871e-01,  1.00000000e+00],\n",
       "       [ 3.34507834e+00, -7.76045458e-01,  1.00000000e+00],\n",
       "       [ 6.73122521e-01,  1.35605631e+00,  1.00000000e+00],\n",
       "       [-4.75526614e-01, -2.51418849e-01,  1.00000000e+00],\n",
       "       [ 1.71623281e+00,  2.38817690e+00,  1.00000000e+00],\n",
       "       [-1.17800079e+00, -2.38910389e-01,  1.00000000e+00],\n",
       "       [ 2.11915264e+00,  9.14960912e-01,  1.00000000e+00],\n",
       "       [ 2.43059604e+00, -5.17461595e-01,  1.00000000e+00],\n",
       "       [ 1.06562291e+00,  1.07591386e+00,  1.00000000e+00],\n",
       "       [ 1.25637503e+00,  1.42527476e+00,  1.00000000e+00],\n",
       "       [-3.97771509e-01, -2.21724848e+00,  1.00000000e+00],\n",
       "       [ 2.60028686e+00, -3.98659419e-01,  1.00000000e+00],\n",
       "       [-6.82051255e-01, -2.11775111e+00,  1.00000000e+00],\n",
       "       [-1.75599594e+00,  1.55983135e+00,  1.00000000e+00],\n",
       "       [ 2.06445648e+00,  7.06184805e-01,  1.00000000e+00],\n",
       "       [ 2.25078312e+00, -1.98973808e-01,  1.00000000e+00],\n",
       "       [ 1.28020273e+00, -4.59793482e-01,  1.00000000e+00],\n",
       "       [ 1.84913609e+00,  1.11542410e+00,  1.00000000e+00],\n",
       "       [-1.03300026e+00, -2.58165713e+00,  1.00000000e+00],\n",
       "       [ 1.40315219e+00, -1.62742029e+00,  1.00000000e+00],\n",
       "       [ 2.92130493e+00, -8.90248085e-01,  1.00000000e+00],\n",
       "       [-1.18896426e+00, -2.14248722e-01,  1.00000000e+00],\n",
       "       [-1.98866018e+00, -2.65859271e-01,  1.00000000e+00],\n",
       "       [ 2.78717821e+00, -8.67975829e-01,  1.00000000e+00],\n",
       "       [ 2.26434596e+00, -5.38056047e-01,  1.00000000e+00],\n",
       "       [-1.24075059e-01, -1.67484823e+00,  1.00000000e+00],\n",
       "       [ 2.14916487e+00,  3.49421503e-02,  1.00000000e+00],\n",
       "       [ 3.14109227e+00,  2.07732496e+00,  1.00000000e+00],\n",
       "       [ 1.40708595e+00,  2.37164396e-01,  1.00000000e+00],\n",
       "       [ 1.37284004e+00, -1.58628536e+00,  1.00000000e+00],\n",
       "       [ 2.12683792e+00, -1.54481067e+00,  1.00000000e+00],\n",
       "       [ 2.90490892e-01,  1.25712936e+00,  1.00000000e+00],\n",
       "       [ 3.04440962e+00,  1.45996388e+00,  1.00000000e+00],\n",
       "       [ 1.93317421e+00, -8.69150172e-04,  1.00000000e+00],\n",
       "       [ 1.35195095e+00, -1.34944158e+00,  1.00000000e+00],\n",
       "       [ 3.04101961e+00,  1.68190585e-01,  1.00000000e+00],\n",
       "       [ 2.64512189e+00, -1.51231362e+00,  1.00000000e+00]])"
      ]
     },
     "execution_count": 51,
     "metadata": {},
     "output_type": "execute_result"
    }
   ],
   "source": [
    "X_train_with_intercept"
   ]
  },
  {
   "cell_type": "code",
   "execution_count": 33,
   "metadata": {
    "ExecuteTime": {
     "end_time": "2020-01-22T17:41:38.815158Z",
     "start_time": "2020-01-22T17:41:38.791949Z"
    }
   },
   "outputs": [
    {
     "ename": "TypeError",
     "evalue": "unsupported operand type(s) for ** or pow(): 'list' and 'float'",
     "output_type": "error",
     "traceback": [
      "\u001b[0;31m---------------------------------------------------------------------------\u001b[0m",
      "\u001b[0;31mTypeError\u001b[0m                                 Traceback (most recent call last)",
      "\u001b[0;32m<ipython-input-33-5cda7a167edc>\u001b[0m in \u001b[0;36m<module>\u001b[0;34m\u001b[0m\n\u001b[1;32m      3\u001b[0m     \u001b[0;31m# Define priors\u001b[0m\u001b[0;34m\u001b[0m\u001b[0;34m\u001b[0m\u001b[0;34m\u001b[0m\u001b[0m\n\u001b[1;32m      4\u001b[0m     \u001b[0;31m#intercept = pm.Normal('Intercept', 0, sd=20)\u001b[0m\u001b[0;34m\u001b[0m\u001b[0;34m\u001b[0m\u001b[0;34m\u001b[0m\u001b[0m\n\u001b[0;32m----> 5\u001b[0;31m     \u001b[0mbeta\u001b[0m \u001b[0;34m=\u001b[0m \u001b[0mpm\u001b[0m\u001b[0;34m.\u001b[0m\u001b[0mNormal\u001b[0m\u001b[0;34m(\u001b[0m\u001b[0;34m'beta'\u001b[0m\u001b[0;34m,\u001b[0m \u001b[0mmu\u001b[0m \u001b[0;34m=\u001b[0m \u001b[0;34m[\u001b[0m\u001b[0;34m-\u001b[0m\u001b[0;36m0.5\u001b[0m\u001b[0;34m,\u001b[0m \u001b[0;36m0.5\u001b[0m\u001b[0;34m]\u001b[0m\u001b[0;34m,\u001b[0m \u001b[0msd\u001b[0m\u001b[0;34m=\u001b[0m\u001b[0;34m[\u001b[0m\u001b[0;36m10\u001b[0m\u001b[0;34m,\u001b[0m \u001b[0;36m10\u001b[0m\u001b[0;34m]\u001b[0m\u001b[0;34m,\u001b[0m \u001b[0mshape\u001b[0m \u001b[0;34m=\u001b[0m \u001b[0mN_COMPONENTS\u001b[0m\u001b[0;34m)\u001b[0m\u001b[0;34m\u001b[0m\u001b[0;34m\u001b[0m\u001b[0m\n\u001b[0m\u001b[1;32m      6\u001b[0m     \u001b[0malpha\u001b[0m \u001b[0;34m=\u001b[0m \u001b[0mpm\u001b[0m\u001b[0;34m.\u001b[0m\u001b[0mNormal\u001b[0m\u001b[0;34m(\u001b[0m\u001b[0;34m'alpha'\u001b[0m\u001b[0;34m,\u001b[0m \u001b[0;36m0\u001b[0m\u001b[0;34m,\u001b[0m \u001b[0msd\u001b[0m\u001b[0;34m=\u001b[0m\u001b[0;36m10\u001b[0m\u001b[0;34m,\u001b[0m \u001b[0mshape\u001b[0m \u001b[0;34m=\u001b[0m \u001b[0;36m1\u001b[0m\u001b[0;34m)\u001b[0m\u001b[0;34m\u001b[0m\u001b[0;34m\u001b[0m\u001b[0m\n\u001b[1;32m      7\u001b[0m     \u001b[0;31m#price_coef = pm.Normal('price', 0, sd=20)\u001b[0m\u001b[0;34m\u001b[0m\u001b[0;34m\u001b[0m\u001b[0;34m\u001b[0m\u001b[0m\n",
      "\u001b[0;32m/Library/Frameworks/Python.framework/Versions/3.8/lib/python3.8/site-packages/pymc3/distributions/distribution.py\u001b[0m in \u001b[0;36m__new__\u001b[0;34m(cls, name, *args, **kwargs)\u001b[0m\n\u001b[1;32m     44\u001b[0m                 \u001b[0;32mraise\u001b[0m \u001b[0mTypeError\u001b[0m\u001b[0;34m(\u001b[0m\u001b[0;34m\"observed needs to be data but got: {}\"\u001b[0m\u001b[0;34m.\u001b[0m\u001b[0mformat\u001b[0m\u001b[0;34m(\u001b[0m\u001b[0mtype\u001b[0m\u001b[0;34m(\u001b[0m\u001b[0mdata\u001b[0m\u001b[0;34m)\u001b[0m\u001b[0;34m)\u001b[0m\u001b[0;34m)\u001b[0m\u001b[0;34m\u001b[0m\u001b[0;34m\u001b[0m\u001b[0m\n\u001b[1;32m     45\u001b[0m             \u001b[0mtotal_size\u001b[0m \u001b[0;34m=\u001b[0m \u001b[0mkwargs\u001b[0m\u001b[0;34m.\u001b[0m\u001b[0mpop\u001b[0m\u001b[0;34m(\u001b[0m\u001b[0;34m'total_size'\u001b[0m\u001b[0;34m,\u001b[0m \u001b[0;32mNone\u001b[0m\u001b[0;34m)\u001b[0m\u001b[0;34m\u001b[0m\u001b[0;34m\u001b[0m\u001b[0m\n\u001b[0;32m---> 46\u001b[0;31m             \u001b[0mdist\u001b[0m \u001b[0;34m=\u001b[0m \u001b[0mcls\u001b[0m\u001b[0;34m.\u001b[0m\u001b[0mdist\u001b[0m\u001b[0;34m(\u001b[0m\u001b[0;34m*\u001b[0m\u001b[0margs\u001b[0m\u001b[0;34m,\u001b[0m \u001b[0;34m**\u001b[0m\u001b[0mkwargs\u001b[0m\u001b[0;34m)\u001b[0m\u001b[0;34m\u001b[0m\u001b[0;34m\u001b[0m\u001b[0m\n\u001b[0m\u001b[1;32m     47\u001b[0m             \u001b[0;32mreturn\u001b[0m \u001b[0mmodel\u001b[0m\u001b[0;34m.\u001b[0m\u001b[0mVar\u001b[0m\u001b[0;34m(\u001b[0m\u001b[0mname\u001b[0m\u001b[0;34m,\u001b[0m \u001b[0mdist\u001b[0m\u001b[0;34m,\u001b[0m \u001b[0mdata\u001b[0m\u001b[0;34m,\u001b[0m \u001b[0mtotal_size\u001b[0m\u001b[0;34m)\u001b[0m\u001b[0;34m\u001b[0m\u001b[0;34m\u001b[0m\u001b[0m\n\u001b[1;32m     48\u001b[0m         \u001b[0;32melse\u001b[0m\u001b[0;34m:\u001b[0m\u001b[0;34m\u001b[0m\u001b[0;34m\u001b[0m\u001b[0m\n",
      "\u001b[0;32m/Library/Frameworks/Python.framework/Versions/3.8/lib/python3.8/site-packages/pymc3/distributions/distribution.py\u001b[0m in \u001b[0;36mdist\u001b[0;34m(cls, *args, **kwargs)\u001b[0m\n\u001b[1;32m     55\u001b[0m     \u001b[0;32mdef\u001b[0m \u001b[0mdist\u001b[0m\u001b[0;34m(\u001b[0m\u001b[0mcls\u001b[0m\u001b[0;34m,\u001b[0m \u001b[0;34m*\u001b[0m\u001b[0margs\u001b[0m\u001b[0;34m,\u001b[0m \u001b[0;34m**\u001b[0m\u001b[0mkwargs\u001b[0m\u001b[0;34m)\u001b[0m\u001b[0;34m:\u001b[0m\u001b[0;34m\u001b[0m\u001b[0;34m\u001b[0m\u001b[0m\n\u001b[1;32m     56\u001b[0m         \u001b[0mdist\u001b[0m \u001b[0;34m=\u001b[0m \u001b[0mobject\u001b[0m\u001b[0;34m.\u001b[0m\u001b[0m__new__\u001b[0m\u001b[0;34m(\u001b[0m\u001b[0mcls\u001b[0m\u001b[0;34m)\u001b[0m\u001b[0;34m\u001b[0m\u001b[0;34m\u001b[0m\u001b[0m\n\u001b[0;32m---> 57\u001b[0;31m         \u001b[0mdist\u001b[0m\u001b[0;34m.\u001b[0m\u001b[0m__init__\u001b[0m\u001b[0;34m(\u001b[0m\u001b[0;34m*\u001b[0m\u001b[0margs\u001b[0m\u001b[0;34m,\u001b[0m \u001b[0;34m**\u001b[0m\u001b[0mkwargs\u001b[0m\u001b[0;34m)\u001b[0m\u001b[0;34m\u001b[0m\u001b[0;34m\u001b[0m\u001b[0m\n\u001b[0m\u001b[1;32m     58\u001b[0m         \u001b[0;32mreturn\u001b[0m \u001b[0mdist\u001b[0m\u001b[0;34m\u001b[0m\u001b[0;34m\u001b[0m\u001b[0m\n\u001b[1;32m     59\u001b[0m \u001b[0;34m\u001b[0m\u001b[0m\n",
      "\u001b[0;32m/Library/Frameworks/Python.framework/Versions/3.8/lib/python3.8/site-packages/pymc3/distributions/continuous.py\u001b[0m in \u001b[0;36m__init__\u001b[0;34m(self, mu, sigma, tau, sd, **kwargs)\u001b[0m\n\u001b[1;32m    463\u001b[0m         \u001b[0;32mif\u001b[0m \u001b[0msd\u001b[0m \u001b[0;32mis\u001b[0m \u001b[0;32mnot\u001b[0m \u001b[0;32mNone\u001b[0m\u001b[0;34m:\u001b[0m\u001b[0;34m\u001b[0m\u001b[0;34m\u001b[0m\u001b[0m\n\u001b[1;32m    464\u001b[0m             \u001b[0msigma\u001b[0m \u001b[0;34m=\u001b[0m \u001b[0msd\u001b[0m\u001b[0;34m\u001b[0m\u001b[0;34m\u001b[0m\u001b[0m\n\u001b[0;32m--> 465\u001b[0;31m         \u001b[0mtau\u001b[0m\u001b[0;34m,\u001b[0m \u001b[0msigma\u001b[0m \u001b[0;34m=\u001b[0m \u001b[0mget_tau_sigma\u001b[0m\u001b[0;34m(\u001b[0m\u001b[0mtau\u001b[0m\u001b[0;34m=\u001b[0m\u001b[0mtau\u001b[0m\u001b[0;34m,\u001b[0m \u001b[0msigma\u001b[0m\u001b[0;34m=\u001b[0m\u001b[0msigma\u001b[0m\u001b[0;34m)\u001b[0m\u001b[0;34m\u001b[0m\u001b[0;34m\u001b[0m\u001b[0m\n\u001b[0m\u001b[1;32m    466\u001b[0m         \u001b[0mself\u001b[0m\u001b[0;34m.\u001b[0m\u001b[0msigma\u001b[0m \u001b[0;34m=\u001b[0m \u001b[0mself\u001b[0m\u001b[0;34m.\u001b[0m\u001b[0msd\u001b[0m \u001b[0;34m=\u001b[0m \u001b[0mtt\u001b[0m\u001b[0;34m.\u001b[0m\u001b[0mas_tensor_variable\u001b[0m\u001b[0;34m(\u001b[0m\u001b[0msigma\u001b[0m\u001b[0;34m)\u001b[0m\u001b[0;34m\u001b[0m\u001b[0;34m\u001b[0m\u001b[0m\n\u001b[1;32m    467\u001b[0m         \u001b[0mself\u001b[0m\u001b[0;34m.\u001b[0m\u001b[0mtau\u001b[0m \u001b[0;34m=\u001b[0m \u001b[0mtt\u001b[0m\u001b[0;34m.\u001b[0m\u001b[0mas_tensor_variable\u001b[0m\u001b[0;34m(\u001b[0m\u001b[0mtau\u001b[0m\u001b[0;34m)\u001b[0m\u001b[0;34m\u001b[0m\u001b[0;34m\u001b[0m\u001b[0m\n",
      "\u001b[0;32m/Library/Frameworks/Python.framework/Versions/3.8/lib/python3.8/site-packages/pymc3/distributions/continuous.py\u001b[0m in \u001b[0;36mget_tau_sigma\u001b[0;34m(tau, sigma)\u001b[0m\n\u001b[1;32m    115\u001b[0m             \u001b[0mtau\u001b[0m \u001b[0;34m=\u001b[0m \u001b[0;36m1.\u001b[0m\u001b[0;34m\u001b[0m\u001b[0;34m\u001b[0m\u001b[0m\n\u001b[1;32m    116\u001b[0m         \u001b[0;32melse\u001b[0m\u001b[0;34m:\u001b[0m\u001b[0;34m\u001b[0m\u001b[0;34m\u001b[0m\u001b[0m\n\u001b[0;32m--> 117\u001b[0;31m             \u001b[0mtau\u001b[0m \u001b[0;34m=\u001b[0m \u001b[0msigma\u001b[0m\u001b[0;34m**\u001b[0m\u001b[0;34m-\u001b[0m\u001b[0;36m2.\u001b[0m\u001b[0;34m\u001b[0m\u001b[0;34m\u001b[0m\u001b[0m\n\u001b[0m\u001b[1;32m    118\u001b[0m \u001b[0;34m\u001b[0m\u001b[0m\n\u001b[1;32m    119\u001b[0m     \u001b[0;32melse\u001b[0m\u001b[0;34m:\u001b[0m\u001b[0;34m\u001b[0m\u001b[0;34m\u001b[0m\u001b[0m\n",
      "\u001b[0;31mTypeError\u001b[0m: unsupported operand type(s) for ** or pow(): 'list' and 'float'"
     ]
    }
   ],
   "source": [
    "# WORKS:\n",
    "\n",
    "with pm.Model() as model: \n",
    "    \n",
    "    # Define priors\n",
    "    #intercept = pm.Normal('Intercept', 0, sd=20)\n",
    "    beta = pm.Normal('beta', mu = [0], sd=10, shape = N_COMPONENTS)\n",
    "    alpha = pm.Normal('alpha', 0, sd=10, shape = 1)\n",
    "    #price_coef = pm.Normal('price', 0, sd=20)\n",
    "    \n",
    "    \n",
    "    #p = pm.math.sigmoid(X_train @ beta + )\n",
    "    p = pm.math.invlogit(X_train @ beta + alpha)\n",
    "    \n",
    "    \n",
    "    # Define likelihood\n",
    "    y = pm.Bernoulli('y', p, observed=y_train)\n",
    "    #WTP=pm.Deterministic('WTP',-x_coeff/price_coef)\n",
    "\n",
    "    # Inference!\n",
    "    trace = pm.sample(2000)\n",
    "    \n",
    "pm.traceplot(trace)"
   ]
  },
  {
   "cell_type": "code",
   "execution_count": 55,
   "metadata": {
    "ExecuteTime": {
     "end_time": "2020-01-22T17:56:31.045690Z",
     "start_time": "2020-01-22T17:56:04.785669Z"
    }
   },
   "outputs": [
    {
     "name": "stderr",
     "output_type": "stream",
     "text": [
      "Auto-assigning NUTS sampler...\n",
      "Initializing NUTS using jitter+adapt_diag...\n",
      "Multiprocess sampling (4 chains in 4 jobs)\n",
      "NUTS: [betas]\n",
      "Sampling 4 chains, 0 divergences: 100%|██████████| 10000/10000 [00:06<00:00, 1547.21draws/s]\n",
      "/Library/Frameworks/Python.framework/Versions/3.8/lib/python3.8/site-packages/arviz/plots/backends/matplotlib/distplot.py:36: UserWarning: Argument backend_kwargs has not effect in matplotlib.plot_distSupplied value won't be used\n",
      "  warnings.warn(\n"
     ]
    },
    {
     "data": {
      "text/plain": [
       "array([[<matplotlib.axes._subplots.AxesSubplot object at 0x136f796a0>,\n",
       "        <matplotlib.axes._subplots.AxesSubplot object at 0x13755b610>]],\n",
       "      dtype=object)"
      ]
     },
     "execution_count": 55,
     "metadata": {},
     "output_type": "execute_result"
    },
    {
     "data": {
      "image/png": "[encoded data removed]",
      "text/plain": [
       "<Figure size 864x144 with 2 Axes>"
      ]
     },
     "metadata": {
      "needs_background": "light"
     },
     "output_type": "display_data"
    }
   ],
   "source": [
    "traces = []\n",
    "\n",
    "with pm.Model() as model: \n",
    "    \n",
    "    # Define priors\n",
    "    #intercept = pm.Normal('Intercept', 0, sd=20)\n",
    "    #beta = pm.Normal('beta', mu = [0], sd=10, shape = N_COMPONENTS)\n",
    "    #alpha = pm.Normal('alpha', 0, sd=10, shape = 1)\n",
    "    #price_coef = pm.Normal('price', 0, sd=20)\n",
    "    \n",
    "    mu = np.zeros(3)\n",
    "    cov = np.identity(3) # gives 3x3 identity matrix\n",
    "    betas = pm.MvNormal('betas', mu = mu, cov = cov, shape = 3)\n",
    "    \n",
    "    \n",
    "    \n",
    "    #p = pm.math.sigmoid(X_train @ beta + )\n",
    "    p = pm.math.invlogit(X_train_with_intercept @ betas)\n",
    "    \n",
    "    \n",
    "    # Define likelihood\n",
    "    y = pm.Bernoulli('y', p, observed=y_train)\n",
    "    #WTP=pm.Deterministic('WTP',-x_coeff/price_coef)\n",
    "\n",
    "    # Inference!\n",
    "    trace = pm.sample(2000)\n",
    "    \n",
    "pm.traceplot(trace)"
   ]
  },
  {
   "cell_type": "code",
   "execution_count": null,
   "metadata": {},
   "outputs": [],
   "source": []
  },
  {
   "cell_type": "code",
   "execution_count": 34,
   "metadata": {
    "ExecuteTime": {
     "end_time": "2020-01-22T17:42:36.542924Z",
     "start_time": "2020-01-22T17:42:36.535834Z"
    }
   },
   "outputs": [
    {
     "name": "stdout",
     "output_type": "stream",
     "text": [
      "Help on class Normal in module pymc3.distributions.continuous:\n",
      "\n",
      "class Normal(pymc3.distributions.distribution.Continuous)\n",
      " |  Normal(name, *args, **kwargs)\n",
      " |  \n",
      " |  Univariate normal log-likelihood.\n",
      " |  \n",
      " |  The pdf of this distribution is\n",
      " |  \n",
      " |  .. math::\n",
      " |  \n",
      " |     f(x \\mid \\mu, \\tau) =\n",
      " |         \\sqrt{\\frac{\\tau}{2\\pi}}\n",
      " |         \\exp\\left\\{ -\\frac{\\tau}{2} (x-\\mu)^2 \\right\\}\n",
      " |  \n",
      " |  Normal distribution can be parameterized either in terms of precision\n",
      " |  or standard deviation. The link between the two parametrizations is\n",
      " |  given by\n",
      " |  \n",
      " |  .. math::\n",
      " |  \n",
      " |     \\tau = \\dfrac{1}{\\sigma^2}\n",
      " |  \n",
      " |  .. plot::\n",
      " |  \n",
      " |      import matplotlib.pyplot as plt\n",
      " |      import numpy as np\n",
      " |      import scipy.stats as st\n",
      " |      plt.style.use('seaborn-darkgrid')\n",
      " |      x = np.linspace(-5, 5, 1000)\n",
      " |      mus = [0., 0., 0., -2.]\n",
      " |      sigmas = [0.4, 1., 2., 0.4]\n",
      " |      for mu, sigma in zip(mus, sigmas):\n",
      " |          pdf = st.norm.pdf(x, mu, sigma)\n",
      " |          plt.plot(x, pdf, label=r'$\\mu$ = {}, $\\sigma$ = {}'.format(mu, sigma))\n",
      " |      plt.xlabel('x', fontsize=12)\n",
      " |      plt.ylabel('f(x)', fontsize=12)\n",
      " |      plt.legend(loc=1)\n",
      " |      plt.show()\n",
      " |  \n",
      " |  ========  ==========================================\n",
      " |  Support   :math:`x \\in \\mathbb{R}`\n",
      " |  Mean      :math:`\\mu`\n",
      " |  Variance  :math:`\\dfrac{1}{\\tau}` or :math:`\\sigma^2`\n",
      " |  ========  ==========================================\n",
      " |  \n",
      " |  Parameters\n",
      " |  ----------\n",
      " |  mu: float\n",
      " |      Mean.\n",
      " |  sigma: float\n",
      " |      Standard deviation (sigma > 0) (only required if tau is not specified).\n",
      " |  tau: float\n",
      " |      Precision (tau > 0) (only required if sigma is not specified).\n",
      " |  \n",
      " |  Examples\n",
      " |  --------\n",
      " |  .. code-block:: python\n",
      " |  \n",
      " |      with pm.Model():\n",
      " |          x = pm.Normal('x', mu=0, sigma=10)\n",
      " |  \n",
      " |      with pm.Model():\n",
      " |          x = pm.Normal('x', mu=0, tau=1/23)\n",
      " |  \n",
      " |  Method resolution order:\n",
      " |      Normal\n",
      " |      pymc3.distributions.distribution.Continuous\n",
      " |      pymc3.distributions.distribution.Distribution\n",
      " |      builtins.object\n",
      " |  \n",
      " |  Methods defined here:\n",
      " |  \n",
      " |  __init__(self, mu=0, sigma=None, tau=None, sd=None, **kwargs)\n",
      " |      Initialize self.  See help(type(self)) for accurate signature.\n",
      " |  \n",
      " |  logcdf(self, value)\n",
      " |      Compute the log of the cumulative distribution function for Normal distribution\n",
      " |      at the specified value.\n",
      " |      \n",
      " |      Parameters\n",
      " |      ----------\n",
      " |      value: numeric\n",
      " |          Value(s) for which log CDF is calculated. If the log CDF for multiple\n",
      " |          values are desired the values must be provided in a numpy array or theano tensor.\n",
      " |      \n",
      " |      Returns\n",
      " |      -------\n",
      " |      TensorVariable\n",
      " |  \n",
      " |  logp(self, value)\n",
      " |      Calculate log-probability of Normal distribution at specified value.\n",
      " |      \n",
      " |      Parameters\n",
      " |      ----------\n",
      " |      value: numeric\n",
      " |          Value(s) for which log-probability is calculated. If the log probabilities for multiple\n",
      " |          values are desired the values must be provided in a numpy array or theano tensor\n",
      " |      \n",
      " |      Returns\n",
      " |      -------\n",
      " |      TensorVariable\n",
      " |  \n",
      " |  random(self, point=None, size=None)\n",
      " |      Draw random values from Normal distribution.\n",
      " |      \n",
      " |      Parameters\n",
      " |      ----------\n",
      " |      point: dict, optional\n",
      " |          Dict of variable values on which random values are to be\n",
      " |          conditioned (uses default point if not specified).\n",
      " |      size: int, optional\n",
      " |          Desired size of random sample (returns one sample if not\n",
      " |          specified).\n",
      " |      \n",
      " |      Returns\n",
      " |      -------\n",
      " |      array\n",
      " |  \n",
      " |  ----------------------------------------------------------------------\n",
      " |  Data and other attributes defined here:\n",
      " |  \n",
      " |  __slotnames__ = []\n",
      " |  \n",
      " |  data = None\n",
      " |  \n",
      " |  ----------------------------------------------------------------------\n",
      " |  Methods inherited from pymc3.distributions.distribution.Distribution:\n",
      " |  \n",
      " |  __getnewargs__(self)\n",
      " |  \n",
      " |  __latex__ = _repr_latex_(self, name=None, dist=None)\n",
      " |      Magic method name for IPython to use for LaTeX formatting.\n",
      " |  \n",
      " |  default(self)\n",
      " |  \n",
      " |  get_test_val(self, val, defaults)\n",
      " |  \n",
      " |  getattr_value(self, val)\n",
      " |  \n",
      " |  logp_nojac(self, *args, **kwargs)\n",
      " |      Return the logp, but do not include a jacobian term for transforms.\n",
      " |      \n",
      " |      If we use different parametrizations for the same distribution, we\n",
      " |      need to add the determinant of the jacobian of the transformation\n",
      " |      to make sure the densities still describe the same distribution.\n",
      " |      However, MAP estimates are not invariant with respect to the\n",
      " |      parametrization, we need to exclude the jacobian terms in this case.\n",
      " |      \n",
      " |      This function should be overwritten in base classes for transformed\n",
      " |      distributions.\n",
      " |  \n",
      " |  logp_sum(self, *args, **kwargs)\n",
      " |      Return the sum of the logp values for the given observations.\n",
      " |      \n",
      " |      Subclasses can use this to improve the speed of logp evaluations\n",
      " |      if only the sum of the logp values is needed.\n",
      " |  \n",
      " |  ----------------------------------------------------------------------\n",
      " |  Class methods inherited from pymc3.distributions.distribution.Distribution:\n",
      " |  \n",
      " |  dist(*args, **kwargs) from builtins.type\n",
      " |  \n",
      " |  ----------------------------------------------------------------------\n",
      " |  Static methods inherited from pymc3.distributions.distribution.Distribution:\n",
      " |  \n",
      " |  __new__(cls, name, *args, **kwargs)\n",
      " |      Create and return a new object.  See help(type) for accurate signature.\n",
      " |  \n",
      " |  ----------------------------------------------------------------------\n",
      " |  Data descriptors inherited from pymc3.distributions.distribution.Distribution:\n",
      " |  \n",
      " |  __dict__\n",
      " |      dictionary for instance variables (if defined)\n",
      " |  \n",
      " |  __weakref__\n",
      " |      list of weak references to the object (if defined)\n",
      "\n"
     ]
    }
   ],
   "source": [
    "help(pm.Normal)"
   ]
  },
  {
   "cell_type": "code",
   "execution_count": 27,
   "metadata": {
    "ExecuteTime": {
     "end_time": "2020-01-22T17:24:41.586031Z",
     "start_time": "2020-01-22T17:24:41.578704Z"
    }
   },
   "outputs": [
    {
     "data": {
      "text/plain": [
       "0   -1.019562\n",
       "1    0.367327\n",
       "dtype: float64"
      ]
     },
     "execution_count": 27,
     "metadata": {},
     "output_type": "execute_result"
    }
   ],
   "source": [
    "import pandas as pd\n",
    "pd.DataFrame(trace['beta']).mean(axis=0)"
   ]
  },
  {
   "cell_type": "code",
   "execution_count": 14,
   "metadata": {
    "ExecuteTime": {
     "end_time": "2020-01-22T16:54:38.848903Z",
     "start_time": "2020-01-22T16:54:37.648639Z"
    }
   },
   "outputs": [
    {
     "data": {
      "text/plain": [
       "array([<matplotlib.axes._subplots.AxesSubplot object at 0x12c219340>,\n",
       "       <matplotlib.axes._subplots.AxesSubplot object at 0x12c236580>,\n",
       "       <matplotlib.axes._subplots.AxesSubplot object at 0x12c26d5e0>],\n",
       "      dtype=object)"
      ]
     },
     "execution_count": 14,
     "metadata": {},
     "output_type": "execute_result"
    },
    {
     "data": {
      "image/png": "[encoded data removed]",
      "text/plain": [
       "<Figure size 1490.4x331.2 with 3 Axes>"
      ]
     },
     "metadata": {
      "needs_background": "light"
     },
     "output_type": "display_data"
    }
   ],
   "source": [
    "pm.plot_posterior(trace)"
   ]
  },
  {
   "cell_type": "code",
   "execution_count": 15,
   "metadata": {
    "ExecuteTime": {
     "end_time": "2020-01-22T16:55:36.965039Z",
     "start_time": "2020-01-22T16:55:36.958208Z"
    }
   },
   "outputs": [
    {
     "name": "stdout",
     "output_type": "stream",
     "text": [
      "[array([[-0.98447627,  0.35392307]]), array([0.24018707])]\n",
      "0.8524590163934426\n"
     ]
    }
   ],
   "source": [
    "lr = LogisticRegression(solver='liblinear', max_iter=1000)\n",
    "lr.fit(X_train, y_train)\n",
    "\n",
    "\n",
    "print([lr.coef_, lr.intercept_])\n",
    "accuracy = sum(lr.predict(X_test) == y_test) / len(y_test)\n",
    "print(accuracy)\n"
   ]
  },
  {
   "cell_type": "code",
   "execution_count": null,
   "metadata": {},
   "outputs": [],
   "source": []
  },
  {
   "cell_type": "code",
   "execution_count": 44,
   "metadata": {
    "ExecuteTime": {
     "end_time": "2020-01-22T16:13:17.870381Z",
     "start_time": "2020-01-22T16:13:17.821970Z"
    }
   },
   "outputs": [
    {
     "ename": "NameError",
     "evalue": "name 'x_train' is not defined",
     "output_type": "error",
     "traceback": [
      "\u001b[0;31m---------------------------------------------------------------------------\u001b[0m",
      "\u001b[0;31mNameError\u001b[0m                                 Traceback (most recent call last)",
      "\u001b[0;32m<ipython-input-44-80784060c951>\u001b[0m in \u001b[0;36m<module>\u001b[0;34m\u001b[0m\n\u001b[0;32m----> 1\u001b[0;31m \u001b[0mx_train\u001b[0m\u001b[0;34m\u001b[0m\u001b[0m\n\u001b[0m",
      "\u001b[0;31mNameError\u001b[0m: name 'x_train' is not defined"
     ]
    }
   ],
   "source": [
    "lr = LogisticRegression()\n",
    "bayes_lr.coef = 2\n",
    "bayes_lr.intercept = 1"
   ]
  },
  {
   "cell_type": "code",
   "execution_count": 30,
   "metadata": {
    "ExecuteTime": {
     "end_time": "2020-01-22T17:27:26.961313Z",
     "start_time": "2020-01-22T17:27:26.956383Z"
    }
   },
   "outputs": [
    {
     "data": {
      "text/plain": [
       "array([-1.01956158,  0.36732687])"
      ]
     },
     "execution_count": 30,
     "metadata": {},
     "output_type": "execute_result"
    }
   ],
   "source": []
  },
  {
   "cell_type": "code",
   "execution_count": 52,
   "metadata": {
    "ExecuteTime": {
     "end_time": "2020-01-22T16:23:54.349990Z",
     "start_time": "2020-01-22T16:23:54.346226Z"
    }
   },
   "outputs": [],
   "source": [
    "import math\n",
    "\n",
    "def sigmoid(x):\n",
    "  return(1 / (1 + math.exp(-x)))"
   ]
  },
  {
   "cell_type": "code",
   "execution_count": 53,
   "metadata": {
    "ExecuteTime": {
     "end_time": "2020-01-22T16:23:55.144572Z",
     "start_time": "2020-01-22T16:23:55.124950Z"
    }
   },
   "outputs": [
    {
     "ename": "TypeError",
     "evalue": "only size-1 arrays can be converted to Python scalars",
     "output_type": "error",
     "traceback": [
      "\u001b[0;31m---------------------------------------------------------------------------\u001b[0m",
      "\u001b[0;31mTypeError\u001b[0m                                 Traceback (most recent call last)",
      "\u001b[0;32m<ipython-input-53-b43e06e321e9>\u001b[0m in \u001b[0;36m<module>\u001b[0;34m\u001b[0m\n\u001b[0;32m----> 1\u001b[0;31m \u001b[0msigmoid\u001b[0m\u001b[0;34m(\u001b[0m\u001b[0;36m2e-05\u001b[0m \u001b[0;34m*\u001b[0m \u001b[0mX_train\u001b[0m \u001b[0;34m+\u001b[0m \u001b[0;36m0.17\u001b[0m\u001b[0;34m)\u001b[0m\u001b[0;34m\u001b[0m\u001b[0m\n\u001b[0m",
      "\u001b[0;32m<ipython-input-52-99e7dec48069>\u001b[0m in \u001b[0;36msigmoid\u001b[0;34m(x)\u001b[0m\n\u001b[1;32m      2\u001b[0m \u001b[0;34m\u001b[0m\u001b[0m\n\u001b[1;32m      3\u001b[0m \u001b[0;32mdef\u001b[0m \u001b[0msigmoid\u001b[0m\u001b[0;34m(\u001b[0m\u001b[0mx\u001b[0m\u001b[0;34m)\u001b[0m\u001b[0;34m:\u001b[0m\u001b[0;34m\u001b[0m\u001b[0m\n\u001b[0;32m----> 4\u001b[0;31m   \u001b[0;32mreturn\u001b[0m\u001b[0;34m(\u001b[0m\u001b[0;36m1\u001b[0m \u001b[0;34m/\u001b[0m \u001b[0;34m(\u001b[0m\u001b[0;36m1\u001b[0m \u001b[0;34m+\u001b[0m \u001b[0mmath\u001b[0m\u001b[0;34m.\u001b[0m\u001b[0mexp\u001b[0m\u001b[0;34m(\u001b[0m\u001b[0;34m-\u001b[0m\u001b[0mx\u001b[0m\u001b[0;34m)\u001b[0m\u001b[0;34m)\u001b[0m\u001b[0;34m)\u001b[0m\u001b[0;34m\u001b[0m\u001b[0m\n\u001b[0m",
      "\u001b[0;31mTypeError\u001b[0m: only size-1 arrays can be converted to Python scalars"
     ]
    }
   ],
   "source": [
    "sigmoid(2e-05 * X_train + 0.17)"
   ]
  },
  {
   "cell_type": "code",
   "execution_count": 62,
   "metadata": {
    "ExecuteTime": {
     "end_time": "2020-01-22T16:28:14.309358Z",
     "start_time": "2020-01-22T16:28:14.305227Z"
    }
   },
   "outputs": [],
   "source": [
    "def predict(X, betas):\n",
    "    Xb = np.array(X) * betas[1] + betas[0]\n",
    "    return 1. / (1 + np.exp(-Xb))"
   ]
  },
  {
   "cell_type": "code",
   "execution_count": 63,
   "metadata": {
    "ExecuteTime": {
     "end_time": "2020-01-22T16:28:14.800106Z",
     "start_time": "2020-01-22T16:28:14.790131Z"
    }
   },
   "outputs": [
    {
     "data": {
      "text/plain": [
       "array([[0.54240552],\n",
       "       [0.54239125],\n",
       "       [0.54238428],\n",
       "       [0.54238539],\n",
       "       [0.54239102],\n",
       "       [0.54239506],\n",
       "       [0.54238837],\n",
       "       [0.54239027],\n",
       "       [0.54238626],\n",
       "       [0.54240323],\n",
       "       [0.5423911 ],\n",
       "       [0.54238471],\n",
       "       [0.54239964],\n",
       "       [0.54238906],\n",
       "       [0.54239423],\n",
       "       [0.54240365],\n",
       "       [0.54238758],\n",
       "       [0.54240203],\n",
       "       [0.54239778],\n",
       "       [0.54238986],\n",
       "       [0.54238857],\n",
       "       [0.54239107],\n",
       "       [0.54239351],\n",
       "       [0.54238221],\n",
       "       [0.54239773],\n",
       "       [0.54238306],\n",
       "       [0.54239294],\n",
       "       [0.54239354],\n",
       "       [0.54238564],\n",
       "       [0.54239638],\n",
       "       [0.54238918],\n",
       "       [0.54239007],\n",
       "       [0.54239019],\n",
       "       [0.54239162],\n",
       "       [0.54240199],\n",
       "       [0.5423963 ],\n",
       "       [0.54238447],\n",
       "       [0.54238479],\n",
       "       [0.54238684],\n",
       "       [0.54239215],\n",
       "       [0.54238753],\n",
       "       [0.54238676],\n",
       "       [0.54239843],\n",
       "       [0.54238966],\n",
       "       [0.54238594],\n",
       "       [0.54238596],\n",
       "       [0.54238563],\n",
       "       [0.54238522],\n",
       "       [0.54239085],\n",
       "       [0.54239241],\n",
       "       [0.54239974],\n",
       "       [0.54238817],\n",
       "       [0.54238514],\n",
       "       [0.54239072],\n",
       "       [0.54238345],\n",
       "       [0.54238719],\n",
       "       [0.54240224],\n",
       "       [0.54239619],\n",
       "       [0.54238034],\n",
       "       [0.54239015],\n",
       "       [0.54239049],\n",
       "       [0.54239416],\n",
       "       [0.54239742],\n",
       "       [0.5423893 ],\n",
       "       [0.54238443],\n",
       "       [0.54240494],\n",
       "       [0.54238309],\n",
       "       [0.54238606],\n",
       "       [0.54240465],\n",
       "       [0.54239587],\n",
       "       [0.54240416],\n",
       "       [0.54239764],\n",
       "       [0.54239166],\n",
       "       [0.54239373],\n",
       "       [0.54239793],\n",
       "       [0.54239009],\n",
       "       [0.54239102],\n",
       "       [0.54240247],\n",
       "       [0.54239832],\n",
       "       [0.54238902],\n",
       "       [0.54238983],\n",
       "       [0.54239022],\n",
       "       [0.54240889],\n",
       "       [0.54238606],\n",
       "       [0.54238557],\n",
       "       [0.54239904],\n",
       "       [0.54240298],\n",
       "       [0.54239772],\n",
       "       [0.54238639],\n",
       "       [0.54239354],\n",
       "       [0.54239586],\n",
       "       [0.54239306],\n",
       "       [0.54238626],\n",
       "       [0.54238197],\n",
       "       [0.5424053 ],\n",
       "       [0.54238152],\n",
       "       [0.54239759],\n",
       "       [0.54240282],\n",
       "       [0.54238823],\n",
       "       [0.54238443],\n",
       "       [0.54238021],\n",
       "       [0.54238806],\n",
       "       [0.54238753],\n",
       "       [0.54239202],\n",
       "       [0.54238666],\n",
       "       [0.54239101],\n",
       "       [0.54238412],\n",
       "       [0.54239045],\n",
       "       [0.5423892 ],\n",
       "       [0.54240891],\n",
       "       [0.54241169],\n",
       "       [0.54238616],\n",
       "       [0.54239415],\n",
       "       [0.54238946],\n",
       "       [0.54239106],\n",
       "       [0.54239886],\n",
       "       [0.54238895],\n",
       "       [0.5423843 ],\n",
       "       [0.54238556],\n",
       "       [0.5424023 ],\n",
       "       [0.54239956],\n",
       "       [0.54239633],\n",
       "       [0.54239714],\n",
       "       [0.54238439],\n",
       "       [0.54240558],\n",
       "       [0.54239305],\n",
       "       [0.54238868],\n",
       "       [0.54238612],\n",
       "       [0.54238199],\n",
       "       [0.54238771],\n",
       "       [0.54238771],\n",
       "       [0.54241043],\n",
       "       [0.54241474],\n",
       "       [0.54240807],\n",
       "       [0.54240793],\n",
       "       [0.54239573],\n",
       "       [0.54239617],\n",
       "       [0.54239979],\n",
       "       [0.54241372],\n",
       "       [0.54240319],\n",
       "       [0.54238846],\n",
       "       [0.54241035],\n",
       "       [0.54241189],\n",
       "       [0.54241069],\n",
       "       [0.54241088],\n",
       "       [0.54238793],\n",
       "       [0.5424049 ],\n",
       "       [0.54240896],\n",
       "       [0.54238879],\n",
       "       [0.542403  ],\n",
       "       [0.54241346],\n",
       "       [0.54239342],\n",
       "       [0.54240684],\n",
       "       [0.54241426],\n",
       "       [0.54240799],\n",
       "       [0.54241441],\n",
       "       [0.5424109 ],\n",
       "       [0.54239924],\n",
       "       [0.54240659],\n",
       "       [0.5423988 ],\n",
       "       [0.54238662],\n",
       "       [0.54240459],\n",
       "       [0.54241131],\n",
       "       [0.54241216],\n",
       "       [0.54239893],\n",
       "       [0.54240971],\n",
       "       [0.54240865],\n",
       "       [0.54240658],\n",
       "       [0.54239971],\n",
       "       [0.54240351],\n",
       "       [0.54241327],\n",
       "       [0.54240846],\n",
       "       [0.54241049],\n",
       "       [0.54240174],\n",
       "       [0.54241276],\n",
       "       [0.54241348],\n",
       "       [0.54240075],\n",
       "       [0.54241195],\n",
       "       [0.54240933],\n",
       "       [0.54238549],\n",
       "       [0.54241238],\n",
       "       [0.54241044],\n",
       "       [0.54240494],\n",
       "       [0.54240799],\n",
       "       [0.54239979],\n",
       "       [0.54239745],\n",
       "       [0.54240704],\n",
       "       [0.54239739],\n",
       "       [0.54239699],\n",
       "       [0.54241066],\n",
       "       [0.54241435],\n",
       "       [0.54241331],\n",
       "       [0.54241058],\n",
       "       [0.54239397],\n",
       "       [0.54240983],\n",
       "       [0.54241709],\n",
       "       [0.54241099],\n",
       "       [0.54240568],\n",
       "       [0.54240541],\n",
       "       [0.54239329],\n",
       "       [0.54241462],\n",
       "       [0.54240943],\n",
       "       [0.54240103],\n",
       "       [0.54240719],\n",
       "       [0.54241079],\n",
       "       [0.54238839],\n",
       "       [0.54241455],\n",
       "       [0.54240128],\n",
       "       [0.54239558],\n",
       "       [0.54240646],\n",
       "       [0.54239209],\n",
       "       [0.54240846],\n",
       "       [0.54241001],\n",
       "       [0.54240323],\n",
       "       [0.54240418],\n",
       "       [0.54239597],\n",
       "       [0.54241085],\n",
       "       [0.54239456],\n",
       "       [0.54238922],\n",
       "       [0.54240819],\n",
       "       [0.54240911],\n",
       "       [0.5424043 ],\n",
       "       [0.54240712],\n",
       "       [0.54239281],\n",
       "       [0.54240491],\n",
       "       [0.54241244],\n",
       "       [0.54239204],\n",
       "       [0.54238807],\n",
       "       [0.54241178],\n",
       "       [0.54240918],\n",
       "       [0.54239732],\n",
       "       [0.54240861],\n",
       "       [0.54241353],\n",
       "       [0.54240493],\n",
       "       [0.54240476],\n",
       "       [0.5424085 ],\n",
       "       [0.54239938],\n",
       "       [0.54241305],\n",
       "       [0.54240754],\n",
       "       [0.54240465],\n",
       "       [0.54241304],\n",
       "       [0.54241107]])"
      ]
     },
     "execution_count": 63,
     "metadata": {},
     "output_type": "execute_result"
    }
   ],
   "source": [
    "predict(X_train, [0.17, 2e-05])"
   ]
  },
  {
   "cell_type": "code",
   "execution_count": null,
   "metadata": {},
   "outputs": [],
   "source": []
  }
 ],
 "metadata": {
  "hide_input": false,
  "kernelspec": {
   "display_name": "Python 3",
   "language": "python",
   "name": "python3"
  },
  "language_info": {
   "codemirror_mode": {
    "name": "ipython",
    "version": 3
   },
   "file_extension": ".py",
   "mimetype": "text/x-python",
   "name": "python",
   "nbconvert_exporter": "python",
   "pygments_lexer": "ipython3",
   "version": "3.8.0"
  },
  "varInspector": {
   "cols": {
    "lenName": 16,
    "lenType": 16,
    "lenVar": 40
   },
   "kernels_config": {
    "python": {
     "delete_cmd_postfix": "",
     "delete_cmd_prefix": "del ",
     "library": "var_list.py",
     "varRefreshCmd": "print(var_dic_list())"
    },
    "r": {
     "delete_cmd_postfix": ") ",
     "delete_cmd_prefix": "rm(",
     "library": "var_list.r",
     "varRefreshCmd": "cat(var_dic_list()) "
    }
   },
   "types_to_exclude": [
    "module",
    "function",
    "builtin_function_or_method",
    "instance",
    "_Feature"
   ],
   "window_display": false
  }
 },
 "nbformat": 4,
 "nbformat_minor": 2
}
