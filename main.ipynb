{
 "cells": [
  {
   "cell_type": "code",
   "execution_count": 66,
   "metadata": {
    "ExecuteTime": {
     "end_time": "2019-10-24T11:27:47.667841Z",
     "start_time": "2019-10-24T11:27:47.658371Z"
    }
   },
   "outputs": [],
   "source": [
    "import experiment\n",
    "import census_import\n",
    "\n",
    "import importlib\n",
    "importlib.reload(experiment)\n",
    "importlib.reload(census_import)\n",
    "\n",
    "from experiment import Experiment\n",
    "from census_import import get_census_data\n",
    "\n",
    "import pandas as pd\n",
    "import numpy as np"
   ]
  },
  {
   "cell_type": "code",
   "execution_count": 63,
   "metadata": {
    "ExecuteTime": {
     "end_time": "2019-10-24T11:24:14.702239Z",
     "start_time": "2019-10-24T11:24:13.939331Z"
    }
   },
   "outputs": [
    {
     "name": "stderr",
     "output_type": "stream",
     "text": [
      "/Users/andreasopsahlferstad/privacy_active_learning/census_import.py:14: ParserWarning: Falling back to the 'python' engine because the 'c' engine does not support regex separators (separators > 1 char and different from '\\s+' are interpreted as regex); you can avoid this warning by specifying engine='python'.\n",
      "  na_values='?')\n",
      "/Users/andreasopsahlferstad/privacy_active_learning/census_import.py:19: ParserWarning: Falling back to the 'python' engine because the 'c' engine does not support regex separators (separators > 1 char and different from '\\s+' are interpreted as regex); you can avoid this warning by specifying engine='python'.\n",
      "  na_values='?')\n"
     ]
    }
   ],
   "source": [
    "census, census_with_dummies = get_census_data('input_data/adult.data', 'input_data/adult.test')"
   ]
  },
  {
   "cell_type": "code",
   "execution_count": 68,
   "metadata": {
    "ExecuteTime": {
     "end_time": "2019-10-24T11:29:26.508229Z",
     "start_time": "2019-10-24T11:28:05.741963Z"
    }
   },
   "outputs": [
    {
     "name": "stdout",
     "output_type": "stream",
     "text": [
      "0\n",
      "1\n",
      "2\n",
      "3\n",
      "4\n",
      "5\n",
      "6\n",
      "7\n",
      "8\n",
      "9\n",
      "10\n",
      "11\n",
      "12\n",
      "13\n",
      "14\n",
      "15\n",
      "16\n",
      "17\n",
      "18\n",
      "19\n"
     ]
    }
   ],
   "source": [
    "experiments = []\n",
    "initial_accuracy = []\n",
    "final_accuracy = []\n",
    "for i in range(20):\n",
    "    print(i)\n",
    "    experiments.append(Experiment(census_with_dummies, seed=i))\n",
    "    experiments[i].run_experiment()\n",
    "    initial_accuracy.append(experiments[i].model_initial_accuracy)\n",
    "    final_accuracy.append(experiments[i].model_final_accuracy)"
   ]
  },
  {
   "cell_type": "code",
   "execution_count": 69,
   "metadata": {
    "ExecuteTime": {
     "end_time": "2019-10-24T11:29:27.162426Z",
     "start_time": "2019-10-24T11:29:27.154414Z"
    }
   },
   "outputs": [
    {
     "data": {
      "text/plain": [
       "count    20.000000\n",
       "mean      0.027358\n",
       "std       0.011955\n",
       "min       0.007030\n",
       "25%       0.019707\n",
       "50%       0.026174\n",
       "75%       0.035319\n",
       "max       0.053099\n",
       "dtype: float64"
      ]
     },
     "execution_count": 69,
     "metadata": {},
     "output_type": "execute_result"
    }
   ],
   "source": [
    "accuracy_increases = pd.Series(final_accuracy) - pd.Series(initial_accuracy)\n",
    "accuracy_increases.describe()"
   ]
  },
  {
   "cell_type": "code",
   "execution_count": null,
   "metadata": {},
   "outputs": [],
   "source": []
  }
 ],
 "metadata": {
  "hide_input": false,
  "kernelspec": {
   "display_name": "Python 3",
   "language": "python",
   "name": "python3"
  },
  "language_info": {
   "codemirror_mode": {
    "name": "ipython",
    "version": 3
   },
   "file_extension": ".py",
   "mimetype": "text/x-python",
   "name": "python",
   "nbconvert_exporter": "python",
   "pygments_lexer": "ipython3",
   "version": "3.6.4"
  },
  "varInspector": {
   "cols": {
    "lenName": 16,
    "lenType": 16,
    "lenVar": 40
   },
   "kernels_config": {
    "python": {
     "delete_cmd_postfix": "",
     "delete_cmd_prefix": "del ",
     "library": "var_list.py",
     "varRefreshCmd": "print(var_dic_list())"
    },
    "r": {
     "delete_cmd_postfix": ") ",
     "delete_cmd_prefix": "rm(",
     "library": "var_list.r",
     "varRefreshCmd": "cat(var_dic_list()) "
    }
   },
   "types_to_exclude": [
    "module",
    "function",
    "builtin_function_or_method",
    "instance",
    "_Feature"
   ],
   "window_display": false
  }
 },
 "nbformat": 4,
 "nbformat_minor": 2
}
