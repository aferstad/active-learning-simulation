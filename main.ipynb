{
 "cells": [
  {
   "cell_type": "code",
   "execution_count": 94,
   "metadata": {
    "ExecuteTime": {
     "end_time": "2019-10-22T13:03:07.618152Z",
     "start_time": "2019-10-22T13:03:07.591871Z"
    }
   },
   "outputs": [],
   "source": [
    "# LOAD LIBRARIES\n",
    "import numpy as np  # linear algebra\n",
    "import pandas as pd  # data processing, CSV file I/O (e.g. pd.read_csv)\n",
    "import random\n",
    "\n",
    "\n",
    "# Load libraries for Decision Tree\n",
    "import pandas as pd\n",
    "from sklearn.tree import DecisionTreeClassifier  # Import Decision Tree Classifier\n",
    "from sklearn.model_selection import train_test_split  # Import train_test_split function\n",
    "from sklearn import metrics  #Import scikit-learn metrics module for accuracy calculation\n",
    "from sklearn.preprocessing import scale\n",
    "\n",
    "# Load libraries for Decision Tree Model Plot\n",
    "from sklearn.tree import export_graphviz\n",
    "from sklearn.externals.six import StringIO\n",
    "from IPython.display import Image\n",
    "import pydotplus\n",
    "\n",
    "# Load libaries for various model performance metrics\n",
    "from sklearn.metrics import f1_score, roc_curve, roc_auc_score, confusion_matrix, average_precision_score, precision_recall_curve\n",
    "from matplotlib import pyplot as plt\n",
    "from inspect import signature\n",
    "\n",
    "# Load libaries for logistic regression\n",
    "from matplotlib import pyplot as plt\n",
    "from sklearn.linear_model import LogisticRegression\n",
    "import seaborn as sns\n",
    "sns.set()\n",
    "#from sklearn.model_selection import train_test_split\n",
    "from sklearn.metrics import confusion_matrix\n",
    "import pandas as pd\n",
    "\n",
    "from scipy.spatial import distance\n"
   ]
  },
  {
   "cell_type": "code",
   "execution_count": 143,
   "metadata": {
    "ExecuteTime": {
     "end_time": "2019-10-22T13:27:03.030036Z",
     "start_time": "2019-10-22T13:27:02.931720Z"
    }
   },
   "outputs": [],
   "source": [
    "def get_census_data(path_train, path_test):\n",
    "    # import:\n",
    "    columns = [\n",
    "        \"age\", \"workClass\", \"fnlwgt\", \"education\", \"education-num\",\n",
    "        \"marital-status\", \"occupation\", \"relationship\", \"race\", \"sex\",\n",
    "        \"capital-gain\", \"capital-loss\", \"hours-per-week\", \"native-country\",\n",
    "        \"income\"\n",
    "    ]\n",
    "    census_train = pd.read_csv(path_train,\n",
    "                               names=columns,\n",
    "                               sep=' *, *',\n",
    "                               na_values='?')\n",
    "    census_test = pd.read_csv(path_test,\n",
    "                              names=columns,\n",
    "                              sep=' *, *',\n",
    "                              skiprows=1,\n",
    "                              na_values='?')\n",
    "\n",
    "    census = pd.concat([census_train, census_test], axis=0)\n",
    "\n",
    "    # clean:\n",
    "    census['income'] = census['income'].map(lambda x: x.replace('.', ''))\n",
    "\n",
    "    census['income_over_50K'] = None\n",
    "    census.loc[census.income == '<=50K', 'income_over_50K'] = 0\n",
    "    census.loc[census.income == '>50K', 'income_over_50K'] = 1\n",
    "\n",
    "    income_over_50K = census.income_over_50K\n",
    "    census = census.drop(columns=['income_over_50K', 'income'])\n",
    "    census.insert(0, 'income_over_50K', income_over_50K)\n",
    "\n",
    "    census = census.drop(columns = ['fnlwgt']) # does not have anything to do with data\n",
    "\n",
    "    # Making native-country to country_USA feature instead:\n",
    "    census['country_USA'] = 0\n",
    "    census.loc[census['native-country'] == 'United-States', 'country_USA'] = 1\n",
    "    census = census.drop(columns=['native-country'])\n",
    "    \n",
    "    census = census.reset_index().drop(columns=['index'])\n",
    "    \n",
    "    census_with_dummies = pd.get_dummies(data= census,columns=census.select_dtypes(include=['object']).columns,drop_first=True)\n",
    "\n",
    "    return census, census_with_dummies\n",
    "\n",
    "def explore_data(data, label):\n",
    "    num_attributes = data.select_dtypes(include=['int'])\n",
    "    print('Numerical features: ' + str(num_attributes.columns))\n",
    "\n",
    "    num_attributes.hist(figsize=(10,10))\n",
    "\n",
    "    print(data.describe())\n",
    "\n",
    "    cat_attributes = data.select_dtypes(include=['object'])\n",
    "    print('Categorical features: ' + str(cat_attributes.columns))\n",
    "\n",
    "    for column in cat_attributes:\n",
    "        if column != 'income':\n",
    "            sns.countplot(y=column, hue=data[label], data = cat_attributes)\n",
    "            plt.show()"
   ]
  },
  {
   "cell_type": "code",
   "execution_count": 144,
   "metadata": {
    "ExecuteTime": {
     "end_time": "2019-10-22T13:27:07.680960Z",
     "start_time": "2019-10-22T13:27:06.576839Z"
    }
   },
   "outputs": [
    {
     "name": "stderr",
     "output_type": "stream",
     "text": [
      "/anaconda3/lib/python3.6/site-packages/ipykernel_launcher.py:12: ParserWarning: Falling back to the 'python' engine because the 'c' engine does not support regex separators (separators > 1 char and different from '\\s+' are interpreted as regex); you can avoid this warning by specifying engine='python'.\n",
      "  if sys.path[0] == '':\n",
      "/anaconda3/lib/python3.6/site-packages/ipykernel_launcher.py:17: ParserWarning: Falling back to the 'python' engine because the 'c' engine does not support regex separators (separators > 1 char and different from '\\s+' are interpreted as regex); you can avoid this warning by specifying engine='python'.\n"
     ]
    },
    {
     "name": "stdout",
     "output_type": "stream",
     "text": [
      "5\n"
     ]
    }
   ],
   "source": [
    "census, census_with_dummies = get_census_data('adult.data', 'adult.test')\n",
    "\n",
    "print(census_with_dummies.shape[0] - census_with_dummies.drop(census_with_dummies.sample(n=5).index, axis = 0).shape[0])\n"
   ]
  },
  {
   "cell_type": "code",
   "execution_count": 147,
   "metadata": {
    "ExecuteTime": {
     "end_time": "2019-10-22T13:27:31.128703Z",
     "start_time": "2019-10-22T13:27:31.113463Z"
    }
   },
   "outputs": [],
   "source": [
    "FRACTIONS = {\n",
    "    'labeled_keep': 0.25,\n",
    "    'labeled_delete': 0.1,\n",
    "    'unlabeled': 0.4,\n",
    "    'unknown': 0.25\n",
    "}\n",
    "\n",
    "def divide_data(unsplit_data, fractions = FRACTIONS):\n",
    "    \n",
    "    split_data = {}\n",
    "    \n",
    "    n_rows = unsplit_data.shape[0]\n",
    "    remaining = unsplit_data.copy()\n",
    "\n",
    "    for key in fractions:\n",
    "        n_rows_key = int(np.floor(fractions[key] * n_rows))\n",
    "        split_data[key] = remaining.sample(n=n_rows_key)\n",
    "        \n",
    "        remaining = remaining.drop(split_data[key].index)\n",
    "        \n",
    "    return split_data\n",
    "    "
   ]
  },
  {
   "cell_type": "code",
   "execution_count": 149,
   "metadata": {
    "ExecuteTime": {
     "end_time": "2019-10-22T13:27:40.362512Z",
     "start_time": "2019-10-22T13:27:40.301435Z"
    }
   },
   "outputs": [
    {
     "data": {
      "text/html": [
       "<div>\n",
       "<style scoped>\n",
       "    .dataframe tbody tr th:only-of-type {\n",
       "        vertical-align: middle;\n",
       "    }\n",
       "\n",
       "    .dataframe tbody tr th {\n",
       "        vertical-align: top;\n",
       "    }\n",
       "\n",
       "    .dataframe thead th {\n",
       "        text-align: right;\n",
       "    }\n",
       "</style>\n",
       "<table border=\"1\" class=\"dataframe\">\n",
       "  <thead>\n",
       "    <tr style=\"text-align: right;\">\n",
       "      <th></th>\n",
       "      <th>income_over_50K</th>\n",
       "      <th>age</th>\n",
       "      <th>education-num</th>\n",
       "      <th>capital-gain</th>\n",
       "      <th>capital-loss</th>\n",
       "      <th>hours-per-week</th>\n",
       "      <th>country_USA</th>\n",
       "      <th>workClass_Local-gov</th>\n",
       "      <th>workClass_Never-worked</th>\n",
       "      <th>workClass_Private</th>\n",
       "      <th>...</th>\n",
       "      <th>relationship_Not-in-family</th>\n",
       "      <th>relationship_Other-relative</th>\n",
       "      <th>relationship_Own-child</th>\n",
       "      <th>relationship_Unmarried</th>\n",
       "      <th>relationship_Wife</th>\n",
       "      <th>race_Asian-Pac-Islander</th>\n",
       "      <th>race_Black</th>\n",
       "      <th>race_Other</th>\n",
       "      <th>race_White</th>\n",
       "      <th>sex_Male</th>\n",
       "    </tr>\n",
       "  </thead>\n",
       "  <tbody>\n",
       "    <tr>\n",
       "      <th>26182</th>\n",
       "      <td>1</td>\n",
       "      <td>44</td>\n",
       "      <td>13</td>\n",
       "      <td>0</td>\n",
       "      <td>2258</td>\n",
       "      <td>40</td>\n",
       "      <td>1</td>\n",
       "      <td>0</td>\n",
       "      <td>0</td>\n",
       "      <td>0</td>\n",
       "      <td>...</td>\n",
       "      <td>1</td>\n",
       "      <td>0</td>\n",
       "      <td>0</td>\n",
       "      <td>0</td>\n",
       "      <td>0</td>\n",
       "      <td>0</td>\n",
       "      <td>0</td>\n",
       "      <td>0</td>\n",
       "      <td>1</td>\n",
       "      <td>1</td>\n",
       "    </tr>\n",
       "    <tr>\n",
       "      <th>47992</th>\n",
       "      <td>0</td>\n",
       "      <td>20</td>\n",
       "      <td>7</td>\n",
       "      <td>0</td>\n",
       "      <td>0</td>\n",
       "      <td>40</td>\n",
       "      <td>1</td>\n",
       "      <td>0</td>\n",
       "      <td>0</td>\n",
       "      <td>1</td>\n",
       "      <td>...</td>\n",
       "      <td>0</td>\n",
       "      <td>0</td>\n",
       "      <td>1</td>\n",
       "      <td>0</td>\n",
       "      <td>0</td>\n",
       "      <td>0</td>\n",
       "      <td>1</td>\n",
       "      <td>0</td>\n",
       "      <td>0</td>\n",
       "      <td>1</td>\n",
       "    </tr>\n",
       "    <tr>\n",
       "      <th>27266</th>\n",
       "      <td>0</td>\n",
       "      <td>46</td>\n",
       "      <td>10</td>\n",
       "      <td>0</td>\n",
       "      <td>0</td>\n",
       "      <td>48</td>\n",
       "      <td>1</td>\n",
       "      <td>0</td>\n",
       "      <td>0</td>\n",
       "      <td>1</td>\n",
       "      <td>...</td>\n",
       "      <td>0</td>\n",
       "      <td>0</td>\n",
       "      <td>0</td>\n",
       "      <td>0</td>\n",
       "      <td>0</td>\n",
       "      <td>0</td>\n",
       "      <td>0</td>\n",
       "      <td>0</td>\n",
       "      <td>1</td>\n",
       "      <td>1</td>\n",
       "    </tr>\n",
       "    <tr>\n",
       "      <th>17392</th>\n",
       "      <td>0</td>\n",
       "      <td>59</td>\n",
       "      <td>9</td>\n",
       "      <td>0</td>\n",
       "      <td>0</td>\n",
       "      <td>40</td>\n",
       "      <td>1</td>\n",
       "      <td>0</td>\n",
       "      <td>0</td>\n",
       "      <td>1</td>\n",
       "      <td>...</td>\n",
       "      <td>1</td>\n",
       "      <td>0</td>\n",
       "      <td>0</td>\n",
       "      <td>0</td>\n",
       "      <td>0</td>\n",
       "      <td>0</td>\n",
       "      <td>0</td>\n",
       "      <td>0</td>\n",
       "      <td>1</td>\n",
       "      <td>0</td>\n",
       "    </tr>\n",
       "    <tr>\n",
       "      <th>3386</th>\n",
       "      <td>0</td>\n",
       "      <td>38</td>\n",
       "      <td>9</td>\n",
       "      <td>3464</td>\n",
       "      <td>0</td>\n",
       "      <td>40</td>\n",
       "      <td>0</td>\n",
       "      <td>0</td>\n",
       "      <td>0</td>\n",
       "      <td>1</td>\n",
       "      <td>...</td>\n",
       "      <td>0</td>\n",
       "      <td>0</td>\n",
       "      <td>0</td>\n",
       "      <td>0</td>\n",
       "      <td>0</td>\n",
       "      <td>0</td>\n",
       "      <td>0</td>\n",
       "      <td>0</td>\n",
       "      <td>1</td>\n",
       "      <td>1</td>\n",
       "    </tr>\n",
       "  </tbody>\n",
       "</table>\n",
       "<p>5 rows × 58 columns</p>\n",
       "</div>"
      ],
      "text/plain": [
       "       income_over_50K  age  education-num  capital-gain  capital-loss  \\\n",
       "26182                1   44             13             0          2258   \n",
       "47992                0   20              7             0             0   \n",
       "27266                0   46             10             0             0   \n",
       "17392                0   59              9             0             0   \n",
       "3386                 0   38              9          3464             0   \n",
       "\n",
       "       hours-per-week  country_USA  workClass_Local-gov  \\\n",
       "26182              40            1                    0   \n",
       "47992              40            1                    0   \n",
       "27266              48            1                    0   \n",
       "17392              40            1                    0   \n",
       "3386               40            0                    0   \n",
       "\n",
       "       workClass_Never-worked  workClass_Private    ...     \\\n",
       "26182                       0                  0    ...      \n",
       "47992                       0                  1    ...      \n",
       "27266                       0                  1    ...      \n",
       "17392                       0                  1    ...      \n",
       "3386                        0                  1    ...      \n",
       "\n",
       "       relationship_Not-in-family  relationship_Other-relative  \\\n",
       "26182                           1                            0   \n",
       "47992                           0                            0   \n",
       "27266                           0                            0   \n",
       "17392                           1                            0   \n",
       "3386                            0                            0   \n",
       "\n",
       "       relationship_Own-child  relationship_Unmarried  relationship_Wife  \\\n",
       "26182                       0                       0                  0   \n",
       "47992                       1                       0                  0   \n",
       "27266                       0                       0                  0   \n",
       "17392                       0                       0                  0   \n",
       "3386                        0                       0                  0   \n",
       "\n",
       "       race_Asian-Pac-Islander  race_Black  race_Other  race_White  sex_Male  \n",
       "26182                        0           0           0           1         1  \n",
       "47992                        0           1           0           0         1  \n",
       "27266                        0           0           0           1         1  \n",
       "17392                        0           0           0           1         0  \n",
       "3386                         0           0           0           1         1  \n",
       "\n",
       "[5 rows x 58 columns]"
      ]
     },
     "execution_count": 149,
     "metadata": {},
     "output_type": "execute_result"
    }
   ],
   "source": [
    "split_data = divide_data(census_with_dummies, FRACTIONS)\n",
    "split_data['labeled_keep'].head()"
   ]
  },
  {
   "cell_type": "code",
   "execution_count": 153,
   "metadata": {
    "ExecuteTime": {
     "end_time": "2019-10-22T13:29:59.346848Z",
     "start_time": "2019-10-22T13:29:59.339918Z"
    }
   },
   "outputs": [],
   "source": [
    "labeled = pd.concat([split_data['labeled_keep'], split_data['labeled_delete']], axis=0)\n",
    "y = labeled.iloc[:, 0]\n",
    "X = labeled.drop(labeled.columns[0], axis=1)"
   ]
  },
  {
   "cell_type": "code",
   "execution_count": 158,
   "metadata": {
    "ExecuteTime": {
     "end_time": "2019-10-22T13:36:46.659235Z",
     "start_time": "2019-10-22T13:35:46.953268Z"
    }
   },
   "outputs": [
    {
     "name": "stdout",
     "output_type": "stream",
     "text": [
      "k = 1\n",
      "k = 11\n",
      "k = 21\n",
      "k = 31\n",
      "k = 41\n",
      "k = 51\n",
      "k = 61\n",
      "k = 71\n",
      "k = 81\n",
      "k = 91\n"
     ]
    },
    {
     "data": {
      "image/png": "[encoded data removed]",
      "text/plain": [
       "<matplotlib.figure.Figure at 0x1a1f13c240>"
      ]
     },
     "metadata": {},
     "output_type": "display_data"
    }
   ],
   "source": [
    "import matplotlib.pyplot as plt \n",
    "from sklearn.cross_validation import cross_val_score\n",
    "from sklearn.neighbors import KNeighborsClassifier\n",
    "\n",
    "# choose k between 1 to 31\n",
    "k_range = range(1, 100, 10)\n",
    "k_scores = []\n",
    "\n",
    "# use iteration to caclulator different k in models, then return the average accuracy based on the cross validation\n",
    "for k in k_range:\n",
    "    print('k = ' + str(k))\n",
    "    knn = KNeighborsClassifier(n_neighbors=k)\n",
    "    scores = cross_val_score(knn, X, y, cv=5, scoring='accuracy')\n",
    "    k_scores.append(scores.mean())\n",
    "# plot to see clearly\n",
    "plt.plot(k_range, k_scores)\n",
    "plt.xlabel('Value of K for KNN')\n",
    "plt.ylabel('Cross-Validated Accuracy')\n",
    "plt.show()"
   ]
  },
  {
   "cell_type": "code",
   "execution_count": 157,
   "metadata": {
    "ExecuteTime": {
     "end_time": "2019-10-22T13:35:19.668943Z",
     "start_time": "2019-10-22T13:35:19.657846Z"
    }
   },
   "outputs": [],
   "source": [
    "def KNN_cv(labeled, k_range = range(1, 31, 3)):\n",
    "    k_scores = []\n",
    "\n",
    "    # use iteration to caclulator different k in models, then return the average accuracy based on the cross validation\n",
    "    for k in k_range:\n",
    "        print('k = ' + str(k))\n",
    "        knn = KNeighborsClassifier(n_neighbors=k)\n",
    "        scores = cross_val_score(knn, X, y, cv=5, scoring='accuracy')\n",
    "        k_scores.append(scores.mean())\n",
    "    # plot to see clearly\n",
    "    plt.plot(k_range, k_scores)\n",
    "    plt.xlabel('Value of K for KNN')\n",
    "    plt.ylabel('Cross-Validated Accuracy')\n",
    "    plt.show()"
   ]
  },
  {
   "cell_type": "code",
   "execution_count": null,
   "metadata": {},
   "outputs": [],
   "source": []
  }
 ],
 "metadata": {
  "hide_input": false,
  "kernelspec": {
   "display_name": "Python 3",
   "language": "python",
   "name": "python3"
  },
  "language_info": {
   "codemirror_mode": {
    "name": "ipython",
    "version": 3
   },
   "file_extension": ".py",
   "mimetype": "text/x-python",
   "name": "python",
   "nbconvert_exporter": "python",
   "pygments_lexer": "ipython3",
   "version": "3.6.4"
  },
  "varInspector": {
   "cols": {
    "lenName": 16,
    "lenType": 16,
    "lenVar": 40
   },
   "kernels_config": {
    "python": {
     "delete_cmd_postfix": "",
     "delete_cmd_prefix": "del ",
     "library": "var_list.py",
     "varRefreshCmd": "print(var_dic_list())"
    },
    "r": {
     "delete_cmd_postfix": ") ",
     "delete_cmd_prefix": "rm(",
     "library": "var_list.r",
     "varRefreshCmd": "cat(var_dic_list()) "
    }
   },
   "types_to_exclude": [
    "module",
    "function",
    "builtin_function_or_method",
    "instance",
    "_Feature"
   ],
   "window_display": false
  }
 },
 "nbformat": 4,
 "nbformat_minor": 2
}
