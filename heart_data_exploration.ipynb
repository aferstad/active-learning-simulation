{
 "cells": [
  {
   "cell_type": "code",
   "execution_count": 186,
   "metadata": {
    "ExecuteTime": {
     "end_time": "2020-03-14T11:33:31.250977Z",
     "start_time": "2020-03-14T11:33:31.247700Z"
    }
   },
   "outputs": [],
   "source": [
    "import pandas as pd"
   ]
  },
  {
   "cell_type": "code",
   "execution_count": 187,
   "metadata": {
    "ExecuteTime": {
     "end_time": "2020-03-14T11:33:31.628175Z",
     "start_time": "2020-03-14T11:33:31.620402Z"
    }
   },
   "outputs": [],
   "source": [
    "df = pd.read_csv('input/heart/processed.cleveland.data', header = None)\n",
    "df.columns = ['age',\n",
    "    'sex',\n",
    "    'cp',\n",
    "    'trestbps',\n",
    "    'chol',\n",
    "    'fbs',\n",
    "    'restecg',\n",
    "    'thalach',\n",
    "    'exang',\n",
    "    'oldpeak',\n",
    "    'slope',\n",
    "    'ca',\n",
    "    'thal',\n",
    "    'disease_presence']"
   ]
  },
  {
   "cell_type": "code",
   "execution_count": 188,
   "metadata": {
    "ExecuteTime": {
     "end_time": "2020-03-14T11:33:32.101645Z",
     "start_time": "2020-03-14T11:33:32.072060Z"
    }
   },
   "outputs": [
    {
     "data": {
      "text/html": [
       "<div>\n",
       "<style scoped>\n",
       "    .dataframe tbody tr th:only-of-type {\n",
       "        vertical-align: middle;\n",
       "    }\n",
       "\n",
       "    .dataframe tbody tr th {\n",
       "        vertical-align: top;\n",
       "    }\n",
       "\n",
       "    .dataframe thead th {\n",
       "        text-align: right;\n",
       "    }\n",
       "</style>\n",
       "<table border=\"1\" class=\"dataframe\">\n",
       "  <thead>\n",
       "    <tr style=\"text-align: right;\">\n",
       "      <th></th>\n",
       "      <th>disease_presence</th>\n",
       "      <th>age</th>\n",
       "      <th>sex</th>\n",
       "      <th>cp</th>\n",
       "      <th>trestbps</th>\n",
       "      <th>chol</th>\n",
       "      <th>fbs</th>\n",
       "      <th>restecg</th>\n",
       "      <th>thalach</th>\n",
       "      <th>exang</th>\n",
       "      <th>oldpeak</th>\n",
       "      <th>slope</th>\n",
       "      <th>ca</th>\n",
       "      <th>thal</th>\n",
       "    </tr>\n",
       "  </thead>\n",
       "  <tbody>\n",
       "    <tr>\n",
       "      <th>0</th>\n",
       "      <td>0</td>\n",
       "      <td>63.0</td>\n",
       "      <td>1.0</td>\n",
       "      <td>1.0</td>\n",
       "      <td>145.0</td>\n",
       "      <td>233.0</td>\n",
       "      <td>1.0</td>\n",
       "      <td>2.0</td>\n",
       "      <td>150.0</td>\n",
       "      <td>0.0</td>\n",
       "      <td>2.3</td>\n",
       "      <td>3.0</td>\n",
       "      <td>0.0</td>\n",
       "      <td>6.0</td>\n",
       "    </tr>\n",
       "    <tr>\n",
       "      <th>1</th>\n",
       "      <td>1</td>\n",
       "      <td>67.0</td>\n",
       "      <td>1.0</td>\n",
       "      <td>4.0</td>\n",
       "      <td>160.0</td>\n",
       "      <td>286.0</td>\n",
       "      <td>0.0</td>\n",
       "      <td>2.0</td>\n",
       "      <td>108.0</td>\n",
       "      <td>1.0</td>\n",
       "      <td>1.5</td>\n",
       "      <td>2.0</td>\n",
       "      <td>3.0</td>\n",
       "      <td>3.0</td>\n",
       "    </tr>\n",
       "    <tr>\n",
       "      <th>2</th>\n",
       "      <td>1</td>\n",
       "      <td>67.0</td>\n",
       "      <td>1.0</td>\n",
       "      <td>4.0</td>\n",
       "      <td>120.0</td>\n",
       "      <td>229.0</td>\n",
       "      <td>0.0</td>\n",
       "      <td>2.0</td>\n",
       "      <td>129.0</td>\n",
       "      <td>1.0</td>\n",
       "      <td>2.6</td>\n",
       "      <td>2.0</td>\n",
       "      <td>2.0</td>\n",
       "      <td>7.0</td>\n",
       "    </tr>\n",
       "    <tr>\n",
       "      <th>3</th>\n",
       "      <td>0</td>\n",
       "      <td>37.0</td>\n",
       "      <td>1.0</td>\n",
       "      <td>3.0</td>\n",
       "      <td>130.0</td>\n",
       "      <td>250.0</td>\n",
       "      <td>0.0</td>\n",
       "      <td>0.0</td>\n",
       "      <td>187.0</td>\n",
       "      <td>0.0</td>\n",
       "      <td>3.5</td>\n",
       "      <td>3.0</td>\n",
       "      <td>0.0</td>\n",
       "      <td>3.0</td>\n",
       "    </tr>\n",
       "    <tr>\n",
       "      <th>4</th>\n",
       "      <td>0</td>\n",
       "      <td>41.0</td>\n",
       "      <td>0.0</td>\n",
       "      <td>2.0</td>\n",
       "      <td>130.0</td>\n",
       "      <td>204.0</td>\n",
       "      <td>0.0</td>\n",
       "      <td>2.0</td>\n",
       "      <td>172.0</td>\n",
       "      <td>0.0</td>\n",
       "      <td>1.4</td>\n",
       "      <td>1.0</td>\n",
       "      <td>0.0</td>\n",
       "      <td>3.0</td>\n",
       "    </tr>\n",
       "    <tr>\n",
       "      <th>...</th>\n",
       "      <td>...</td>\n",
       "      <td>...</td>\n",
       "      <td>...</td>\n",
       "      <td>...</td>\n",
       "      <td>...</td>\n",
       "      <td>...</td>\n",
       "      <td>...</td>\n",
       "      <td>...</td>\n",
       "      <td>...</td>\n",
       "      <td>...</td>\n",
       "      <td>...</td>\n",
       "      <td>...</td>\n",
       "      <td>...</td>\n",
       "      <td>...</td>\n",
       "    </tr>\n",
       "    <tr>\n",
       "      <th>298</th>\n",
       "      <td>1</td>\n",
       "      <td>45.0</td>\n",
       "      <td>1.0</td>\n",
       "      <td>1.0</td>\n",
       "      <td>110.0</td>\n",
       "      <td>264.0</td>\n",
       "      <td>0.0</td>\n",
       "      <td>0.0</td>\n",
       "      <td>132.0</td>\n",
       "      <td>0.0</td>\n",
       "      <td>1.2</td>\n",
       "      <td>2.0</td>\n",
       "      <td>0.0</td>\n",
       "      <td>7.0</td>\n",
       "    </tr>\n",
       "    <tr>\n",
       "      <th>299</th>\n",
       "      <td>1</td>\n",
       "      <td>68.0</td>\n",
       "      <td>1.0</td>\n",
       "      <td>4.0</td>\n",
       "      <td>144.0</td>\n",
       "      <td>193.0</td>\n",
       "      <td>1.0</td>\n",
       "      <td>0.0</td>\n",
       "      <td>141.0</td>\n",
       "      <td>0.0</td>\n",
       "      <td>3.4</td>\n",
       "      <td>2.0</td>\n",
       "      <td>2.0</td>\n",
       "      <td>7.0</td>\n",
       "    </tr>\n",
       "    <tr>\n",
       "      <th>300</th>\n",
       "      <td>1</td>\n",
       "      <td>57.0</td>\n",
       "      <td>1.0</td>\n",
       "      <td>4.0</td>\n",
       "      <td>130.0</td>\n",
       "      <td>131.0</td>\n",
       "      <td>0.0</td>\n",
       "      <td>0.0</td>\n",
       "      <td>115.0</td>\n",
       "      <td>1.0</td>\n",
       "      <td>1.2</td>\n",
       "      <td>2.0</td>\n",
       "      <td>1.0</td>\n",
       "      <td>7.0</td>\n",
       "    </tr>\n",
       "    <tr>\n",
       "      <th>301</th>\n",
       "      <td>1</td>\n",
       "      <td>57.0</td>\n",
       "      <td>0.0</td>\n",
       "      <td>2.0</td>\n",
       "      <td>130.0</td>\n",
       "      <td>236.0</td>\n",
       "      <td>0.0</td>\n",
       "      <td>2.0</td>\n",
       "      <td>174.0</td>\n",
       "      <td>0.0</td>\n",
       "      <td>0.0</td>\n",
       "      <td>2.0</td>\n",
       "      <td>1.0</td>\n",
       "      <td>3.0</td>\n",
       "    </tr>\n",
       "    <tr>\n",
       "      <th>302</th>\n",
       "      <td>0</td>\n",
       "      <td>38.0</td>\n",
       "      <td>1.0</td>\n",
       "      <td>3.0</td>\n",
       "      <td>138.0</td>\n",
       "      <td>175.0</td>\n",
       "      <td>0.0</td>\n",
       "      <td>0.0</td>\n",
       "      <td>173.0</td>\n",
       "      <td>0.0</td>\n",
       "      <td>0.0</td>\n",
       "      <td>1.0</td>\n",
       "      <td>?</td>\n",
       "      <td>3.0</td>\n",
       "    </tr>\n",
       "  </tbody>\n",
       "</table>\n",
       "<p>303 rows × 14 columns</p>\n",
       "</div>"
      ],
      "text/plain": [
       "     disease_presence   age  sex   cp  trestbps   chol  fbs  restecg  thalach  \\\n",
       "0                   0  63.0  1.0  1.0     145.0  233.0  1.0      2.0    150.0   \n",
       "1                   1  67.0  1.0  4.0     160.0  286.0  0.0      2.0    108.0   \n",
       "2                   1  67.0  1.0  4.0     120.0  229.0  0.0      2.0    129.0   \n",
       "3                   0  37.0  1.0  3.0     130.0  250.0  0.0      0.0    187.0   \n",
       "4                   0  41.0  0.0  2.0     130.0  204.0  0.0      2.0    172.0   \n",
       "..                ...   ...  ...  ...       ...    ...  ...      ...      ...   \n",
       "298                 1  45.0  1.0  1.0     110.0  264.0  0.0      0.0    132.0   \n",
       "299                 1  68.0  1.0  4.0     144.0  193.0  1.0      0.0    141.0   \n",
       "300                 1  57.0  1.0  4.0     130.0  131.0  0.0      0.0    115.0   \n",
       "301                 1  57.0  0.0  2.0     130.0  236.0  0.0      2.0    174.0   \n",
       "302                 0  38.0  1.0  3.0     138.0  175.0  0.0      0.0    173.0   \n",
       "\n",
       "     exang  oldpeak  slope   ca thal  \n",
       "0      0.0      2.3    3.0  0.0  6.0  \n",
       "1      1.0      1.5    2.0  3.0  3.0  \n",
       "2      1.0      2.6    2.0  2.0  7.0  \n",
       "3      0.0      3.5    3.0  0.0  3.0  \n",
       "4      0.0      1.4    1.0  0.0  3.0  \n",
       "..     ...      ...    ...  ...  ...  \n",
       "298    0.0      1.2    2.0  0.0  7.0  \n",
       "299    0.0      3.4    2.0  2.0  7.0  \n",
       "300    1.0      1.2    2.0  1.0  7.0  \n",
       "301    0.0      0.0    2.0  1.0  3.0  \n",
       "302    0.0      0.0    1.0    ?  3.0  \n",
       "\n",
       "[303 rows x 14 columns]"
      ]
     },
     "execution_count": 188,
     "metadata": {},
     "output_type": "execute_result"
    }
   ],
   "source": [
    " # move label column to first position:\n",
    "disease_presence = df.disease_presence\n",
    "\n",
    "\n",
    "\n",
    "df = df.drop(columns=['disease_presence'])\n",
    "df.insert(0, 'disease_presence', disease_presence)\n",
    "df.loc[df.disease_presence > 0, 'disease_presence'] = 1  # convert presence to 0 or 1\n",
    "\n",
    "# rest index to make sure index is unique:\n",
    "df = df.reset_index().drop(columns=['index'])\n",
    "\n",
    "df"
   ]
  },
  {
   "cell_type": "code",
   "execution_count": null,
   "metadata": {},
   "outputs": [],
   "source": []
  },
  {
   "cell_type": "code",
   "execution_count": 189,
   "metadata": {
    "ExecuteTime": {
     "end_time": "2020-03-14T11:33:36.535148Z",
     "start_time": "2020-03-14T11:33:36.523406Z"
    }
   },
   "outputs": [],
   "source": [
    "df_with_dummies = pd.get_dummies(df, columns=['cp','restecg','slope', 'ca', 'thal'], drop_first=True)"
   ]
  },
  {
   "cell_type": "code",
   "execution_count": 183,
   "metadata": {
    "ExecuteTime": {
     "end_time": "2020-03-14T11:32:13.623950Z",
     "start_time": "2020-03-14T11:32:13.619470Z"
    }
   },
   "outputs": [
    {
     "data": {
      "text/plain": [
       "23"
      ]
     },
     "execution_count": 183,
     "metadata": {},
     "output_type": "execute_result"
    }
   ],
   "source": [
    "len(df_with_dummies.columns)"
   ]
  },
  {
   "cell_type": "code",
   "execution_count": 184,
   "metadata": {
    "ExecuteTime": {
     "end_time": "2020-03-14T11:32:14.580641Z",
     "start_time": "2020-03-14T11:32:14.576136Z"
    }
   },
   "outputs": [
    {
     "data": {
      "text/plain": [
       "4"
      ]
     },
     "execution_count": 184,
     "metadata": {},
     "output_type": "execute_result"
    }
   ],
   "source": [
    "sum(df_with_dummies['ca_?'])"
   ]
  },
  {
   "cell_type": "code",
   "execution_count": 173,
   "metadata": {
    "ExecuteTime": {
     "end_time": "2020-03-14T11:26:26.089340Z",
     "start_time": "2020-03-14T11:26:26.082981Z"
    }
   },
   "outputs": [
    {
     "data": {
      "text/plain": [
       "0    188\n",
       "1    106\n",
       "Name: disease_presence, dtype: int64"
      ]
     },
     "execution_count": 173,
     "metadata": {},
     "output_type": "execute_result"
    }
   ],
   "source": [
    "df_with_dummies.disease_presence.value_counts()"
   ]
  },
  {
   "cell_type": "code",
   "execution_count": 203,
   "metadata": {
    "ExecuteTime": {
     "end_time": "2020-03-14T11:37:59.133516Z",
     "start_time": "2020-03-14T11:37:50.486986Z"
    }
   },
   "outputs": [],
   "source": [
    "a = []\n",
    "for i in range(100):\n",
    "    \n",
    "\n",
    "    data = df_with_dummies\n",
    "    train = data.sample(n=30, random_state = i)\n",
    "\n",
    "    X = train.iloc[:,1:]\n",
    "    y = train.iloc[:,0]\n",
    "\n",
    "    test = data.drop(train.index)\n",
    "    X_test = test.iloc[:,1:]\n",
    "    y_test = test.iloc[:,0]\n",
    "\n",
    "    from sklearn.linear_model import LogisticRegression\n",
    "    lr = LogisticRegression(max_iter=10000)\n",
    "    lr.fit(X,y)\n",
    "\n",
    "    a.append(sum(lr.predict(X_test) == y_test) / len(y_test))"
   ]
  },
  {
   "cell_type": "code",
   "execution_count": 191,
   "metadata": {
    "ExecuteTime": {
     "end_time": "2020-03-14T11:35:03.207925Z",
     "start_time": "2020-03-14T11:34:48.796259Z"
    }
   },
   "outputs": [],
   "source": [
    "b = []\n",
    "for i in range(100):\n",
    "    \n",
    "\n",
    "    data = df_with_dummies\n",
    "    train = data.sample(n=100, random_state = i)\n",
    "\n",
    "    X = train.iloc[:,1:]\n",
    "    y = train.iloc[:,0]\n",
    "\n",
    "    test = data.drop(train.index)\n",
    "    X_test = test.iloc[:,1:]\n",
    "    y_test = test.iloc[:,0]\n",
    "\n",
    "    from sklearn.linear_model import LogisticRegression\n",
    "    lr = LogisticRegression(max_iter=10000)\n",
    "    lr.fit(X,y)\n",
    "\n",
    "    b.append(sum(lr.predict(X_test) == y_test) / len(y_test))"
   ]
  },
  {
   "cell_type": "code",
   "execution_count": 204,
   "metadata": {
    "ExecuteTime": {
     "end_time": "2020-03-14T11:38:00.144197Z",
     "start_time": "2020-03-14T11:38:00.139502Z"
    }
   },
   "outputs": [
    {
     "data": {
      "text/plain": [
       "0.7360805860805862"
      ]
     },
     "execution_count": 204,
     "metadata": {},
     "output_type": "execute_result"
    }
   ],
   "source": [
    "import numpy as np\n",
    "np.mean(a)"
   ]
  },
  {
   "cell_type": "code",
   "execution_count": 11,
   "metadata": {
    "ExecuteTime": {
     "end_time": "2020-03-14T11:03:06.642847Z",
     "start_time": "2020-03-14T11:03:06.637972Z"
    }
   },
   "outputs": [
    {
     "data": {
      "text/plain": [
       "\"\\n    age: age in years\\n    sex: sex (1 = male; 0 = female)\\n    cp: chest pain type\\n        -- Value 1: typical angina\\n        -- Value 2: atypical angina\\n        -- Value 3: non-anginal pain\\n        -- Value 4: asymptomatic\\n    trestbps: resting blood pressure (in mm Hg on admission to the \\n        hospital)\\n    chol: serum cholestoral in mg/dl\\n    fbs: (fasting blood sugar > 120 mg/dl)  (1 = true; 0 = false)\\n    restecg: resting electrocardiographic results\\n        -- Value 0: normal\\n        -- Value 1: having ST-T wave abnormality (T wave inversions and/or ST \\n                    elevation or depression of > 0.05 mV)\\n        -- Value 2: showing probable or definite left ventricular hypertrophy\\n                    by Estes' criteria\\n    thalach: maximum heart rate achieved\\n    exang: exercise induced angina (1 = yes; 0 = no)\\n    oldpeak = ST depression induced by exercise relative to rest\\n    slope: the slope of the peak exercise ST segment\\n        -- Value 1: upsloping\\n        -- Value 2: flat\\n        -- Value 3: downsloping\\n    ca: number of major vessels (0-3) colored by flourosopy\\n    thal: 3 = normal; 6 = fixed defect; 7 = reversable defect\\n    disease_presence:  integer valued from 0 (no presence) to 4\\n\""
      ]
     },
     "execution_count": 11,
     "metadata": {},
     "output_type": "execute_result"
    }
   ],
   "source": [
    "\"\"\"\n",
    "    age: age in years\n",
    "    sex: sex (1 = male; 0 = female)\n",
    "    cp: chest pain type\n",
    "        -- Value 1: typical angina\n",
    "        -- Value 2: atypical angina\n",
    "        -- Value 3: non-anginal pain\n",
    "        -- Value 4: asymptomatic\n",
    "    trestbps: resting blood pressure (in mm Hg on admission to the \n",
    "        hospital)\n",
    "    chol: serum cholestoral in mg/dl\n",
    "    fbs: (fasting blood sugar > 120 mg/dl)  (1 = true; 0 = false)\n",
    "    restecg: resting electrocardiographic results\n",
    "        -- Value 0: normal\n",
    "        -- Value 1: having ST-T wave abnormality (T wave inversions and/or ST \n",
    "                    elevation or depression of > 0.05 mV)\n",
    "        -- Value 2: showing probable or definite left ventricular hypertrophy\n",
    "                    by Estes' criteria\n",
    "    thalach: maximum heart rate achieved\n",
    "    exang: exercise induced angina (1 = yes; 0 = no)\n",
    "    oldpeak = ST depression induced by exercise relative to rest\n",
    "    slope: the slope of the peak exercise ST segment\n",
    "        -- Value 1: upsloping\n",
    "        -- Value 2: flat\n",
    "        -- Value 3: downsloping\n",
    "    ca: number of major vessels (0-3) colored by flourosopy\n",
    "    thal: 3 = normal; 6 = fixed defect; 7 = reversable defect\n",
    "    disease_presence:  integer valued from 0 (no presence) to 4\n",
    "\"\"\""
   ]
  },
  {
   "cell_type": "code",
   "execution_count": null,
   "metadata": {},
   "outputs": [],
   "source": []
  },
  {
   "cell_type": "code",
   "execution_count": 6,
   "metadata": {
    "ExecuteTime": {
     "end_time": "2020-03-14T10:53:46.948522Z",
     "start_time": "2020-03-14T10:53:46.944814Z"
    }
   },
   "outputs": [],
   "source": []
  },
  {
   "cell_type": "code",
   "execution_count": null,
   "metadata": {},
   "outputs": [],
   "source": []
  }
 ],
 "metadata": {
  "hide_input": false,
  "kernelspec": {
   "display_name": "Python 3",
   "language": "python",
   "name": "python3"
  },
  "language_info": {
   "codemirror_mode": {
    "name": "ipython",
    "version": 3
   },
   "file_extension": ".py",
   "mimetype": "text/x-python",
   "name": "python",
   "nbconvert_exporter": "python",
   "pygments_lexer": "ipython3",
   "version": "3.8.0"
  },
  "varInspector": {
   "cols": {
    "lenName": 16,
    "lenType": 16,
    "lenVar": 40
   },
   "kernels_config": {
    "python": {
     "delete_cmd_postfix": "",
     "delete_cmd_prefix": "del ",
     "library": "var_list.py",
     "varRefreshCmd": "print(var_dic_list())"
    },
    "r": {
     "delete_cmd_postfix": ") ",
     "delete_cmd_prefix": "rm(",
     "library": "var_list.r",
     "varRefreshCmd": "cat(var_dic_list()) "
    }
   },
   "types_to_exclude": [
    "module",
    "function",
    "builtin_function_or_method",
    "instance",
    "_Feature"
   ],
   "window_display": false
  }
 },
 "nbformat": 4,
 "nbformat_minor": 4
}
